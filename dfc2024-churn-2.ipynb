{
 "cells": [
  {
   "cell_type": "code",
   "execution_count": 1,
   "id": "b0446457",
   "metadata": {
    "_cell_guid": "b1076dfc-b9ad-4769-8c92-a6c4dae69d19",
    "_uuid": "8f2839f25d086af736a60e9eeb907d3b93b6e0e5",
    "execution": {
     "iopub.execute_input": "2024-07-19T09:30:53.929522Z",
     "iopub.status.busy": "2024-07-19T09:30:53.929215Z",
     "iopub.status.idle": "2024-07-19T09:30:55.830596Z",
     "shell.execute_reply": "2024-07-19T09:30:55.829645Z"
    },
    "papermill": {
     "duration": 1.922183,
     "end_time": "2024-07-19T09:30:55.833095",
     "exception": false,
     "start_time": "2024-07-19T09:30:53.910912",
     "status": "completed"
    },
    "tags": []
   },
   "outputs": [],
   "source": [
    "import pandas as pd\n",
    "import numpy as np\n",
    "from tqdm import tqdm\n",
    "import matplotlib.pyplot as plt\n",
    "import seaborn as sn"
   ]
  },
  {
   "cell_type": "code",
   "execution_count": 2,
   "id": "faa45e8f",
   "metadata": {
    "execution": {
     "iopub.execute_input": "2024-07-19T09:30:55.868853Z",
     "iopub.status.busy": "2024-07-19T09:30:55.868243Z",
     "iopub.status.idle": "2024-07-19T09:31:15.585136Z",
     "shell.execute_reply": "2024-07-19T09:31:15.583680Z"
    },
    "papermill": {
     "duration": 19.737296,
     "end_time": "2024-07-19T09:31:15.587655",
     "exception": false,
     "start_time": "2024-07-19T09:30:55.850359",
     "status": "completed"
    },
    "tags": []
   },
   "outputs": [],
   "source": [
    "%%capture\n",
    "! pip install duckdb scikit-survival"
   ]
  },
  {
   "cell_type": "code",
   "execution_count": 3,
   "id": "c7d779e9",
   "metadata": {
    "execution": {
     "iopub.execute_input": "2024-07-19T09:31:15.623866Z",
     "iopub.status.busy": "2024-07-19T09:31:15.623102Z",
     "iopub.status.idle": "2024-07-19T09:31:15.865033Z",
     "shell.execute_reply": "2024-07-19T09:31:15.863945Z"
    },
    "papermill": {
     "duration": 0.262862,
     "end_time": "2024-07-19T09:31:15.867465",
     "exception": false,
     "start_time": "2024-07-19T09:31:15.604603",
     "status": "completed"
    },
    "tags": []
   },
   "outputs": [],
   "source": [
    "import duckdb\n",
    "from collections import defaultdict\n",
    "from sksurv.metrics import concordance_index_censored\n",
    "def c_index(y, p):\n",
    "    name_event, name_time = y.dtype.names\n",
    "\n",
    "    result = concordance_index_censored(y[name_event], y[name_time], p)\n",
    "    return result[0]"
   ]
  },
  {
   "cell_type": "markdown",
   "id": "457595bd",
   "metadata": {
    "papermill": {
     "duration": 0.016239,
     "end_time": "2024-07-19T09:31:15.900911",
     "exception": false,
     "start_time": "2024-07-19T09:31:15.884672",
     "status": "completed"
    },
    "tags": []
   },
   "source": [
    "#### Load data"
   ]
  },
  {
   "cell_type": "code",
   "execution_count": 4,
   "id": "db55f381",
   "metadata": {
    "execution": {
     "iopub.execute_input": "2024-07-19T09:31:15.935967Z",
     "iopub.status.busy": "2024-07-19T09:31:15.935321Z",
     "iopub.status.idle": "2024-07-19T09:31:15.939501Z",
     "shell.execute_reply": "2024-07-19T09:31:15.938654Z"
    },
    "papermill": {
     "duration": 0.023724,
     "end_time": "2024-07-19T09:31:15.941498",
     "exception": false,
     "start_time": "2024-07-19T09:31:15.917774",
     "status": "completed"
    },
    "tags": []
   },
   "outputs": [],
   "source": [
    "path = '/kaggle/input/churn/'"
   ]
  },
  {
   "cell_type": "code",
   "execution_count": 5,
   "id": "dc87df02",
   "metadata": {
    "execution": {
     "iopub.execute_input": "2024-07-19T09:31:15.975989Z",
     "iopub.status.busy": "2024-07-19T09:31:15.975739Z",
     "iopub.status.idle": "2024-07-19T09:31:34.434870Z",
     "shell.execute_reply": "2024-07-19T09:31:34.433768Z"
    },
    "papermill": {
     "duration": 18.479188,
     "end_time": "2024-07-19T09:31:34.437419",
     "exception": false,
     "start_time": "2024-07-19T09:31:15.958231",
     "status": "completed"
    },
    "tags": []
   },
   "outputs": [],
   "source": [
    "clients = pd.read_csv(path + 'clients.csv')\n",
    "mcc_codes = pd.read_csv(path + 'mcc_codes.csv')\n",
    "report_dates = pd.read_csv(path + 'report_dates.csv')\n",
    "train = pd.read_csv(path + 'train.csv')\n",
    "currency = pd.read_csv(path + 'currency_rk.csv')\n",
    "sample_submission = pd.read_csv(path + 'sample_submit_naive.csv')\n",
    "transactions = pd.read_csv(path + 'transactions.csv')"
   ]
  },
  {
   "cell_type": "code",
   "execution_count": 6,
   "id": "d40a125a",
   "metadata": {
    "execution": {
     "iopub.execute_input": "2024-07-19T09:31:34.472275Z",
     "iopub.status.busy": "2024-07-19T09:31:34.471921Z",
     "iopub.status.idle": "2024-07-19T09:31:39.106242Z",
     "shell.execute_reply": "2024-07-19T09:31:39.104589Z"
    },
    "papermill": {
     "duration": 4.655348,
     "end_time": "2024-07-19T09:31:39.109683",
     "exception": false,
     "start_time": "2024-07-19T09:31:34.454335",
     "status": "completed"
    },
    "tags": []
   },
   "outputs": [],
   "source": [
    "transactions['transaction_dttm'] = pd.to_datetime(transactions['transaction_dttm'])\n",
    "report_dates['report_dt'] = pd.to_datetime(report_dates['report_dt'])"
   ]
  },
  {
   "cell_type": "code",
   "execution_count": 7,
   "id": "da5de420",
   "metadata": {
    "execution": {
     "iopub.execute_input": "2024-07-19T09:31:39.168272Z",
     "iopub.status.busy": "2024-07-19T09:31:39.167172Z",
     "iopub.status.idle": "2024-07-19T09:31:39.258237Z",
     "shell.execute_reply": "2024-07-19T09:31:39.257257Z"
    },
    "papermill": {
     "duration": 0.123139,
     "end_time": "2024-07-19T09:31:39.260624",
     "exception": false,
     "start_time": "2024-07-19T09:31:39.137485",
     "status": "completed"
    },
    "tags": []
   },
   "outputs": [],
   "source": [
    "t = duckdb.sql('''SELECT t1.*, t2.report_dt, t3.target, t3.time\n",
    "                FROM clients t1\n",
    "           LEFT JOIN report_dates t2 \n",
    "                  ON t1.report = t2.report\n",
    "           LEFT JOIN train t3\n",
    "                  ON t1.user_id = t3.user_id''').to_df()"
   ]
  },
  {
   "cell_type": "code",
   "execution_count": 8,
   "id": "dd0e7bb7",
   "metadata": {
    "execution": {
     "iopub.execute_input": "2024-07-19T09:31:39.296570Z",
     "iopub.status.busy": "2024-07-19T09:31:39.296253Z",
     "iopub.status.idle": "2024-07-19T09:31:39.301825Z",
     "shell.execute_reply": "2024-07-19T09:31:39.301132Z"
    },
    "papermill": {
     "duration": 0.024793,
     "end_time": "2024-07-19T09:31:39.303646",
     "exception": false,
     "start_time": "2024-07-19T09:31:39.278853",
     "status": "completed"
    },
    "tags": []
   },
   "outputs": [],
   "source": [
    "df = t.copy()"
   ]
  },
  {
   "cell_type": "markdown",
   "id": "98451104",
   "metadata": {
    "papermill": {
     "duration": 0.01642,
     "end_time": "2024-07-19T09:31:39.336903",
     "exception": false,
     "start_time": "2024-07-19T09:31:39.320483",
     "status": "completed"
    },
    "tags": []
   },
   "source": [
    "#### Досчитываем поля в transactions"
   ]
  },
  {
   "cell_type": "code",
   "execution_count": 9,
   "id": "7e0fc68b",
   "metadata": {
    "execution": {
     "iopub.execute_input": "2024-07-19T09:31:39.370847Z",
     "iopub.status.busy": "2024-07-19T09:31:39.370548Z",
     "iopub.status.idle": "2024-07-19T09:31:42.427519Z",
     "shell.execute_reply": "2024-07-19T09:31:42.426727Z"
    },
    "papermill": {
     "duration": 3.076627,
     "end_time": "2024-07-19T09:31:42.429817",
     "exception": false,
     "start_time": "2024-07-19T09:31:39.353190",
     "status": "completed"
    },
    "tags": []
   },
   "outputs": [],
   "source": [
    "transactions['day'] = transactions['transaction_dttm'].dt.floor('d')\n",
    "transactions['week'] = transactions['transaction_dttm'].to_numpy().astype('datetime64[W]')\n",
    "transactions['month'] = transactions['transaction_dttm'].to_numpy().astype('datetime64[M]')\n",
    "transactions['day_of_week'] = transactions['day'].dt.dayofweek\n",
    "transactions['hour'] = transactions['transaction_dttm'].dt.hour"
   ]
  },
  {
   "cell_type": "code",
   "execution_count": 10,
   "id": "ce2832fd",
   "metadata": {
    "execution": {
     "iopub.execute_input": "2024-07-19T09:31:42.464499Z",
     "iopub.status.busy": "2024-07-19T09:31:42.464198Z",
     "iopub.status.idle": "2024-07-19T09:31:50.105486Z",
     "shell.execute_reply": "2024-07-19T09:31:50.104476Z"
    },
    "papermill": {
     "duration": 7.661158,
     "end_time": "2024-07-19T09:31:50.108183",
     "exception": false,
     "start_time": "2024-07-19T09:31:42.447025",
     "status": "completed"
    },
    "tags": []
   },
   "outputs": [
    {
     "data": {
      "application/vnd.jupyter.widget-view+json": {
       "model_id": "f28ed38952284461b7f4634b9a604b3c",
       "version_major": 2,
       "version_minor": 0
      },
      "text/plain": [
       "FloatProgress(value=0.0, layout=Layout(width='auto'), style=ProgressStyle(bar_color='black'))"
      ]
     },
     "metadata": {},
     "output_type": "display_data"
    }
   ],
   "source": [
    "transactions = duckdb.sql(f'''SELECT t1.*, \n",
    "                                    t1.day - lag(t1.day) OVER(PARTITION BY t1.user_id ORDER BY t1.transaction_dttm) as days_lag, \n",
    "                                    t2.report_dt::date - t1.day as days_to_rep,\n",
    "                                    lead(t1.day) OVER(PARTITION BY t1.user_id ORDER BY t1.transaction_dttm) - t1.day as days_lead, \n",
    "                                    t2.target\n",
    "                               FROM transactions t1\n",
    "                          LEFT JOIN t t2\n",
    "                                 ON t1.user_id = t2.user_id''').to_df()"
   ]
  },
  {
   "cell_type": "code",
   "execution_count": 11,
   "id": "d0f2163c",
   "metadata": {
    "execution": {
     "iopub.execute_input": "2024-07-19T09:31:50.143463Z",
     "iopub.status.busy": "2024-07-19T09:31:50.143103Z",
     "iopub.status.idle": "2024-07-19T09:31:51.105052Z",
     "shell.execute_reply": "2024-07-19T09:31:51.103767Z"
    },
    "papermill": {
     "duration": 0.982374,
     "end_time": "2024-07-19T09:31:51.107898",
     "exception": false,
     "start_time": "2024-07-19T09:31:50.125524",
     "status": "completed"
    },
    "tags": []
   },
   "outputs": [],
   "source": [
    "transactions['days_lag'] = transactions['days_lag'].dt.days\n",
    "transactions['days_to_rep'] = transactions['days_to_rep'].dt.days\n",
    "transactions['days_lead'] = transactions['days_lead'].dt.days\n",
    "transactions['weeks_to_rep'] = transactions['days_to_rep'] // 7\n",
    "transactions['months_to_rep'] = transactions['days_to_rep'] // 17"
   ]
  },
  {
   "cell_type": "code",
   "execution_count": 12,
   "id": "db7e4a0d",
   "metadata": {
    "execution": {
     "iopub.execute_input": "2024-07-19T09:31:51.144110Z",
     "iopub.status.busy": "2024-07-19T09:31:51.143741Z",
     "iopub.status.idle": "2024-07-19T09:31:52.057065Z",
     "shell.execute_reply": "2024-07-19T09:31:52.055776Z"
    },
    "papermill": {
     "duration": 0.933376,
     "end_time": "2024-07-19T09:31:52.059538",
     "exception": false,
     "start_time": "2024-07-19T09:31:51.126162",
     "status": "completed"
    },
    "tags": []
   },
   "outputs": [],
   "source": [
    "v = duckdb.sql('''SELECT DISTINCT user_id, target, mcc_code\n",
    "                             FROM transactions''')\n",
    "\n",
    "u = duckdb.sql('''SELECT mcc_code, count(target) as target_cnt\n",
    "                    FROM v\n",
    "                GROUP BY mcc_code\n",
    "                  HAVING count(target) > 500''').to_df()['mcc_code'].tolist()\n",
    "\n",
    "transactions['mcc_code_old'] = transactions['mcc_code']\n",
    "\n",
    "transactions.loc[~transactions['mcc_code'].isin(u), 'mcc_code'] = -1 \n",
    "\n",
    "w = duckdb.sql('''SELECT DISTINCT user_id, target, mcc_code\n",
    "                             FROM transactions''')\n",
    "\n",
    "mcc = duckdb.sql('''SELECT mcc_code, count(*) as target_cnt, avg(target) as target_mean\n",
    "                FROM w\n",
    "            GROUP BY mcc_code\n",
    "              HAVING count(target) > 500''').to_df()"
   ]
  },
  {
   "cell_type": "code",
   "execution_count": 13,
   "id": "c00252ce",
   "metadata": {
    "execution": {
     "iopub.execute_input": "2024-07-19T09:31:52.096252Z",
     "iopub.status.busy": "2024-07-19T09:31:52.095463Z",
     "iopub.status.idle": "2024-07-19T09:31:52.104402Z",
     "shell.execute_reply": "2024-07-19T09:31:52.103442Z"
    },
    "papermill": {
     "duration": 0.029593,
     "end_time": "2024-07-19T09:31:52.106657",
     "exception": false,
     "start_time": "2024-07-19T09:31:52.077064",
     "status": "completed"
    },
    "tags": []
   },
   "outputs": [],
   "source": [
    "mcc = duckdb.sql('''SELECT *, RANK() OVER(ORDER BY target_cnt desc) as cnt_rank FROM mcc''').to_df()"
   ]
  },
  {
   "cell_type": "code",
   "execution_count": 14,
   "id": "275e87f4",
   "metadata": {
    "execution": {
     "iopub.execute_input": "2024-07-19T09:31:52.144018Z",
     "iopub.status.busy": "2024-07-19T09:31:52.143689Z",
     "iopub.status.idle": "2024-07-19T09:31:56.381942Z",
     "shell.execute_reply": "2024-07-19T09:31:56.381175Z"
    },
    "papermill": {
     "duration": 4.258685,
     "end_time": "2024-07-19T09:31:56.384479",
     "exception": false,
     "start_time": "2024-07-19T09:31:52.125794",
     "status": "completed"
    },
    "tags": []
   },
   "outputs": [],
   "source": [
    "transactions = duckdb.sql('''SELECT t1.*, t2.target_cnt as mcc_cnt, t2.target_mean as mcc_target, t2.cnt_rank as mcc_cnt_rank\n",
    "                               FROM transactions t1\n",
    "                          LEFT JOIN mcc t2\n",
    "                                 ON t1.mcc_code = t2.mcc_code''').to_df()"
   ]
  },
  {
   "cell_type": "code",
   "execution_count": 15,
   "id": "c19ed042",
   "metadata": {
    "execution": {
     "iopub.execute_input": "2024-07-19T09:31:56.421504Z",
     "iopub.status.busy": "2024-07-19T09:31:56.420989Z",
     "iopub.status.idle": "2024-07-19T09:31:56.439301Z",
     "shell.execute_reply": "2024-07-19T09:31:56.438418Z"
    },
    "papermill": {
     "duration": 0.037941,
     "end_time": "2024-07-19T09:31:56.441090",
     "exception": false,
     "start_time": "2024-07-19T09:31:56.403149",
     "status": "completed"
    },
    "tags": []
   },
   "outputs": [
    {
     "data": {
      "text/html": [
       "<div>\n",
       "<style scoped>\n",
       "    .dataframe tbody tr th:only-of-type {\n",
       "        vertical-align: middle;\n",
       "    }\n",
       "\n",
       "    .dataframe tbody tr th {\n",
       "        vertical-align: top;\n",
       "    }\n",
       "\n",
       "    .dataframe thead th {\n",
       "        text-align: right;\n",
       "    }\n",
       "</style>\n",
       "<table border=\"1\" class=\"dataframe\">\n",
       "  <thead>\n",
       "    <tr style=\"text-align: right;\">\n",
       "      <th></th>\n",
       "      <th>mcc_code</th>\n",
       "      <th>target_cnt</th>\n",
       "      <th>target_mean</th>\n",
       "      <th>cnt_rank</th>\n",
       "    </tr>\n",
       "  </thead>\n",
       "  <tbody>\n",
       "    <tr>\n",
       "      <th>101</th>\n",
       "      <td>51</td>\n",
       "      <td>2365</td>\n",
       "      <td>0.333991</td>\n",
       "      <td>101</td>\n",
       "    </tr>\n",
       "    <tr>\n",
       "      <th>137</th>\n",
       "      <td>89</td>\n",
       "      <td>947</td>\n",
       "      <td>0.127962</td>\n",
       "      <td>138</td>\n",
       "    </tr>\n",
       "    <tr>\n",
       "      <th>106</th>\n",
       "      <td>52</td>\n",
       "      <td>2114</td>\n",
       "      <td>0.106277</td>\n",
       "      <td>107</td>\n",
       "    </tr>\n",
       "    <tr>\n",
       "      <th>31</th>\n",
       "      <td>26</td>\n",
       "      <td>14438</td>\n",
       "      <td>0.104902</td>\n",
       "      <td>32</td>\n",
       "    </tr>\n",
       "    <tr>\n",
       "      <th>85</th>\n",
       "      <td>29</td>\n",
       "      <td>3485</td>\n",
       "      <td>0.104274</td>\n",
       "      <td>86</td>\n",
       "    </tr>\n",
       "  </tbody>\n",
       "</table>\n",
       "</div>"
      ],
      "text/plain": [
       "     mcc_code  target_cnt  target_mean  cnt_rank\n",
       "101        51        2365     0.333991       101\n",
       "137        89         947     0.127962       138\n",
       "106        52        2114     0.106277       107\n",
       "31         26       14438     0.104902        32\n",
       "85         29        3485     0.104274        86"
      ]
     },
     "execution_count": 15,
     "metadata": {},
     "output_type": "execute_result"
    }
   ],
   "source": [
    "mcc.sort_values(by='target_mean', ascending=False)[:5]"
   ]
  },
  {
   "cell_type": "code",
   "execution_count": 16,
   "id": "bc958ecb",
   "metadata": {
    "execution": {
     "iopub.execute_input": "2024-07-19T09:31:56.476177Z",
     "iopub.status.busy": "2024-07-19T09:31:56.475877Z",
     "iopub.status.idle": "2024-07-19T09:32:13.897261Z",
     "shell.execute_reply": "2024-07-19T09:32:13.896453Z"
    },
    "papermill": {
     "duration": 17.441619,
     "end_time": "2024-07-19T09:32:13.899717",
     "exception": false,
     "start_time": "2024-07-19T09:31:56.458098",
     "status": "completed"
    },
    "tags": []
   },
   "outputs": [],
   "source": [
    "transactions['transaction_amt_cat'] = (transactions['transaction_amt'] // 100).astype(int).map(lambda x: 999 if x > 2 else x)\\\n",
    ".map(lambda x: -999 if x < -5 else x)"
   ]
  },
  {
   "cell_type": "markdown",
   "id": "53875938",
   "metadata": {
    "papermill": {
     "duration": 0.017164,
     "end_time": "2024-07-19T09:32:13.934256",
     "exception": false,
     "start_time": "2024-07-19T09:32:13.917092",
     "status": "completed"
    },
    "tags": []
   },
   "source": [
    "#### Сборка признаков"
   ]
  },
  {
   "cell_type": "code",
   "execution_count": 17,
   "id": "808573ef",
   "metadata": {
    "execution": {
     "iopub.execute_input": "2024-07-19T09:32:13.970756Z",
     "iopub.status.busy": "2024-07-19T09:32:13.970446Z",
     "iopub.status.idle": "2024-07-19T09:32:16.554516Z",
     "shell.execute_reply": "2024-07-19T09:32:16.553476Z"
    },
    "papermill": {
     "duration": 2.605418,
     "end_time": "2024-07-19T09:32:16.556990",
     "exception": false,
     "start_time": "2024-07-19T09:32:13.951572",
     "status": "completed"
    },
    "tags": []
   },
   "outputs": [
    {
     "data": {
      "application/vnd.jupyter.widget-view+json": {
       "model_id": "60bac8bdfac0429aa4b9229214e8bd60",
       "version_major": 2,
       "version_minor": 0
      },
      "text/plain": [
       "FloatProgress(value=0.0, layout=Layout(width='auto'), style=ProgressStyle(bar_color='black'))"
      ]
     },
     "metadata": {},
     "output_type": "display_data"
    }
   ],
   "source": [
    "feat_7 = duckdb.sql('''SELECT user_id,\n",
    "                            sum(transaction_amt) as tr_amt_rub,\n",
    "                            count(transaction_amt) as tr_cnt_rub,\n",
    "                            sum(case when transaction_amt > 0 then transaction_amt else 0 end) as tr_amt_popoln_rub,\n",
    "                            sum(case when transaction_amt > 0 then 1 else 0 end) as tr_cnt_popoln_rub,\n",
    "                            sum(case when transaction_amt < 0 then transaction_amt else 0 end) as tr_amt_out_rub,\n",
    "                            sum(case when transaction_amt < 0 then 1 else 0 end) as tr_cnt_out_rub,\n",
    "                            min(case when transaction_amt < 0 then transaction_amt else 0 end) as tr_amt_out_max_rub,\n",
    "                            count(distinct day) as tr_cnt_days_rub,\n",
    "                            count(distinct case when transaction_amt > 0 then day end) as tr_cnt_days_popoln_rub,\n",
    "                            avg(days_lag) as tr_days_lag_avg_rub,\n",
    "                            max(days_lag) as tr_days_lag_max_rub,\n",
    "                            min(days_to_rep) - avg(days_lag) as tr_last_date_plus_avg_lag_rub,\n",
    "                            min(days_to_rep) - max(days_lag) as tr_last_date_plus_max_lag_rub,\n",
    "                            max(days_to_rep) as tr_first_date_rub,\n",
    "                            avg(transaction_amt) as tr_amt_avg_rub,\n",
    "                            avg(case when transaction_amt > 0 then transaction_amt end) as tr_amt_popoln_avg_rub,\n",
    "                            avg(case when transaction_amt < 0 then transaction_amt end) as tr_amt_out_avg_rub,\n",
    "                            max(case when transaction_amt > 0 then transaction_amt else 0 end) as tr_amt_popoln_max_rub,\n",
    "                            count(distinct mcc_code_old) as tr_cnt_mcc_rub,\n",
    "                            sum(case when mcc_code=12 then 1 else 0 end) as tr_cnt_mcc_12_rub,\n",
    "                            sum(case when transaction_amt < 0 and transaction_amt > -100 then 1 else 0 end) as tr_low_100_rub,\n",
    "                            sum(case when transaction_amt >= 20000 then 1 else 0 end) as tr_high_20000_rub\n",
    "                FROM transactions\n",
    "               WHERE currency_rk = 1\n",
    "            GROUP BY user_id''').to_df()"
   ]
  },
  {
   "cell_type": "code",
   "execution_count": 18,
   "id": "d070e5f9",
   "metadata": {
    "execution": {
     "iopub.execute_input": "2024-07-19T09:32:16.593733Z",
     "iopub.status.busy": "2024-07-19T09:32:16.593448Z",
     "iopub.status.idle": "2024-07-19T09:32:16.727532Z",
     "shell.execute_reply": "2024-07-19T09:32:16.726738Z"
    },
    "papermill": {
     "duration": 0.155501,
     "end_time": "2024-07-19T09:32:16.730597",
     "exception": false,
     "start_time": "2024-07-19T09:32:16.575096",
     "status": "completed"
    },
    "tags": []
   },
   "outputs": [],
   "source": [
    "feat_6 = duckdb.sql('''SELECT user_id, min(days_to_rep) as tr_last_date_155,\n",
    "                            sum(transaction_amt) as tr_amt_155,\n",
    "                            count(transaction_amt) as tr_cnt_155,\n",
    "                            sum(case when transaction_amt > 0 then transaction_amt else 0 end) as tr_amt_popoln_155,\n",
    "                            sum(case when transaction_amt > 0 then 1 else 0 end) as tr_cnt_popoln_155,\n",
    "                            sum(case when transaction_amt < 0 then transaction_amt else 0 end) as tr_amt_out_155,\n",
    "                            sum(case when transaction_amt < 0 then 1 else 0 end) as tr_cnt_out_155,\n",
    "                            min(case when transaction_amt < 0 then transaction_amt else 0 end) as tr_amt_out_max_155,\n",
    "                            count(distinct day) as tr_cnt_days_155,\n",
    "                            count(distinct case when transaction_amt > 0 then day end) as tr_cnt_days_popoln_155,\n",
    "                            avg(days_lag) as tr_days_lag_avg_155,\n",
    "                            max(days_lag) as tr_days_lag_max_155,\n",
    "                            min(days_to_rep) - avg(days_lag) as tr_last_date_plus_avg_lag_155,\n",
    "                            min(days_to_rep) - max(days_lag) as tr_last_date_plus_max_lag_155,\n",
    "                            max(days_to_rep) as tr_first_date_155,\n",
    "                            avg(transaction_amt) as tr_amt_avg_155,\n",
    "                            avg(case when transaction_amt > 0 then transaction_amt end) as tr_amt_popoln_avg_155,\n",
    "                            avg(case when transaction_amt < 0 then transaction_amt end) as tr_amt_out_avg_155,\n",
    "                            max(case when transaction_amt > 0 then transaction_amt else 0 end) as tr_amt_popoln_max_155,\n",
    "                            sum(case when transaction_amt < 0 and transaction_amt > -100 then 1 else 0 end) as tr_low_100_155\n",
    "                FROM transactions\n",
    "               WHERE mcc_code=155\n",
    "            GROUP BY user_id''').to_df()"
   ]
  },
  {
   "cell_type": "code",
   "execution_count": 19,
   "id": "0680bc3a",
   "metadata": {
    "execution": {
     "iopub.execute_input": "2024-07-19T09:32:16.808343Z",
     "iopub.status.busy": "2024-07-19T09:32:16.807937Z",
     "iopub.status.idle": "2024-07-19T09:32:17.127006Z",
     "shell.execute_reply": "2024-07-19T09:32:17.126177Z"
    },
    "papermill": {
     "duration": 0.339915,
     "end_time": "2024-07-19T09:32:17.129513",
     "exception": false,
     "start_time": "2024-07-19T09:32:16.789598",
     "status": "completed"
    },
    "tags": []
   },
   "outputs": [],
   "source": [
    "feat_5 = duckdb.sql('''SELECT user_id, min(days_to_rep) as tr_last_date_0,\n",
    "                            sum(transaction_amt) as tr_amt_0,\n",
    "                            count(transaction_amt) as tr_cnt_0,\n",
    "                            sum(case when transaction_amt > 0 then transaction_amt else 0 end) as tr_amt_popoln_0,\n",
    "                            sum(case when transaction_amt > 0 then 1 else 0 end) as tr_cnt_popoln_0,\n",
    "                            sum(case when transaction_amt < 0 then transaction_amt else 0 end) as tr_amt_out_0,\n",
    "                            sum(case when transaction_amt < 0 then 1 else 0 end) as tr_cnt_out_0,\n",
    "                            min(case when transaction_amt < 0 then transaction_amt else 0 end) as tr_amt_out_max_0,\n",
    "                            count(distinct day) as tr_cnt_days_0,\n",
    "                            count(distinct case when transaction_amt > 0 then day end) as tr_cnt_days_popoln_0,\n",
    "                            avg(days_lag) as tr_days_lag_avg_0,\n",
    "                            max(days_lag) as tr_days_lag_max_0,\n",
    "                            min(days_to_rep) - avg(days_lag) as tr_last_date_plus_avg_lag_0,\n",
    "                            min(days_to_rep) - max(days_lag) as tr_last_date_plus_max_lag_0,\n",
    "                            max(days_to_rep) as tr_first_date_0,\n",
    "                            avg(transaction_amt) as tr_amt_avg_0,\n",
    "                            avg(case when transaction_amt > 0 then transaction_amt end) as tr_amt_popoln_avg_0,\n",
    "                            avg(case when transaction_amt < 0 then transaction_amt end) as tr_amt_out_avg_0,\n",
    "                            max(case when transaction_amt > 0 then transaction_amt else 0 end) as tr_amt_popoln_max_0,\n",
    "                            sum(case when transaction_amt < 0 and transaction_amt > -100 then 1 else 0 end) as tr_low_100_0\n",
    "                FROM transactions\n",
    "               WHERE mcc_code=0\n",
    "            GROUP BY user_id''').to_df()"
   ]
  },
  {
   "cell_type": "code",
   "execution_count": 20,
   "id": "3e53580b",
   "metadata": {
    "execution": {
     "iopub.execute_input": "2024-07-19T09:32:17.165823Z",
     "iopub.status.busy": "2024-07-19T09:32:17.165508Z",
     "iopub.status.idle": "2024-07-19T09:32:17.256872Z",
     "shell.execute_reply": "2024-07-19T09:32:17.256136Z"
    },
    "papermill": {
     "duration": 0.112367,
     "end_time": "2024-07-19T09:32:17.259613",
     "exception": false,
     "start_time": "2024-07-19T09:32:17.147246",
     "status": "completed"
    },
    "tags": []
   },
   "outputs": [],
   "source": [
    "feat_4 = duckdb.sql('''SELECT user_id, min(days_to_rep) as tr_last_date_51,\n",
    "                            sum(transaction_amt) as tr_amt_51,\n",
    "                            count(transaction_amt) as tr_cnt_51,\n",
    "                            sum(case when transaction_amt > 0 then transaction_amt else 0 end) as tr_amt_popoln_51,\n",
    "                            sum(case when transaction_amt > 0 then 1 else 0 end) as tr_cnt_popoln_51,\n",
    "                            sum(case when transaction_amt < 0 then transaction_amt else 0 end) as tr_amt_out_51,\n",
    "                            sum(case when transaction_amt < 0 then 1 else 0 end) as tr_cnt_out_51,\n",
    "                            min(case when transaction_amt < 0 then transaction_amt else 0 end) as tr_amt_out_max_51,\n",
    "                            count(distinct day) as tr_cnt_days_51,\n",
    "                            count(distinct case when transaction_amt > 0 then day end) as tr_cnt_days_popoln_51,\n",
    "                            avg(days_lag) as tr_days_lag_avg_51,\n",
    "                            max(days_lag) as tr_days_lag_max_51,\n",
    "                            min(days_to_rep) - avg(days_lag) as tr_last_date_plus_avg_lag_51,\n",
    "                            min(days_to_rep) - max(days_lag) as tr_last_date_plus_max_lag_51,\n",
    "                            max(days_to_rep) as tr_first_date_51,\n",
    "                            avg(transaction_amt) as tr_amt_avg_51,\n",
    "                            avg(case when transaction_amt > 0 then transaction_amt end) as tr_amt_popoln_avg_51,\n",
    "                            avg(case when transaction_amt < 0 then transaction_amt end) as tr_amt_out_avg_51,\n",
    "                            max(case when transaction_amt > 0 then transaction_amt else 0 end) as tr_amt_popoln_max_51,\n",
    "                            sum(case when transaction_amt < 0 and transaction_amt > -100 then 1 else 0 end) as tr_low_100_51\n",
    "                FROM transactions\n",
    "               WHERE mcc_code=51\n",
    "            GROUP BY user_id''').to_df()"
   ]
  },
  {
   "cell_type": "code",
   "execution_count": 21,
   "id": "d1964bd8",
   "metadata": {
    "execution": {
     "iopub.execute_input": "2024-07-19T09:32:17.298324Z",
     "iopub.status.busy": "2024-07-19T09:32:17.297754Z",
     "iopub.status.idle": "2024-07-19T09:32:17.433839Z",
     "shell.execute_reply": "2024-07-19T09:32:17.433046Z"
    },
    "papermill": {
     "duration": 0.156828,
     "end_time": "2024-07-19T09:32:17.436222",
     "exception": false,
     "start_time": "2024-07-19T09:32:17.279394",
     "status": "completed"
    },
    "tags": []
   },
   "outputs": [],
   "source": [
    "feat_3 = duckdb.sql('''SELECT user_id, min(days_to_rep) as tr_last_date_12,\n",
    "                            sum(transaction_amt) as tr_amt_12,\n",
    "                            count(transaction_amt) as tr_cnt_12,\n",
    "                            sum(case when transaction_amt > 0 then transaction_amt else 0 end) as tr_amt_popoln_12,\n",
    "                            sum(case when transaction_amt > 0 then 1 else 0 end) as tr_cnt_popoln_12,\n",
    "                            sum(case when transaction_amt < 0 then transaction_amt else 0 end) as tr_amt_out_12,\n",
    "                            sum(case when transaction_amt < 0 then 1 else 0 end) as tr_cnt_out_12,\n",
    "                            min(case when transaction_amt < 0 then transaction_amt else 0 end) as tr_amt_out_max_12,\n",
    "                            count(distinct day) as tr_cnt_days_12,\n",
    "                            count(distinct case when transaction_amt > 0 then day end) as tr_cnt_days_popoln_12,\n",
    "                            avg(days_lag) as tr_days_lag_avg_12,\n",
    "                            max(days_lag) as tr_days_lag_max_12,\n",
    "                            min(days_to_rep) - avg(days_lag) as tr_last_date_plus_avg_lag_12,\n",
    "                            min(days_to_rep) - max(days_lag) as tr_last_date_plus_max_lag_12,\n",
    "                            max(days_to_rep) as tr_first_date_12,\n",
    "                            avg(transaction_amt) as tr_amt_avg_12,\n",
    "                            avg(case when transaction_amt > 0 then transaction_amt end) as tr_amt_popoln_avg_12,\n",
    "                            avg(case when transaction_amt < 0 then transaction_amt end) as tr_amt_out_avg_12,\n",
    "                            max(case when transaction_amt > 0 then transaction_amt else 0 end) as tr_amt_popoln_max_12,\n",
    "                            sum(case when transaction_amt < 0 and transaction_amt > -100 then 1 else 0 end) as tr_low_100_12\n",
    "                FROM transactions\n",
    "               WHERE mcc_code=12\n",
    "            GROUP BY user_id''').to_df()"
   ]
  },
  {
   "cell_type": "code",
   "execution_count": 22,
   "id": "0c642a18",
   "metadata": {
    "execution": {
     "iopub.execute_input": "2024-07-19T09:32:17.473238Z",
     "iopub.status.busy": "2024-07-19T09:32:17.472913Z",
     "iopub.status.idle": "2024-07-19T09:32:18.274386Z",
     "shell.execute_reply": "2024-07-19T09:32:18.273570Z"
    },
    "papermill": {
     "duration": 0.822153,
     "end_time": "2024-07-19T09:32:18.276807",
     "exception": false,
     "start_time": "2024-07-19T09:32:17.454654",
     "status": "completed"
    },
    "tags": []
   },
   "outputs": [],
   "source": [
    "feat_2 = duckdb.sql('''SELECT user_id,\n",
    "                            sum(transaction_amt) as tr_amt_month,\n",
    "                            count(transaction_amt) as tr_cnt_month,\n",
    "                            sum(case when transaction_amt > 0 then transaction_amt else 0 end) as tr_amt_popoln_month,\n",
    "                            sum(case when transaction_amt > 0 then 1 else 0 end) as tr_cnt_popoln_month,\n",
    "                            sum(case when transaction_amt < 0 then transaction_amt else 0 end) as tr_amt_out_month,\n",
    "                            sum(case when transaction_amt < 0 then 1 else 0 end) as tr_cnt_out_month,\n",
    "                            min(case when transaction_amt < 0 then transaction_amt else 0 end) as tr_amt_out_max_month,\n",
    "                            count(distinct day) as tr_cnt_days_month,\n",
    "                            count(distinct case when transaction_amt > 0 then day end) as tr_cnt_days_popoln_month,\n",
    "                            avg(days_lag) as tr_days_lag_avg_month,\n",
    "                            max(days_lag) as tr_days_lag_max_month,\n",
    "                            min(days_to_rep) - avg(days_lag) as tr_last_date_plus_avg_lag_month,\n",
    "                            min(days_to_rep) - max(days_lag) as tr_last_date_plus_max_lag_month,\n",
    "                            max(days_to_rep) as tr_first_date_month,\n",
    "                            avg(transaction_amt) as tr_amt_avg_month,\n",
    "                            avg(case when transaction_amt > 0 then transaction_amt end) as tr_amt_popoln_avg_month,\n",
    "                            avg(case when transaction_amt < 0 then transaction_amt end) as tr_amt_out_avg_month,\n",
    "                            max(case when transaction_amt > 0 then transaction_amt else 0 end) as tr_amt_popoln_max_month,\n",
    "                            count(distinct mcc_code_old) as tr_cnt_mcc_month,\n",
    "                            sum(case when mcc_code=12 then 1 else 0 end) as tr_cnt_mcc_12_month,\n",
    "                            sum(case when transaction_amt < 0 and transaction_amt > -100 then 1 else 0 end) as tr_low_100_month,\n",
    "                            sum(case when transaction_amt >= 20000 then 1 else 0 end) as tr_high_20000_month\n",
    "                FROM transactions\n",
    "               WHERE days_to_rep < 133\n",
    "            GROUP BY user_id''').to_df()"
   ]
  },
  {
   "cell_type": "code",
   "execution_count": 23,
   "id": "575e7533",
   "metadata": {
    "execution": {
     "iopub.execute_input": "2024-07-19T09:32:18.314977Z",
     "iopub.status.busy": "2024-07-19T09:32:18.314686Z",
     "iopub.status.idle": "2024-07-19T09:32:20.934981Z",
     "shell.execute_reply": "2024-07-19T09:32:20.933930Z"
    },
    "papermill": {
     "duration": 2.642599,
     "end_time": "2024-07-19T09:32:20.937538",
     "exception": false,
     "start_time": "2024-07-19T09:32:18.294939",
     "status": "completed"
    },
    "tags": []
   },
   "outputs": [
    {
     "data": {
      "application/vnd.jupyter.widget-view+json": {
       "model_id": "d629b1536b654484a3cc460a7d1427fd",
       "version_major": 2,
       "version_minor": 0
      },
      "text/plain": [
       "FloatProgress(value=0.0, layout=Layout(width='auto'), style=ProgressStyle(bar_color='black'))"
      ]
     },
     "metadata": {},
     "output_type": "display_data"
    }
   ],
   "source": [
    "feat = duckdb.sql('''SELECT user_id, min(days_to_rep) as tr_last_date, \n",
    "                            sum(transaction_amt) as tr_amt_total,\n",
    "                            count(transaction_amt) as tr_cnt_total,\n",
    "                            sum(case when transaction_amt > 0 then transaction_amt else 0 end) as tr_amt_popoln_total,\n",
    "                            sum(case when transaction_amt > 0 then 1 else 0 end) as tr_cnt_popoln_total,\n",
    "                            sum(case when transaction_amt < 0 then transaction_amt else 0 end) as tr_amt_out_total,\n",
    "                            sum(case when transaction_amt < 0 then 1 else 0 end) as tr_cnt_out_total,\n",
    "                            min(case when transaction_amt < 0 then transaction_amt else 0 end) as tr_amt_out_max_total,\n",
    "                            count(distinct day) as tr_cnt_days_total,\n",
    "                            count(distinct case when transaction_amt > 0 then day end) as tr_cnt_days_popoln_total,\n",
    "                            avg(days_lag) as tr_days_lag_avg_total,\n",
    "                            max(days_lag) as tr_days_lag_max_total,\n",
    "                            min(days_to_rep) - avg(days_lag) as tr_last_date_plus_avg_lag_total,\n",
    "                            min(days_to_rep) - max(days_lag) as tr_last_date_plus_max_lag_total,\n",
    "                            max(days_to_rep) as tr_first_date_total,\n",
    "                            avg(transaction_amt) as tr_amt_avg_total,\n",
    "                            avg(case when transaction_amt > 0 then transaction_amt end) as tr_amt_popoln_avg_total,\n",
    "                            avg(case when transaction_amt < 0 then transaction_amt end) as tr_amt_out_avg_total,\n",
    "                            max(case when transaction_amt > 0 then transaction_amt else 0 end) as tr_amt_popoln_max_total,\n",
    "                            count(distinct mcc_code_old) as tr_cnt_mcc_total,\n",
    "                            avg(mcc_target) as tr_mcc_target_avg_total,\n",
    "                            sum(case when mcc_code=12 then 1 else 0 end) as tr_cnt_mcc_12_total,\n",
    "                            sum(case when mcc_code=51 then 1 else 0 end) as tr_cnt_mcc_51_total,\n",
    "                            sum(case when mcc_code=0 then 1 else 0 end) as tr_cnt_mcc_0_total,\n",
    "                            sum(case when mcc_code=155 then 1 else 0 end) as tr_cnt_mcc_155_total,\n",
    "                            sum(case when transaction_amt < 0 and transaction_amt > -100 then 1 else 0 end) as tr_low_100_total,\n",
    "                            sum(case when transaction_amt >= 20000 then 1 else 0 end) as tr_high_20000_total,\n",
    "                            min(currency_rk) as tr_min_currecncy_total\n",
    "                FROM transactions\n",
    "            GROUP BY user_id''').to_df()"
   ]
  },
  {
   "cell_type": "code",
   "execution_count": 24,
   "id": "6e489ee9",
   "metadata": {
    "execution": {
     "iopub.execute_input": "2024-07-19T09:32:20.975373Z",
     "iopub.status.busy": "2024-07-19T09:32:20.975034Z",
     "iopub.status.idle": "2024-07-19T09:32:20.981787Z",
     "shell.execute_reply": "2024-07-19T09:32:20.980930Z"
    },
    "papermill": {
     "duration": 0.027306,
     "end_time": "2024-07-19T09:32:20.983778",
     "exception": false,
     "start_time": "2024-07-19T09:32:20.956472",
     "status": "completed"
    },
    "tags": []
   },
   "outputs": [],
   "source": [
    "t = df.copy()"
   ]
  },
  {
   "cell_type": "code",
   "execution_count": 25,
   "id": "779555a2",
   "metadata": {
    "execution": {
     "iopub.execute_input": "2024-07-19T09:32:21.020005Z",
     "iopub.status.busy": "2024-07-19T09:32:21.019723Z",
     "iopub.status.idle": "2024-07-19T09:32:21.874491Z",
     "shell.execute_reply": "2024-07-19T09:32:21.873464Z"
    },
    "papermill": {
     "duration": 0.875635,
     "end_time": "2024-07-19T09:32:21.876870",
     "exception": false,
     "start_time": "2024-07-19T09:32:21.001235",
     "status": "completed"
    },
    "tags": []
   },
   "outputs": [],
   "source": [
    "t = duckdb.sql('''SELECT t1.*, t2.*, t3.*, t4.*, t5.*, t8.*, t6.*, t7.*\n",
    "                    FROM t t1\n",
    "               LEFT JOIN feat t2\n",
    "                      ON t1.user_id = t2.user_id\n",
    "               LEFT JOIN feat_2 t3\n",
    "                      ON t1.user_id = t3.user_id\n",
    "               LEFT JOIN feat_3 t4\n",
    "                      ON t1.user_id = t4.user_id\n",
    "               LEFT JOIN feat_4 t5\n",
    "                      ON t1.user_id = t5.user_id\n",
    "               LEFT JOIN feat_5 t6\n",
    "                      ON t1.user_id = t6.user_id\n",
    "               LEFT JOIN feat_6 t7\n",
    "                      ON t1.user_id = t7.user_id\n",
    "               LEFT JOIN feat_7 t8\n",
    "                      ON t1.user_id = t8.user_id\n",
    "               ''').to_df()"
   ]
  },
  {
   "cell_type": "code",
   "execution_count": 26,
   "id": "2f234e59",
   "metadata": {
    "execution": {
     "iopub.execute_input": "2024-07-19T09:32:21.913716Z",
     "iopub.status.busy": "2024-07-19T09:32:21.913401Z",
     "iopub.status.idle": "2024-07-19T09:32:21.955441Z",
     "shell.execute_reply": "2024-07-19T09:32:21.954432Z"
    },
    "papermill": {
     "duration": 0.062928,
     "end_time": "2024-07-19T09:32:21.957798",
     "exception": false,
     "start_time": "2024-07-19T09:32:21.894870",
     "status": "completed"
    },
    "tags": []
   },
   "outputs": [],
   "source": [
    "t = t.drop(columns = ['user_id_1', 'user_id_2', 'user_id_3', 'user_id_4', 'user_id_5', 'user_id_6', 'user_id_7'])"
   ]
  },
  {
   "cell_type": "code",
   "execution_count": 27,
   "id": "14603535",
   "metadata": {
    "execution": {
     "iopub.execute_input": "2024-07-19T09:32:21.994665Z",
     "iopub.status.busy": "2024-07-19T09:32:21.993944Z",
     "iopub.status.idle": "2024-07-19T09:32:22.017673Z",
     "shell.execute_reply": "2024-07-19T09:32:22.016930Z"
    },
    "papermill": {
     "duration": 0.04419,
     "end_time": "2024-07-19T09:32:22.019802",
     "exception": false,
     "start_time": "2024-07-19T09:32:21.975612",
     "status": "completed"
    },
    "tags": []
   },
   "outputs": [],
   "source": [
    "t['employee_count_nm'] = t['employee_count_nm'].map({'БОЛЕЕ 1001': 1000, 'ОТ 101 ДО 500': 100, 'ОТ 51 ДО 100': 50, \n",
    "                                                     'ОТ 501 ДО 1000': 750, 'ОТ 11 ДО 50': 30, 'ДО 10': 1, \n",
    "                                                     'БОЛЕЕ 500': 500, 'ОТ 11 ДО 30': 20, 'ОТ 31 ДО 50': 40}).fillna(-1)"
   ]
  },
  {
   "cell_type": "code",
   "execution_count": 28,
   "id": "bccf3e1c",
   "metadata": {
    "execution": {
     "iopub.execute_input": "2024-07-19T09:32:22.055865Z",
     "iopub.status.busy": "2024-07-19T09:32:22.055598Z",
     "iopub.status.idle": "2024-07-19T09:32:26.748459Z",
     "shell.execute_reply": "2024-07-19T09:32:26.747655Z"
    },
    "papermill": {
     "duration": 4.713803,
     "end_time": "2024-07-19T09:32:26.751033",
     "exception": false,
     "start_time": "2024-07-19T09:32:22.037230",
     "status": "completed"
    },
    "tags": []
   },
   "outputs": [],
   "source": [
    "tmp = transactions.copy()\n",
    "tmp['hour'] = tmp['transaction_dttm'].dt.hour\n",
    "pivot_table = tmp.pivot_table(\n",
    "    index='user_id',\n",
    "    columns='hour',\n",
    "    values='transaction_amt',\n",
    "    aggfunc=['count', 'sum']\n",
    ").fillna(0)\n",
    "pivot_table.columns = [f'hour_{x[0]}_{x[1]}' for x in pivot_table.columns]\n",
    "\n",
    "count_cols = [x for x in pivot_table.columns if 'count' in x]\n",
    "pivot_table['sum'] = pivot_table[count_cols].sum(axis=1)\n",
    "for col in count_cols:\n",
    "    pivot_table[f'{col}_norm'] = pivot_table[col] / pivot_table['sum']\n",
    "pivot_table.drop('sum', axis=1, inplace=True)\n",
    "\n",
    "pivot_table = pivot_table[[col for col in pivot_table.columns if col.find('norm') >= 0 and col.find('count') >= 0]]\n",
    "\n",
    "t = t.merge(pivot_table, how='left', left_on='user_id', right_index=True)"
   ]
  },
  {
   "cell_type": "code",
   "execution_count": 29,
   "id": "269a29c8",
   "metadata": {
    "execution": {
     "iopub.execute_input": "2024-07-19T09:32:26.787648Z",
     "iopub.status.busy": "2024-07-19T09:32:26.787349Z",
     "iopub.status.idle": "2024-07-19T09:32:30.419209Z",
     "shell.execute_reply": "2024-07-19T09:32:30.418175Z"
    },
    "papermill": {
     "duration": 3.652657,
     "end_time": "2024-07-19T09:32:30.421765",
     "exception": false,
     "start_time": "2024-07-19T09:32:26.769108",
     "status": "completed"
    },
    "tags": []
   },
   "outputs": [],
   "source": [
    "tmp = transactions.copy()\n",
    "pivot_table = tmp.pivot_table(\n",
    "    index='user_id',\n",
    "    columns='transaction_amt_cat',\n",
    "    values='transaction_amt',\n",
    "    aggfunc=['count', 'sum']\n",
    ").fillna(0)\n",
    "pivot_table.columns = [f'tr_amt_{x[0]}_{x[1]}' for x in pivot_table.columns]\n",
    "\n",
    "count_cols = [x for x in pivot_table.columns if 'count' in x]\n",
    "pivot_table['sum'] = pivot_table[count_cols].sum(axis=1)\n",
    "for col in count_cols:\n",
    "    pivot_table[f'{col}_norm'] = pivot_table[col] / pivot_table['sum']\n",
    "pivot_table.drop('sum', axis=1, inplace=True)\n",
    "\n",
    "pivot_table = pivot_table[[col for col in pivot_table.columns if col.find('norm') >= 0 and col.find('count') >= 0]]\n",
    "\n",
    "t = t.merge(pivot_table, how='left', left_on='user_id', right_index=True)"
   ]
  },
  {
   "cell_type": "code",
   "execution_count": 30,
   "id": "8c5c9338",
   "metadata": {
    "execution": {
     "iopub.execute_input": "2024-07-19T09:32:30.459023Z",
     "iopub.status.busy": "2024-07-19T09:32:30.458668Z",
     "iopub.status.idle": "2024-07-19T09:32:35.026036Z",
     "shell.execute_reply": "2024-07-19T09:32:35.025268Z"
    },
    "papermill": {
     "duration": 4.588958,
     "end_time": "2024-07-19T09:32:35.028383",
     "exception": false,
     "start_time": "2024-07-19T09:32:30.439425",
     "status": "completed"
    },
    "tags": []
   },
   "outputs": [],
   "source": [
    "tmp = transactions.copy()\n",
    "pivot_table = tmp.pivot_table(\n",
    "    index='user_id',\n",
    "    columns='weeks_to_rep',\n",
    "    values='transaction_amt',\n",
    "    aggfunc=['count', 'sum']\n",
    ").fillna(0)\n",
    "pivot_table.columns = [f'tr_week_{x[0]}_{x[1]}' for x in pivot_table.columns]\n",
    "\n",
    "count_cols = [x for x in pivot_table.columns if 'count' in x]\n",
    "pivot_table['sum'] = pivot_table[count_cols].sum(axis=1)\n",
    "for col in count_cols:\n",
    "    pivot_table[f'{col}_norm'] = pivot_table[col] / pivot_table['sum']\n",
    "pivot_table.drop('sum', axis=1, inplace=True)\n",
    "\n",
    "pivot_table = pivot_table[[col for col in pivot_table.columns if col.find('norm') < 0 and col.find('count') >= 0]]\n",
    "\n",
    "t = t.merge(pivot_table, how='left', left_on='user_id', right_index=True)"
   ]
  },
  {
   "cell_type": "code",
   "execution_count": 31,
   "id": "bd4eb611",
   "metadata": {
    "execution": {
     "iopub.execute_input": "2024-07-19T09:32:35.065088Z",
     "iopub.status.busy": "2024-07-19T09:32:35.064757Z",
     "iopub.status.idle": "2024-07-19T09:32:40.031695Z",
     "shell.execute_reply": "2024-07-19T09:32:40.030770Z"
    },
    "papermill": {
     "duration": 4.987496,
     "end_time": "2024-07-19T09:32:40.033989",
     "exception": false,
     "start_time": "2024-07-19T09:32:35.046493",
     "status": "completed"
    },
    "tags": []
   },
   "outputs": [],
   "source": [
    "tmp = transactions.copy()\n",
    "pivot_table = tmp.pivot_table(\n",
    "    index='user_id',\n",
    "    columns='months_to_rep',\n",
    "    values='transaction_amt',\n",
    "    aggfunc=['count', 'sum', 'mean']\n",
    ").fillna(0)\n",
    "pivot_table.columns = [f'tr_month_{x[0]}_{x[1]}' for x in pivot_table.columns]\n",
    "\n",
    "count_cols = [x for x in pivot_table.columns if 'count' in x]\n",
    "pivot_table['sum'] = pivot_table[count_cols].sum(axis=1)\n",
    "for col in count_cols:\n",
    "    pivot_table[f'{col}_norm'] = pivot_table[col] / pivot_table['sum']\n",
    "pivot_table.drop('sum', axis=1, inplace=True)\n",
    "\n",
    "pivot_table = pivot_table[[col for col in pivot_table.columns if col.find('norm') >= 0 or col.find('count') < 0]]\n",
    "\n",
    "t = t.merge(pivot_table, how='left', left_on='user_id', right_index=True)"
   ]
  },
  {
   "cell_type": "code",
   "execution_count": 32,
   "id": "ea91d367",
   "metadata": {
    "execution": {
     "iopub.execute_input": "2024-07-19T09:32:40.071271Z",
     "iopub.status.busy": "2024-07-19T09:32:40.070927Z",
     "iopub.status.idle": "2024-07-19T09:32:45.344175Z",
     "shell.execute_reply": "2024-07-19T09:32:45.343036Z"
    },
    "papermill": {
     "duration": 5.294363,
     "end_time": "2024-07-19T09:32:45.346644",
     "exception": false,
     "start_time": "2024-07-19T09:32:40.052281",
     "status": "completed"
    },
    "tags": []
   },
   "outputs": [],
   "source": [
    "tmp = transactions[(transactions['mcc_code'] >= 0) & (transactions['mcc_code'].isin(mcc[mcc['cnt_rank'] <= 35]['mcc_code']))].copy()\n",
    "pivot_table = tmp.pivot_table(\n",
    "    index='user_id',\n",
    "    columns='mcc_code',\n",
    "    values='transaction_amt',\n",
    "    aggfunc=['count', 'sum']\n",
    ").fillna(0)\n",
    "pivot_table.columns = [f'tr_mcc_{x[0]}_{x[1]}' for x in pivot_table.columns]\n",
    "\n",
    "count_cols = [x for x in pivot_table.columns if 'count' in x]\n",
    "pivot_table['sum'] = pivot_table[count_cols].sum(axis=1)\n",
    "for col in count_cols:\n",
    "    pivot_table[f'{col}_norm'] = pivot_table[col] / pivot_table['sum']\n",
    "pivot_table.drop('sum', axis=1, inplace=True)\n",
    "\n",
    "pivot_table = pivot_table[[col for col in pivot_table.columns if col.find('norm') >= 0 or col.find('count') < 0]]\n",
    "\n",
    "t = t.merge(pivot_table, how='left', left_on='user_id', right_index=True)"
   ]
  },
  {
   "cell_type": "code",
   "execution_count": 33,
   "id": "62a60478",
   "metadata": {
    "execution": {
     "iopub.execute_input": "2024-07-19T09:32:45.384778Z",
     "iopub.status.busy": "2024-07-19T09:32:45.384167Z",
     "iopub.status.idle": "2024-07-19T09:32:45.390395Z",
     "shell.execute_reply": "2024-07-19T09:32:45.389500Z"
    },
    "papermill": {
     "duration": 0.026917,
     "end_time": "2024-07-19T09:32:45.392549",
     "exception": false,
     "start_time": "2024-07-19T09:32:45.365632",
     "status": "completed"
    },
    "tags": []
   },
   "outputs": [],
   "source": [
    "t['report_cat'] = t['report'].astype('category')"
   ]
  },
  {
   "cell_type": "code",
   "execution_count": 34,
   "id": "6688f642",
   "metadata": {
    "execution": {
     "iopub.execute_input": "2024-07-19T09:32:45.429868Z",
     "iopub.status.busy": "2024-07-19T09:32:45.429609Z",
     "iopub.status.idle": "2024-07-19T09:32:45.443103Z",
     "shell.execute_reply": "2024-07-19T09:32:45.442313Z"
    },
    "papermill": {
     "duration": 0.034094,
     "end_time": "2024-07-19T09:32:45.445262",
     "exception": false,
     "start_time": "2024-07-19T09:32:45.411168",
     "status": "completed"
    },
    "tags": []
   },
   "outputs": [
    {
     "data": {
      "text/plain": [
       "['user_id',\n",
       " 'report',\n",
       " 'employee_count_nm',\n",
       " 'bankemplstatus',\n",
       " 'customer_age',\n",
       " 'tr_last_date',\n",
       " 'tr_amt_total',\n",
       " 'tr_cnt_total',\n",
       " 'tr_amt_popoln_total',\n",
       " 'tr_cnt_popoln_total',\n",
       " 'tr_amt_out_total',\n",
       " 'tr_cnt_out_total',\n",
       " 'tr_amt_out_max_total',\n",
       " 'tr_cnt_days_total',\n",
       " 'tr_cnt_days_popoln_total',\n",
       " 'tr_days_lag_avg_total',\n",
       " 'tr_days_lag_max_total',\n",
       " 'tr_last_date_plus_avg_lag_total',\n",
       " 'tr_last_date_plus_max_lag_total',\n",
       " 'tr_first_date_total',\n",
       " 'tr_amt_avg_total',\n",
       " 'tr_amt_popoln_avg_total',\n",
       " 'tr_amt_out_avg_total',\n",
       " 'tr_amt_popoln_max_total',\n",
       " 'tr_cnt_mcc_total',\n",
       " 'tr_mcc_target_avg_total',\n",
       " 'tr_cnt_mcc_12_total',\n",
       " 'tr_cnt_mcc_51_total',\n",
       " 'tr_cnt_mcc_0_total',\n",
       " 'tr_cnt_mcc_155_total',\n",
       " 'tr_low_100_total',\n",
       " 'tr_high_20000_total',\n",
       " 'tr_min_currecncy_total',\n",
       " 'tr_amt_month',\n",
       " 'tr_cnt_month',\n",
       " 'tr_amt_popoln_month',\n",
       " 'tr_cnt_popoln_month',\n",
       " 'tr_amt_out_month',\n",
       " 'tr_cnt_out_month',\n",
       " 'tr_amt_out_max_month',\n",
       " 'tr_cnt_days_month',\n",
       " 'tr_cnt_days_popoln_month',\n",
       " 'tr_days_lag_avg_month',\n",
       " 'tr_days_lag_max_month',\n",
       " 'tr_last_date_plus_avg_lag_month',\n",
       " 'tr_last_date_plus_max_lag_month',\n",
       " 'tr_first_date_month',\n",
       " 'tr_amt_avg_month',\n",
       " 'tr_amt_popoln_avg_month',\n",
       " 'tr_amt_out_avg_month',\n",
       " 'tr_amt_popoln_max_month',\n",
       " 'tr_cnt_mcc_month',\n",
       " 'tr_cnt_mcc_12_month',\n",
       " 'tr_low_100_month',\n",
       " 'tr_high_20000_month',\n",
       " 'tr_last_date_12',\n",
       " 'tr_amt_12',\n",
       " 'tr_cnt_12',\n",
       " 'tr_amt_popoln_12',\n",
       " 'tr_cnt_popoln_12',\n",
       " 'tr_amt_out_12',\n",
       " 'tr_cnt_out_12',\n",
       " 'tr_amt_out_max_12',\n",
       " 'tr_cnt_days_12',\n",
       " 'tr_cnt_days_popoln_12',\n",
       " 'tr_days_lag_avg_12',\n",
       " 'tr_days_lag_max_12',\n",
       " 'tr_last_date_plus_avg_lag_12',\n",
       " 'tr_last_date_plus_max_lag_12',\n",
       " 'tr_first_date_12',\n",
       " 'tr_amt_avg_12',\n",
       " 'tr_amt_popoln_avg_12',\n",
       " 'tr_amt_out_avg_12',\n",
       " 'tr_amt_popoln_max_12',\n",
       " 'tr_low_100_12',\n",
       " 'tr_last_date_51',\n",
       " 'tr_amt_51',\n",
       " 'tr_cnt_51',\n",
       " 'tr_amt_popoln_51',\n",
       " 'tr_cnt_popoln_51',\n",
       " 'tr_amt_out_51',\n",
       " 'tr_cnt_out_51',\n",
       " 'tr_amt_out_max_51',\n",
       " 'tr_cnt_days_51',\n",
       " 'tr_cnt_days_popoln_51',\n",
       " 'tr_days_lag_avg_51',\n",
       " 'tr_days_lag_max_51',\n",
       " 'tr_last_date_plus_avg_lag_51',\n",
       " 'tr_last_date_plus_max_lag_51',\n",
       " 'tr_first_date_51',\n",
       " 'tr_amt_avg_51',\n",
       " 'tr_amt_popoln_avg_51',\n",
       " 'tr_amt_out_avg_51',\n",
       " 'tr_amt_popoln_max_51',\n",
       " 'tr_low_100_51',\n",
       " 'tr_amt_rub',\n",
       " 'tr_cnt_rub',\n",
       " 'tr_amt_popoln_rub',\n",
       " 'tr_cnt_popoln_rub',\n",
       " 'tr_amt_out_rub',\n",
       " 'tr_cnt_out_rub',\n",
       " 'tr_amt_out_max_rub',\n",
       " 'tr_cnt_days_rub',\n",
       " 'tr_cnt_days_popoln_rub',\n",
       " 'tr_days_lag_avg_rub',\n",
       " 'tr_days_lag_max_rub',\n",
       " 'tr_last_date_plus_avg_lag_rub',\n",
       " 'tr_last_date_plus_max_lag_rub',\n",
       " 'tr_first_date_rub',\n",
       " 'tr_amt_avg_rub',\n",
       " 'tr_amt_popoln_avg_rub',\n",
       " 'tr_amt_out_avg_rub',\n",
       " 'tr_amt_popoln_max_rub',\n",
       " 'tr_cnt_mcc_rub',\n",
       " 'tr_cnt_mcc_12_rub',\n",
       " 'tr_low_100_rub',\n",
       " 'tr_high_20000_rub',\n",
       " 'tr_last_date_0',\n",
       " 'tr_amt_0',\n",
       " 'tr_cnt_0',\n",
       " 'tr_amt_popoln_0',\n",
       " 'tr_cnt_popoln_0',\n",
       " 'tr_amt_out_0',\n",
       " 'tr_cnt_out_0',\n",
       " 'tr_amt_out_max_0',\n",
       " 'tr_cnt_days_0',\n",
       " 'tr_cnt_days_popoln_0',\n",
       " 'tr_days_lag_avg_0',\n",
       " 'tr_days_lag_max_0',\n",
       " 'tr_last_date_plus_avg_lag_0',\n",
       " 'tr_last_date_plus_max_lag_0',\n",
       " 'tr_first_date_0',\n",
       " 'tr_amt_avg_0',\n",
       " 'tr_amt_popoln_avg_0',\n",
       " 'tr_amt_out_avg_0',\n",
       " 'tr_amt_popoln_max_0',\n",
       " 'tr_low_100_0',\n",
       " 'tr_last_date_155',\n",
       " 'tr_amt_155',\n",
       " 'tr_cnt_155',\n",
       " 'tr_amt_popoln_155',\n",
       " 'tr_cnt_popoln_155',\n",
       " 'tr_amt_out_155',\n",
       " 'tr_cnt_out_155',\n",
       " 'tr_amt_out_max_155',\n",
       " 'tr_cnt_days_155',\n",
       " 'tr_cnt_days_popoln_155',\n",
       " 'tr_days_lag_avg_155',\n",
       " 'tr_days_lag_max_155',\n",
       " 'tr_last_date_plus_avg_lag_155',\n",
       " 'tr_last_date_plus_max_lag_155',\n",
       " 'tr_first_date_155',\n",
       " 'tr_amt_avg_155',\n",
       " 'tr_amt_popoln_avg_155',\n",
       " 'tr_amt_out_avg_155',\n",
       " 'tr_amt_popoln_max_155',\n",
       " 'tr_low_100_155',\n",
       " 'hour_count_0_norm',\n",
       " 'hour_count_1_norm',\n",
       " 'hour_count_2_norm',\n",
       " 'hour_count_3_norm',\n",
       " 'hour_count_4_norm',\n",
       " 'hour_count_5_norm',\n",
       " 'hour_count_6_norm',\n",
       " 'hour_count_7_norm',\n",
       " 'hour_count_8_norm',\n",
       " 'hour_count_9_norm',\n",
       " 'hour_count_10_norm',\n",
       " 'hour_count_11_norm',\n",
       " 'hour_count_12_norm',\n",
       " 'hour_count_13_norm',\n",
       " 'hour_count_14_norm',\n",
       " 'hour_count_15_norm',\n",
       " 'hour_count_16_norm',\n",
       " 'hour_count_17_norm',\n",
       " 'hour_count_18_norm',\n",
       " 'hour_count_19_norm',\n",
       " 'hour_count_20_norm',\n",
       " 'hour_count_21_norm',\n",
       " 'hour_count_22_norm',\n",
       " 'hour_count_23_norm',\n",
       " 'tr_amt_count_-999_norm',\n",
       " 'tr_amt_count_-5_norm',\n",
       " 'tr_amt_count_-4_norm',\n",
       " 'tr_amt_count_-3_norm',\n",
       " 'tr_amt_count_-2_norm',\n",
       " 'tr_amt_count_-1_norm',\n",
       " 'tr_amt_count_0_norm',\n",
       " 'tr_amt_count_1_norm',\n",
       " 'tr_amt_count_2_norm',\n",
       " 'tr_amt_count_999_norm',\n",
       " 'tr_week_count_14',\n",
       " 'tr_week_count_15',\n",
       " 'tr_week_count_16',\n",
       " 'tr_week_count_17',\n",
       " 'tr_week_count_18',\n",
       " 'tr_week_count_19',\n",
       " 'tr_week_count_20',\n",
       " 'tr_week_count_21',\n",
       " 'tr_week_count_22',\n",
       " 'tr_week_count_23',\n",
       " 'tr_week_count_24',\n",
       " 'tr_week_count_25',\n",
       " 'tr_week_count_26',\n",
       " 'tr_week_count_27',\n",
       " 'tr_week_count_28',\n",
       " 'tr_week_count_29',\n",
       " 'tr_week_count_30',\n",
       " 'tr_week_count_31',\n",
       " 'tr_week_count_32',\n",
       " 'tr_week_count_33',\n",
       " 'tr_week_count_34',\n",
       " 'tr_week_count_35',\n",
       " 'tr_week_count_36',\n",
       " 'tr_week_count_37',\n",
       " 'tr_week_count_38',\n",
       " 'tr_week_count_39',\n",
       " 'tr_week_count_40',\n",
       " 'tr_month_sum_6',\n",
       " 'tr_month_sum_7',\n",
       " 'tr_month_sum_8',\n",
       " 'tr_month_sum_9',\n",
       " 'tr_month_sum_10',\n",
       " 'tr_month_sum_11',\n",
       " 'tr_month_sum_12',\n",
       " 'tr_month_sum_13',\n",
       " 'tr_month_sum_14',\n",
       " 'tr_month_sum_15',\n",
       " 'tr_month_sum_16',\n",
       " 'tr_month_mean_6',\n",
       " 'tr_month_mean_7',\n",
       " 'tr_month_mean_8',\n",
       " 'tr_month_mean_9',\n",
       " 'tr_month_mean_10',\n",
       " 'tr_month_mean_11',\n",
       " 'tr_month_mean_12',\n",
       " 'tr_month_mean_13',\n",
       " 'tr_month_mean_14',\n",
       " 'tr_month_mean_15',\n",
       " 'tr_month_mean_16',\n",
       " 'tr_month_count_6_norm',\n",
       " 'tr_month_count_7_norm',\n",
       " 'tr_month_count_8_norm',\n",
       " 'tr_month_count_9_norm',\n",
       " 'tr_month_count_10_norm',\n",
       " 'tr_month_count_11_norm',\n",
       " 'tr_month_count_12_norm',\n",
       " 'tr_month_count_13_norm',\n",
       " 'tr_month_count_14_norm',\n",
       " 'tr_month_count_15_norm',\n",
       " 'tr_month_count_16_norm',\n",
       " 'tr_mcc_sum_0',\n",
       " 'tr_mcc_sum_1',\n",
       " 'tr_mcc_sum_2',\n",
       " 'tr_mcc_sum_3',\n",
       " 'tr_mcc_sum_4',\n",
       " 'tr_mcc_sum_6',\n",
       " 'tr_mcc_sum_7',\n",
       " 'tr_mcc_sum_8',\n",
       " 'tr_mcc_sum_9',\n",
       " 'tr_mcc_sum_10',\n",
       " 'tr_mcc_sum_11',\n",
       " 'tr_mcc_sum_13',\n",
       " 'tr_mcc_sum_15',\n",
       " 'tr_mcc_sum_16',\n",
       " 'tr_mcc_sum_17',\n",
       " 'tr_mcc_sum_18',\n",
       " 'tr_mcc_sum_20',\n",
       " 'tr_mcc_sum_21',\n",
       " 'tr_mcc_sum_22',\n",
       " 'tr_mcc_sum_23',\n",
       " 'tr_mcc_sum_24',\n",
       " 'tr_mcc_sum_25',\n",
       " 'tr_mcc_sum_26',\n",
       " 'tr_mcc_sum_27',\n",
       " 'tr_mcc_sum_28',\n",
       " 'tr_mcc_sum_30',\n",
       " 'tr_mcc_sum_31',\n",
       " 'tr_mcc_sum_32',\n",
       " 'tr_mcc_sum_33',\n",
       " 'tr_mcc_sum_34',\n",
       " 'tr_mcc_sum_37',\n",
       " 'tr_mcc_sum_39',\n",
       " 'tr_mcc_sum_44',\n",
       " 'tr_mcc_sum_155',\n",
       " 'tr_mcc_count_0_norm',\n",
       " 'tr_mcc_count_1_norm',\n",
       " 'tr_mcc_count_2_norm',\n",
       " 'tr_mcc_count_3_norm',\n",
       " 'tr_mcc_count_4_norm',\n",
       " 'tr_mcc_count_6_norm',\n",
       " 'tr_mcc_count_7_norm',\n",
       " 'tr_mcc_count_8_norm',\n",
       " 'tr_mcc_count_9_norm',\n",
       " 'tr_mcc_count_10_norm',\n",
       " 'tr_mcc_count_11_norm',\n",
       " 'tr_mcc_count_13_norm',\n",
       " 'tr_mcc_count_15_norm',\n",
       " 'tr_mcc_count_16_norm',\n",
       " 'tr_mcc_count_17_norm',\n",
       " 'tr_mcc_count_18_norm',\n",
       " 'tr_mcc_count_20_norm',\n",
       " 'tr_mcc_count_21_norm',\n",
       " 'tr_mcc_count_22_norm',\n",
       " 'tr_mcc_count_23_norm',\n",
       " 'tr_mcc_count_24_norm',\n",
       " 'tr_mcc_count_25_norm',\n",
       " 'tr_mcc_count_26_norm',\n",
       " 'tr_mcc_count_27_norm',\n",
       " 'tr_mcc_count_28_norm',\n",
       " 'tr_mcc_count_30_norm',\n",
       " 'tr_mcc_count_31_norm',\n",
       " 'tr_mcc_count_32_norm',\n",
       " 'tr_mcc_count_33_norm',\n",
       " 'tr_mcc_count_34_norm',\n",
       " 'tr_mcc_count_37_norm',\n",
       " 'tr_mcc_count_39_norm',\n",
       " 'tr_mcc_count_44_norm',\n",
       " 'tr_mcc_count_155_norm',\n",
       " 'report_cat']"
      ]
     },
     "execution_count": 34,
     "metadata": {},
     "output_type": "execute_result"
    }
   ],
   "source": [
    "y = t[['target', 'time']]\n",
    "not_features = ['report_dt', 'target', 'time']\n",
    "features = [col for col in t.columns if col not in not_features]\n",
    "features"
   ]
  },
  {
   "cell_type": "code",
   "execution_count": 35,
   "id": "524fb26b",
   "metadata": {
    "execution": {
     "iopub.execute_input": "2024-07-19T09:32:45.482053Z",
     "iopub.status.busy": "2024-07-19T09:32:45.481738Z",
     "iopub.status.idle": "2024-07-19T09:32:45.487356Z",
     "shell.execute_reply": "2024-07-19T09:32:45.486527Z"
    },
    "papermill": {
     "duration": 0.026022,
     "end_time": "2024-07-19T09:32:45.489258",
     "exception": false,
     "start_time": "2024-07-19T09:32:45.463236",
     "status": "completed"
    },
    "tags": []
   },
   "outputs": [
    {
     "data": {
      "text/plain": [
       "320"
      ]
     },
     "execution_count": 35,
     "metadata": {},
     "output_type": "execute_result"
    }
   ],
   "source": [
    "len(features)"
   ]
  },
  {
   "cell_type": "markdown",
   "id": "4c133187",
   "metadata": {
    "papermill": {
     "duration": 0.017594,
     "end_time": "2024-07-19T09:32:45.524699",
     "exception": false,
     "start_time": "2024-07-19T09:32:45.507105",
     "status": "completed"
    },
    "tags": []
   },
   "source": [
    "#### Обучение моделей на кросс валидации"
   ]
  },
  {
   "cell_type": "code",
   "execution_count": 36,
   "id": "1d6a4ef2",
   "metadata": {
    "execution": {
     "iopub.execute_input": "2024-07-19T09:32:45.561226Z",
     "iopub.status.busy": "2024-07-19T09:32:45.560878Z",
     "iopub.status.idle": "2024-07-19T09:32:45.565333Z",
     "shell.execute_reply": "2024-07-19T09:32:45.564379Z"
    },
    "papermill": {
     "duration": 0.024811,
     "end_time": "2024-07-19T09:32:45.567232",
     "exception": false,
     "start_time": "2024-07-19T09:32:45.542421",
     "status": "completed"
    },
    "tags": []
   },
   "outputs": [],
   "source": [
    "target_enc_cols = ['tr_mcc_target_avg_total']\n",
    "monotone_constraints = [1 if col in target_enc_cols else 0 for col in features]"
   ]
  },
  {
   "cell_type": "code",
   "execution_count": 37,
   "id": "9d97fba4",
   "metadata": {
    "execution": {
     "iopub.execute_input": "2024-07-19T09:32:45.604870Z",
     "iopub.status.busy": "2024-07-19T09:32:45.604562Z",
     "iopub.status.idle": "2024-07-19T09:32:45.608424Z",
     "shell.execute_reply": "2024-07-19T09:32:45.607626Z"
    },
    "papermill": {
     "duration": 0.025216,
     "end_time": "2024-07-19T09:32:45.610321",
     "exception": false,
     "start_time": "2024-07-19T09:32:45.585105",
     "status": "completed"
    },
    "tags": []
   },
   "outputs": [],
   "source": [
    "cat_features = [features.index('report_cat')]"
   ]
  },
  {
   "cell_type": "code",
   "execution_count": 38,
   "id": "bb01fccb",
   "metadata": {
    "execution": {
     "iopub.execute_input": "2024-07-19T09:32:45.647505Z",
     "iopub.status.busy": "2024-07-19T09:32:45.647239Z",
     "iopub.status.idle": "2024-07-19T09:32:46.071531Z",
     "shell.execute_reply": "2024-07-19T09:32:46.070666Z"
    },
    "papermill": {
     "duration": 0.445428,
     "end_time": "2024-07-19T09:32:46.073833",
     "exception": false,
     "start_time": "2024-07-19T09:32:45.628405",
     "status": "completed"
    },
    "tags": []
   },
   "outputs": [],
   "source": [
    "from catboost import CatBoostClassifier\n",
    "\n",
    "params_2 = {\n",
    "    'n_estimators': 5000,\n",
    "    'depth': 7,\n",
    "    'learning_rate': 0.01,\n",
    "    'eval_metric': 'AUC',\n",
    "    'cat_features': cat_features,\n",
    "    'early_stopping_rounds': 500,\n",
    "    'metric_period': 500,\n",
    "    'task_type': 'GPU', \n",
    "    'devices': '0:1'\n",
    "}"
   ]
  },
  {
   "cell_type": "code",
   "execution_count": 39,
   "id": "796b4138",
   "metadata": {
    "execution": {
     "iopub.execute_input": "2024-07-19T09:32:46.111449Z",
     "iopub.status.busy": "2024-07-19T09:32:46.110947Z",
     "iopub.status.idle": "2024-07-19T09:32:46.116800Z",
     "shell.execute_reply": "2024-07-19T09:32:46.115992Z"
    },
    "papermill": {
     "duration": 0.026343,
     "end_time": "2024-07-19T09:32:46.118606",
     "exception": false,
     "start_time": "2024-07-19T09:32:46.092263",
     "status": "completed"
    },
    "tags": []
   },
   "outputs": [],
   "source": [
    "from xgboost import XGBClassifier\n",
    "\n",
    "params_4 = {\n",
    "    'reg_lambda': 2.954282453141972,\n",
    "    'reg_alpha': 2.714226004554789,\n",
    "    'subsample': 0.8747340624732572,\n",
    "    'colsample_bytree': 0.28932012021539283,\n",
    "    'gamma': 2.2132144067786714,\n",
    "    'min_child_weight': 18,\n",
    "    'max_depth': 7,\n",
    "    'learning_rate': 0.004519460989612957,\n",
    "    'tree_method': 'hist',\n",
    "    'n_estimators': 5000,\n",
    "    'monotone_constraints': tuple(monotone_constraints),\n",
    "    'enable_categorical': True,\n",
    "    'early_stopping_rounds': 500,\n",
    "    'device': 'cuda'\n",
    "}"
   ]
  },
  {
   "cell_type": "code",
   "execution_count": 40,
   "id": "bbd43971",
   "metadata": {
    "execution": {
     "iopub.execute_input": "2024-07-19T09:32:46.155595Z",
     "iopub.status.busy": "2024-07-19T09:32:46.155313Z",
     "iopub.status.idle": "2024-07-19T09:32:46.160699Z",
     "shell.execute_reply": "2024-07-19T09:32:46.159985Z"
    },
    "papermill": {
     "duration": 0.026059,
     "end_time": "2024-07-19T09:32:46.162702",
     "exception": false,
     "start_time": "2024-07-19T09:32:46.136643",
     "status": "completed"
    },
    "tags": []
   },
   "outputs": [],
   "source": [
    "from xgboost import XGBClassifier\n",
    "\n",
    "params_6 = {\n",
    "    'reg_lambda': 2.954282453141972,\n",
    "    'reg_alpha': 2.714226004554789,\n",
    "    'subsample': 0.8747340624732572,\n",
    "    'colsample_bytree': 0.28932012021539283,\n",
    "    'gamma': 2.2132144067786714,\n",
    "    'min_child_weight': 18,\n",
    "    'max_depth': 7,\n",
    "    'learning_rate': 0.004519460989612957,\n",
    "    'tree_method': 'hist',\n",
    "    'n_estimators': 5000,\n",
    "    'monotone_constraints': tuple(monotone_constraints),\n",
    "    'enable_categorical': True,\n",
    "    'early_stopping_rounds': 500,\n",
    "    'device': 'cuda'\n",
    "}"
   ]
  },
  {
   "cell_type": "code",
   "execution_count": 41,
   "id": "7419ee3d",
   "metadata": {
    "execution": {
     "iopub.execute_input": "2024-07-19T09:32:46.199266Z",
     "iopub.status.busy": "2024-07-19T09:32:46.198789Z",
     "iopub.status.idle": "2024-07-19T09:32:49.645205Z",
     "shell.execute_reply": "2024-07-19T09:32:49.644176Z"
    },
    "papermill": {
     "duration": 3.467227,
     "end_time": "2024-07-19T09:32:49.647565",
     "exception": false,
     "start_time": "2024-07-19T09:32:46.180338",
     "status": "completed"
    },
    "tags": []
   },
   "outputs": [
    {
     "name": "stderr",
     "output_type": "stream",
     "text": [
      "/opt/conda/lib/python3.10/site-packages/dask/dataframe/_pyarrow_compat.py:23: UserWarning: You are using pyarrow version 11.0.0 which is known to be insecure. See https://www.cve.org/CVERecord?id=CVE-2023-47248 for further details. Please upgrade to pyarrow>=14.0.1 or install pyarrow-hotfix to patch your current version.\n",
      "  warnings.warn(\n"
     ]
    }
   ],
   "source": [
    "import lightgbm as lgb\n",
    "\n",
    "params_7 = {\n",
    "    'n_estimators'     : 5000,\n",
    "    'objective'        : 'binary',\n",
    "    'verbose'          : -1,\n",
    "    'learning_rate'    : 0.005, \n",
    "    'colsample_bytree' : 0.5099540080762465, \n",
    "    'colsample_bynode' : 0.4575886155554022, \n",
    "    'lambda_l1'        : 3.2150774310219994, \n",
    "    'lambda_l2'        : 6.026390839987788, \n",
    "    'min_data_in_leaf' : 86, \n",
    "    'max_depth'        : 6, \n",
    "    'num_leaves'       : 174, \n",
    "    'max_bin'          : 255,\n",
    "    'monotone_constraints': monotone_constraints,\n",
    "    'device'           : 'gpu',\n",
    "    'early_stopping_rounds': 500\n",
    "}"
   ]
  },
  {
   "cell_type": "code",
   "execution_count": 42,
   "id": "64850c54",
   "metadata": {
    "execution": {
     "iopub.execute_input": "2024-07-19T09:32:49.685274Z",
     "iopub.status.busy": "2024-07-19T09:32:49.684961Z",
     "iopub.status.idle": "2024-07-19T09:32:49.690522Z",
     "shell.execute_reply": "2024-07-19T09:32:49.689728Z"
    },
    "papermill": {
     "duration": 0.026556,
     "end_time": "2024-07-19T09:32:49.692584",
     "exception": false,
     "start_time": "2024-07-19T09:32:49.666028",
     "status": "completed"
    },
    "tags": []
   },
   "outputs": [],
   "source": [
    "from xgboost import XGBRegressor\n",
    "\n",
    "params_9 = {\n",
    "    'objective': 'survival:cox',\n",
    "    'reg_lambda': 2.954282453141972,\n",
    "    'reg_alpha': 2.714226004554789,\n",
    "    'subsample': 0.8747340624732572,\n",
    "    'colsample_bytree': 0.28932012021539283,\n",
    "    'gamma': 2.2132144067786714,\n",
    "    'min_child_weight': 18,\n",
    "    'max_depth': 7,\n",
    "    'learning_rate': 0.004519460989612957,\n",
    "    'tree_method': 'hist',\n",
    "    'n_estimators': 5000,\n",
    "    'monotone_constraints': tuple(monotone_constraints),\n",
    "    'enable_categorical': True,\n",
    "    'early_stopping_rounds': 500,\n",
    "    'device': 'cuda'\n",
    "}"
   ]
  },
  {
   "cell_type": "code",
   "execution_count": 43,
   "id": "875eb4f6",
   "metadata": {
    "execution": {
     "iopub.execute_input": "2024-07-19T09:32:49.729733Z",
     "iopub.status.busy": "2024-07-19T09:32:49.729186Z",
     "iopub.status.idle": "2024-07-19T09:32:49.734936Z",
     "shell.execute_reply": "2024-07-19T09:32:49.734156Z"
    },
    "papermill": {
     "duration": 0.026444,
     "end_time": "2024-07-19T09:32:49.736800",
     "exception": false,
     "start_time": "2024-07-19T09:32:49.710356",
     "status": "completed"
    },
    "tags": []
   },
   "outputs": [],
   "source": [
    "import xgboost as xgb\n",
    "\n",
    "params_10 = {\n",
    "    'objective': 'survival:aft',\n",
    "    'eval_metric': 'aft-nloglik',\n",
    "    'aft_loss_distribution': 'normal',\n",
    "    'aft_loss_distribution_scale': 1.20,\n",
    "    'reg_lambda': 2.954282453141972,\n",
    "    'reg_alpha': 2.714226004554789,\n",
    "    'subsample': 0.8747340624732572,\n",
    "    'colsample_bytree': 0.28932012021539283,\n",
    "    'gamma': 2.2132144067786714,\n",
    "    'min_child_weight': 18,\n",
    "    'max_depth': 7,\n",
    "    'learning_rate': 0.004519460989612957,\n",
    "    'tree_method': 'hist',\n",
    "    #'n_estimators': 5000,\n",
    "    'monotone_constraints': tuple(monotone_constraints),\n",
    "    'enable_categorical': True,\n",
    "    #'early_stopping_rounds': 500,\n",
    "    'device': 'cuda'\n",
    "}"
   ]
  },
  {
   "cell_type": "code",
   "execution_count": 44,
   "id": "8ba611f1",
   "metadata": {
    "execution": {
     "iopub.execute_input": "2024-07-19T09:32:49.773972Z",
     "iopub.status.busy": "2024-07-19T09:32:49.773733Z",
     "iopub.status.idle": "2024-07-19T10:17:30.757389Z",
     "shell.execute_reply": "2024-07-19T10:17:30.756385Z"
    },
    "papermill": {
     "duration": 2681.005975,
     "end_time": "2024-07-19T10:17:30.760608",
     "exception": false,
     "start_time": "2024-07-19T09:32:49.754633",
     "status": "completed"
    },
    "tags": []
   },
   "outputs": [
    {
     "name": "stderr",
     "output_type": "stream",
     "text": [
      "  0%|          | 0/5 [00:00<?, ?it/s]"
     ]
    },
    {
     "name": "stdout",
     "output_type": "stream",
     "text": [
      "Training until validation scores don't improve for 500 rounds\n",
      "Early stopping, best iteration is:\n",
      "[2759]    valid_0's binary_logloss: 0.24523235192657517\n"
     ]
    },
    {
     "name": "stderr",
     "output_type": "stream",
     "text": [
      "/opt/conda/lib/python3.10/site-packages/xgboost/core.py:160: UserWarning: [09:33:56] WARNING: /workspace/src/common/error_msg.cc:58: Falling back to prediction using DMatrix due to mismatched devices. This might lead to higher memory usage and slower performance. XGBoost is running on: cuda:0, while the input data is on: cpu.\n",
      "Potential solutions:\n",
      "- Use a data structure that matches the device ordinal in the booster.\n",
      "- Set the device for booster before call to inplace_predict.\n",
      "\n",
      "This warning will only be shown once.\n",
      "\n",
      "  warnings.warn(smsg, UserWarning)\n"
     ]
    },
    {
     "name": "stdout",
     "output_type": "stream",
     "text": [
      "0.9037978366373983\n",
      "0.7811723612345992\n",
      "Training until validation scores don't improve for 500 rounds\n",
      "Early stopping, best iteration is:\n",
      "[3133]    valid_0's multi_logloss: 0.38923432624022053\n"
     ]
    },
    {
     "name": "stderr",
     "output_type": "stream",
     "text": [
      "1 warning generated.\n",
      "1 warning generated.\n",
      "1 warning generated.\n",
      "1 warning generated.\n",
      "1 warning generated.\n",
      "1 warning generated.\n",
      "1 warning generated.\n",
      "1 warning generated.\n",
      "1 warning generated.\n",
      "1 warning generated.\n",
      "1 warning generated.\n",
      "1 warning generated.\n",
      "1 warning generated.\n",
      "1 warning generated.\n",
      "1 warning generated.\n",
      "1 warning generated.\n",
      "1 warning generated.\n",
      "1 warning generated.\n",
      "1 warning generated.\n",
      "1 warning generated.\n",
      "1 warning generated.\n",
      "1 warning generated.\n",
      "1 warning generated.\n",
      "1 warning generated.\n",
      "1 warning generated.\n",
      "1 warning generated.\n",
      "1 warning generated.\n",
      "1 warning generated.\n",
      "1 warning generated.\n",
      "1 warning generated.\n",
      "1 warning generated.\n",
      "1 warning generated.\n",
      "1 warning generated.\n"
     ]
    },
    {
     "name": "stdout",
     "output_type": "stream",
     "text": [
      "Training until validation scores don't improve for 500 rounds\n",
      "Early stopping, best iteration is:\n",
      "[3341]    valid_0's loss: OrderedDict([('binary_logloss', 0.48405940327829433)])\n",
      "0.7876718079279343\n",
      "0.7178159955967653\n",
      "0:\ttest: 0.6803878\tbest: 0.6803878 (0)\ttotal: 13.2s\tremaining: 18h 16m 8s\n",
      "500:\ttest: 0.7587749\tbest: 0.7587866 (499)\ttotal: 27.6s\tremaining: 4m 7s\n",
      "1000:\ttest: 0.7641608\tbest: 0.7641608 (1000)\ttotal: 42.2s\tremaining: 2m 48s\n",
      "1500:\ttest: 0.7674480\tbest: 0.7674480 (1500)\ttotal: 56.6s\tremaining: 2m 11s\n",
      "2000:\ttest: 0.7693902\tbest: 0.7693902 (2000)\ttotal: 1m 10s\tremaining: 1m 46s\n",
      "2500:\ttest: 0.7698857\tbest: 0.7699830 (2387)\ttotal: 1m 25s\tremaining: 1m 25s\n",
      "3000:\ttest: 0.7709487\tbest: 0.7709735 (2994)\ttotal: 1m 39s\tremaining: 1m 6s\n",
      "3500:\ttest: 0.7715590\tbest: 0.7716179 (3485)\ttotal: 1m 53s\tremaining: 48.8s\n",
      "4000:\ttest: 0.7722851\tbest: 0.7723957 (3930)\ttotal: 2m 8s\tremaining: 32s\n",
      "4500:\ttest: 0.7723775\tbest: 0.7725105 (4352)\ttotal: 2m 22s\tremaining: 15.8s\n",
      "bestTest = 0.7725105286\n",
      "bestIteration = 4352\n",
      "Shrink model to first 4353 iterations.\n",
      "Training until validation scores don't improve for 500 rounds\n",
      "Early stopping, best iteration is:\n",
      "[4352]    valid_0's binary_logloss: {'learn': {'Logloss': 0.17182941272613728}, 'validation': {'Logloss': 0.24651892475409515, 'AUC': 0.7725105285644531}}\n"
     ]
    },
    {
     "name": "stderr",
     "output_type": "stream",
     "text": [
      " 20%|██        | 1/5 [09:56<39:44, 596.03s/it]"
     ]
    },
    {
     "name": "stdout",
     "output_type": "stream",
     "text": [
      "0.9148843316454972\n",
      "0.7771864600533469\n",
      "Training until validation scores don't improve for 500 rounds\n",
      "Early stopping, best iteration is:\n",
      "[4448]    valid_0's binary_logloss: 0.2372750830031028\n",
      "0.9305393030212246\n",
      "0.7881548414746162\n",
      "Training until validation scores don't improve for 500 rounds\n",
      "Early stopping, best iteration is:\n",
      "[3729]    valid_0's multi_logloss: 0.3834355978720184\n",
      "Training until validation scores don't improve for 500 rounds\n",
      "Early stopping, best iteration is:\n",
      "[3100]    valid_0's loss: OrderedDict([('binary_logloss', 0.4837120928400544)])\n",
      "0.7827817831383039\n",
      "0.726073464589259\n",
      "0:\ttest: 0.6551921\tbest: 0.6551921 (0)\ttotal: 32.7ms\tremaining: 2m 43s\n",
      "500:\ttest: 0.7720081\tbest: 0.7720081 (500)\ttotal: 14.5s\tremaining: 2m 9s\n",
      "1000:\ttest: 0.7790440\tbest: 0.7790440 (1000)\ttotal: 29.1s\tremaining: 1m 56s\n",
      "1500:\ttest: 0.7823457\tbest: 0.7823876 (1495)\ttotal: 43.6s\tremaining: 1m 41s\n",
      "2000:\ttest: 0.7844929\tbest: 0.7844929 (2000)\ttotal: 58s\tremaining: 1m 27s\n",
      "2500:\ttest: 0.7860556\tbest: 0.7860684 (2498)\ttotal: 1m 12s\tremaining: 1m 12s\n",
      "3000:\ttest: 0.7870961\tbest: 0.7871396 (2960)\ttotal: 1m 26s\tremaining: 57.8s\n",
      "3500:\ttest: 0.7879529\tbest: 0.7880672 (3440)\ttotal: 1m 41s\tremaining: 43.4s\n",
      "4000:\ttest: 0.7883165\tbest: 0.7884760 (3923)\ttotal: 1m 55s\tremaining: 28.9s\n",
      "4500:\ttest: 0.7888890\tbest: 0.7889885 (4445)\ttotal: 2m 10s\tremaining: 14.5s\n",
      "4999:\ttest: 0.7889729\tbest: 0.7890157 (4930)\ttotal: 2m 24s\tremaining: 0us\n",
      "bestTest = 0.7890156507\n",
      "bestIteration = 4930\n",
      "Shrink model to first 4931 iterations.\n",
      "Training until validation scores don't improve for 500 rounds\n",
      "Early stopping, best iteration is:\n",
      "[4930]    valid_0's binary_logloss: {'learn': {'Logloss': 0.16737394609469533}, 'validation': {'Logloss': 0.2382907003579964, 'AUC': 0.7890156507492065}}\n"
     ]
    },
    {
     "name": "stderr",
     "output_type": "stream",
     "text": [
      " 40%|████      | 2/5 [19:56<29:55, 598.41s/it]"
     ]
    },
    {
     "name": "stdout",
     "output_type": "stream",
     "text": [
      "0.92434172587046\n",
      "0.7844853782976284\n",
      "Training until validation scores don't improve for 500 rounds\n",
      "Early stopping, best iteration is:\n",
      "[2525]    valid_0's binary_logloss: 0.24047901732788868\n",
      "0.8987016414795442\n",
      "0.7787452123974302\n",
      "Training until validation scores don't improve for 500 rounds\n",
      "Early stopping, best iteration is:\n",
      "[2351]    valid_0's multi_logloss: 0.3855814216188271\n",
      "Training until validation scores don't improve for 500 rounds\n",
      "Early stopping, best iteration is:\n",
      "[3764]    valid_0's loss: OrderedDict([('binary_logloss', 0.4731816726175049)])\n",
      "0.7906271536663726\n",
      "0.728814322096287\n",
      "0:\ttest: 0.6511829\tbest: 0.6511829 (0)\ttotal: 31.5ms\tremaining: 2m 37s\n",
      "500:\ttest: 0.7734830\tbest: 0.7734830 (500)\ttotal: 14.5s\tremaining: 2m 10s\n",
      "1000:\ttest: 0.7772124\tbest: 0.7772124 (1000)\ttotal: 29.1s\tremaining: 1m 56s\n",
      "1500:\ttest: 0.7779306\tbest: 0.7779306 (1500)\ttotal: 43.5s\tremaining: 1m 41s\n",
      "2000:\ttest: 0.7782860\tbest: 0.7784439 (1775)\ttotal: 58.1s\tremaining: 1m 27s\n",
      "2500:\ttest: 0.7779025\tbest: 0.7784472 (2239)\ttotal: 1m 12s\tremaining: 1m 12s\n",
      "bestTest = 0.778447181\n",
      "bestIteration = 2239\n",
      "Shrink model to first 2240 iterations.\n",
      "Training until validation scores don't improve for 500 rounds\n",
      "Early stopping, best iteration is:\n",
      "[2239]    valid_0's binary_logloss: {'learn': {'Logloss': 0.19943526032729506}, 'validation': {'Logloss': 0.24163549566613912, 'AUC': 0.7784471809864044}}\n"
     ]
    },
    {
     "name": "stderr",
     "output_type": "stream",
     "text": [
      " 60%|██████    | 3/5 [27:53<18:06, 543.12s/it]"
     ]
    },
    {
     "name": "stdout",
     "output_type": "stream",
     "text": [
      "0.8664352755078214\n",
      "0.7785603417851807\n",
      "Training until validation scores don't improve for 500 rounds\n",
      "Early stopping, best iteration is:\n",
      "[2726]    valid_0's binary_logloss: 0.23951380050866805\n",
      "0.9049890725127089\n",
      "0.7830022824877325\n",
      "Training until validation scores don't improve for 500 rounds\n",
      "Early stopping, best iteration is:\n",
      "[4159]    valid_0's multi_logloss: 0.37704095499950796\n",
      "Training until validation scores don't improve for 500 rounds\n",
      "Early stopping, best iteration is:\n",
      "[2289]    valid_0's loss: OrderedDict([('binary_logloss', 0.47588857566094545)])\n",
      "0.7718818861359671\n",
      "0.7216449822903475\n",
      "0:\ttest: 0.6455393\tbest: 0.6455393 (0)\ttotal: 31.7ms\tremaining: 2m 38s\n",
      "500:\ttest: 0.7713493\tbest: 0.7713493 (500)\ttotal: 14.5s\tremaining: 2m 9s\n",
      "1000:\ttest: 0.7759611\tbest: 0.7759878 (974)\ttotal: 28.9s\tremaining: 1m 55s\n",
      "1500:\ttest: 0.7781818\tbest: 0.7781889 (1496)\ttotal: 43.5s\tremaining: 1m 41s\n",
      "2000:\ttest: 0.7793486\tbest: 0.7793968 (1979)\ttotal: 58s\tremaining: 1m 26s\n",
      "2500:\ttest: 0.7801650\tbest: 0.7801719 (2475)\ttotal: 1m 12s\tremaining: 1m 12s\n",
      "3000:\ttest: 0.7801927\tbest: 0.7804539 (2706)\ttotal: 1m 27s\tremaining: 58.2s\n",
      "bestTest = 0.7804538608\n",
      "bestIteration = 2706\n",
      "Shrink model to first 2707 iterations.\n",
      "Training until validation scores don't improve for 500 rounds\n",
      "Early stopping, best iteration is:\n",
      "[2706]    valid_0's binary_logloss: {'learn': {'Logloss': 0.19283869453820565}, 'validation': {'Logloss': 0.24034738588721405, 'AUC': 0.7804538607597351}}\n"
     ]
    },
    {
     "name": "stderr",
     "output_type": "stream",
     "text": [
      " 80%|████████  | 4/5 [36:15<08:46, 526.76s/it]"
     ]
    },
    {
     "name": "stdout",
     "output_type": "stream",
     "text": [
      "0.8782567375585221\n",
      "0.7806287172630869\n",
      "Training until validation scores don't improve for 500 rounds\n",
      "Early stopping, best iteration is:\n",
      "[2670]    valid_0's binary_logloss: 0.24656589633958093\n",
      "0.9018286567918491\n",
      "0.7724706481264668\n",
      "Training until validation scores don't improve for 500 rounds\n",
      "Early stopping, best iteration is:\n",
      "[2436]    valid_0's multi_logloss: 0.39271083336668294\n",
      "Training until validation scores don't improve for 500 rounds\n",
      "Early stopping, best iteration is:\n",
      "[3576]    valid_0's loss: OrderedDict([('binary_logloss', 0.48183743465415574)])\n",
      "0.7897056239019568\n",
      "0.7128637504933744\n",
      "0:\ttest: 0.6444563\tbest: 0.6444563 (0)\ttotal: 31.8ms\tremaining: 2m 39s\n",
      "500:\ttest: 0.7636869\tbest: 0.7636869 (500)\ttotal: 14.5s\tremaining: 2m 10s\n",
      "1000:\ttest: 0.7670665\tbest: 0.7670665 (1000)\ttotal: 28.9s\tremaining: 1m 55s\n",
      "1500:\ttest: 0.7688868\tbest: 0.7688868 (1500)\ttotal: 43.4s\tremaining: 1m 41s\n",
      "2000:\ttest: 0.7701522\tbest: 0.7701569 (1999)\ttotal: 57.9s\tremaining: 1m 26s\n",
      "2500:\ttest: 0.7709430\tbest: 0.7709430 (2500)\ttotal: 1m 12s\tremaining: 1m 12s\n",
      "3000:\ttest: 0.7712733\tbest: 0.7713682 (2682)\ttotal: 1m 26s\tremaining: 57.9s\n",
      "3500:\ttest: 0.7715902\tbest: 0.7717626 (3413)\ttotal: 1m 41s\tremaining: 43.4s\n",
      "bestTest = 0.7717625797\n",
      "bestIteration = 3413\n",
      "Shrink model to first 3414 iterations.\n",
      "Training until validation scores don't improve for 500 rounds\n",
      "Early stopping, best iteration is:\n",
      "[3413]    valid_0's binary_logloss: {'learn': {'Logloss': 0.18565879427266682}, 'validation': {'Logloss': 0.24718559058808673, 'AUC': 0.7717625796794891}}\n"
     ]
    },
    {
     "name": "stderr",
     "output_type": "stream",
     "text": [
      "100%|██████████| 5/5 [44:40<00:00, 536.19s/it]"
     ]
    },
    {
     "name": "stdout",
     "output_type": "stream",
     "text": [
      "0.8942225320289556\n",
      "0.772136796429488\n"
     ]
    },
    {
     "name": "stderr",
     "output_type": "stream",
     "text": [
      "\n"
     ]
    }
   ],
   "source": [
    "p_train = defaultdict(list)\n",
    "p_valid = defaultdict(list)\n",
    "valid_loss = defaultdict(list)\n",
    "n_iter = defaultdict(list)\n",
    "for i in tqdm(range(5)):\n",
    "    train_mask = t['target'].notnull() & (t['user_id'] % 5 != i)\n",
    "    valid_mask = t['target'].notnull() & (t['user_id'] % 5 == i)\n",
    "    X_train = t.loc[train_mask, features]\n",
    "    y_train = np.array(list(y.loc[train_mask].itertuples(index = False, name = None)), dtype=[('target', np.bool_), ('time', 'f8')])\n",
    "    X_valid = t.loc[valid_mask, features]\n",
    "    y_valid = np.array(list(y.loc[valid_mask].itertuples(index = False, name = None)), dtype=[('target', np.bool_), ('time', 'f8')])\n",
    "    y_train_cbt = np.where(y.loc[train_mask]['target'], y.loc[train_mask]['time'], -y.loc[train_mask]['time'])\n",
    "    y_valid_cbt = np.where(y.loc[valid_mask]['target'], y.loc[valid_mask]['time'], -y.loc[valid_mask]['time'])\n",
    "    y_train_cbt_2 = y.loc[train_mask].copy()\n",
    "    y_train_cbt_2['y_lower'] = np.where(y_train_cbt_2['target'], y_train_cbt_2['time'], 91)\n",
    "    y_train_cbt_2['y_upper'] = np.where(y_train_cbt_2['target'], y_train_cbt_2['time'], +np.inf)\n",
    "    y_train_cbt_2 = y_train_cbt_2[['y_lower', 'y_upper']]\n",
    "    y_valid_cbt_2 = y.loc[valid_mask].copy()\n",
    "    y_valid_cbt_2['y_lower'] = np.where(y_valid_cbt_2['target'], y_valid_cbt_2['time'], 91)\n",
    "    y_valid_cbt_2['y_upper'] = np.where(y_valid_cbt_2['target'], y_valid_cbt_2['time'], +np.inf)\n",
    "    y_valid_cbt_2 = y_valid_cbt_2[['y_lower', 'y_upper']]\n",
    "    y_train_lgb = y.loc[train_mask]['target']\n",
    "    y_valid_lgb = y.loc[valid_mask]['target']\n",
    "    y_2 = y.copy()\n",
    "    y_2['target_2'] = y_2['target']\n",
    "    y_2.loc[(y_2['target'] == 1), 'target_2'] = 2\n",
    "    y_2.loc[(y_2['target'] == 0) & (y_2['time'] < 45), 'target_2'] = 1\n",
    "    y_train_lgb_2 = y_2.loc[train_mask]['target_2']\n",
    "    y_valid_lgb_2 = y_2.loc[valid_mask]['target_2']\n",
    "    y_train_lgb_3 = y.loc[train_mask]['time'] + 60*(1-y.loc[train_mask]['target'])\n",
    "    y_valid_lgb_3 = y.loc[valid_mask]['time'] + 60*(1-y.loc[valid_mask]['target'])\n",
    "    y_train_lgb_4 = (y.loc[train_mask]['time'] <= 80).map(int)\n",
    "    y_valid_lgb_4 = (y.loc[valid_mask]['time'] <= 80).map(int)\n",
    "    \n",
    "    \n",
    "    \n",
    "    model_4 = XGBClassifier(**params_4)\n",
    "    model_4.fit(X_train, y_train_lgb, eval_set=[(X_valid, y_valid_lgb)], verbose=False)\n",
    "    if params_4.get('early_stopping_rounds') is not None:\n",
    "        print(f\"Training until validation scores don't improve for {params_4.get('early_stopping_rounds')} rounds\")\n",
    "        print('Early stopping, best iteration is:')\n",
    "        print(f\"[{model_4.best_iteration}]    valid_0's binary_logloss: {model_4.best_score}\")\n",
    "    \n",
    "    p_train['xgb'].append(model_4.predict_proba(X_train)[:, 1])\n",
    "    p_valid['xgb'].append(model_4.predict_proba(X_valid)[:, 1])\n",
    "    valid_loss['xgb'].append(model_4.best_score)\n",
    "    n_iter['xgb'].append(model_4.best_iteration) \n",
    "    print(c_index(y_train, p_train['xgb'][-1]))\n",
    "    print(c_index(y_valid, p_valid['xgb'][-1]))\n",
    "    \n",
    "    \n",
    "    \n",
    "    model_6 = XGBClassifier(**params_6)\n",
    "    model_6.fit(X_train, y_train_lgb_2, eval_set=[(X_valid, y_valid_lgb_2)], verbose=False)\n",
    "    if params_6.get('early_stopping_rounds') is not None:\n",
    "        print(f\"Training until validation scores don't improve for {params_6.get('early_stopping_rounds')} rounds\")\n",
    "        print('Early stopping, best iteration is:')\n",
    "        print(f\"[{model_6.best_iteration}]    valid_0's multi_logloss: {model_6.best_score}\")\n",
    "    \n",
    "    p_train['xgb_multi'].append(model_6.predict_proba(X_train))\n",
    "    p_valid['xgb_multi'].append(model_6.predict_proba(X_valid))\n",
    "    valid_loss['xgb_multi'].append(model_6.best_score)\n",
    "    n_iter['xgb_multi'].append(model_6.best_iteration) \n",
    "    \n",
    "    \n",
    "    \n",
    "    model_7 = lgb.LGBMClassifier(**params_7, random_state=100)\n",
    "    model_7.fit(X_train, y_train_lgb_4, eval_set=(X_valid, y_valid_lgb_4))\n",
    "    if params_7.get('early_stopping_rounds') is not None:\n",
    "        print(f\"Training until validation scores don't improve for {params_7.get('early_stopping_rounds')} rounds\")\n",
    "        print('Early stopping, best iteration is:')\n",
    "        print(f\"[{model_7.best_iteration_}]    valid_0's loss: {model_7.best_score_['valid_0']}\")\n",
    "        \n",
    "    p_train['lgb_2'].append(model_7.predict_proba(X_train)[:, 1])\n",
    "    p_valid['lgb_2'].append(model_7.predict_proba(X_valid)[:, 1])\n",
    "    valid_loss['lgb_2'].append(model_7.best_score_['valid_0'])\n",
    "    n_iter['lgb_2'].append(model_7.best_iteration_)\n",
    "    print(c_index(y_train, p_train['lgb_2'][-1]))\n",
    "    print(c_index(y_valid, p_valid['lgb_2'][-1]))\n",
    "    \n",
    "        \n",
    "    \n",
    "    #model_9 = XGBRegressor(**params_9)\n",
    "    #model_9.fit(X_train, y_train_cbt, eval_set=[(X_valid, y_valid_cbt)], verbose=False)\n",
    "    #if params_9.get('early_stopping_rounds') is not None:\n",
    "    #    print(f\"Training until validation scores don't improve for {params_9.get('early_stopping_rounds')} rounds\")\n",
    "    #    print('Early stopping, best iteration is:')\n",
    "    #    print(f\"[{model_9.best_iteration}]    valid_0's loss: {model_9.best_score}\")\n",
    "    \n",
    "    #p_train['xgb_cox'].append(model_9.predict(X_train))\n",
    "    #p_valid['xgb_cox'].append(model_9.predict(X_valid))\n",
    "    #valid_loss['xgb_cox'].append(model_9.best_score)\n",
    "    #n_iter['xgb_cox'].append(model_9.best_iteration) \n",
    "    #print(c_index(y_train, p_train['xgb_cox'][-1]))\n",
    "    #print(c_index(y_valid, p_valid['xgb_cox'][-1]))\n",
    "    \n",
    "    \n",
    "    \n",
    "    #dtrain = xgb.DMatrix(X_train)\n",
    "    #dtrain.set_float_info('label_lower_bound', y_train_cbt_2['y_lower'])\n",
    "    #dtrain.set_float_info('label_upper_bound', y_train_cbt_2['y_upper'])\n",
    "    #dvalid = xgb.DMatrix(X_valid)\n",
    "    #dvalid.set_float_info('label_lower_bound', y_valid_cbt_2['y_lower'])\n",
    "    #dvalid.set_float_info('label_upper_bound', y_valid_cbt_2['y_upper'])\n",
    "\n",
    "    #model_10 = xgb.train(params_10, dtrain, num_boost_round=5000, early_stopping_rounds=500, verbose_eval=False,\n",
    "    #                evals=[(dvalid, 'valid')])\n",
    "\n",
    "    #print(f\"[{model_10.best_iteration}]    valid_0's loss: {model_10.best_score}\")\n",
    "\n",
    "    #p_train['xgb_aft'].append(model_10.predict(dtrain, iteration_range=(0,model_10.best_iteration)))\n",
    "    #p_valid['xgb_aft'].append(model_10.predict(dvalid, iteration_range=(0,model_10.best_iteration)))\n",
    "    #valid_loss['xgb_aft'].append(model_10.best_score)\n",
    "    #n_iter['xgb_aft'].append(model_10.best_iteration) \n",
    "    #print(c_index(y_train, p_train['xgb_aft'][-1]))\n",
    "    #print(c_index(y_valid, p_valid['xgb_aft'][-1]))\n",
    "    \n",
    "    \n",
    "    \n",
    "    model_2 = CatBoostClassifier(**params_2)\n",
    "    model_2.fit(X_train, y_train_lgb, eval_set=(X_valid, y_valid_lgb))\n",
    "    if params_2.get('early_stopping_rounds') is not None:\n",
    "        print(f\"Training until validation scores don't improve for {params_2.get('early_stopping_rounds')} rounds\")\n",
    "        print('Early stopping, best iteration is:')\n",
    "        print(f\"[{model_2.best_iteration_}]    valid_0's binary_logloss: {model_2.best_score_}\")\n",
    "        \n",
    "    p_train['cat'].append(model_2.predict_proba(X_train)[:, 1])\n",
    "    p_valid['cat'].append(model_2.predict_proba(X_valid)[:, 1])\n",
    "    valid_loss['cat'].append(model_2.best_score_)\n",
    "    n_iter['cat'].append(model_2.best_iteration_)\n",
    "    print(c_index(y_train, p_train['cat'][-1]))\n",
    "    print(c_index(y_valid, p_valid['cat'][-1]))\n",
    "    "
   ]
  },
  {
   "cell_type": "markdown",
   "id": "e7df47c3",
   "metadata": {
    "papermill": {
     "duration": 0.025787,
     "end_time": "2024-07-19T10:17:30.813194",
     "exception": false,
     "start_time": "2024-07-19T10:17:30.787407",
     "status": "completed"
    },
    "tags": []
   },
   "source": [
    "#### Blending / взвешивание на кросс валидации"
   ]
  },
  {
   "cell_type": "code",
   "execution_count": 45,
   "id": "cc15dc2f",
   "metadata": {
    "execution": {
     "iopub.execute_input": "2024-07-19T10:17:30.866091Z",
     "iopub.status.busy": "2024-07-19T10:17:30.865810Z",
     "iopub.status.idle": "2024-07-19T10:17:30.876607Z",
     "shell.execute_reply": "2024-07-19T10:17:30.875741Z"
    },
    "papermill": {
     "duration": 0.039716,
     "end_time": "2024-07-19T10:17:30.878561",
     "exception": false,
     "start_time": "2024-07-19T10:17:30.838845",
     "status": "completed"
    },
    "tags": []
   },
   "outputs": [],
   "source": [
    " def objective():\n",
    "    res = pd.DataFrame(columns=['train_score', 'valid_score'])\n",
    "    for i in range(5):\n",
    "        train_mask = ((t['target'].notnull()) & (t['user_id'] % 5 != i))\n",
    "        valid_mask = ((t['target'].notnull()) & (t['user_id'] % 5 == i))\n",
    "        X_train = t.loc[train_mask, features]\n",
    "        y_train = np.array(list(y.loc[train_mask].itertuples(index = False, name = None)), dtype=[('target', np.bool_), ('time', 'f8')])\n",
    "        X_valid = t.loc[valid_mask, features]\n",
    "        y_valid = np.array(list(y.loc[valid_mask].itertuples(index = False, name = None)), dtype=[('target', np.bool_), ('time', 'f8')])\n",
    "\n",
    "        #a = trial.suggest_float('a', 0.0, 0.1)\n",
    "        #b = trial.suggest_float('b', 0.0, 2.0)\n",
    "        #c = trial.suggest_float('c', 0.0, 2.0)\n",
    "        #d = trial.suggest_float('d', -0.2, 0.0)\n",
    "        a = 0.03\n",
    "        b = 1.6\n",
    "        c = 0.0\n",
    "        d = -0.08\n",
    "\n",
    "        q_train = a*p_train['lgb_2'][i] + p_train['xgb'][i] + c*p_train['cat'][i] + b*p_train['xgb_multi'][i][:, 2] + d*p_train['xgb_multi'][i][:, 0]\n",
    "        q_valid = a*p_valid['lgb_2'][i] + p_valid['xgb'][i] + c*p_valid['cat'][i] + b*p_valid['xgb_multi'][i][:, 2] + d*p_valid['xgb_multi'][i][:, 0]\n",
    "\n",
    "        res.loc[i] = [c_index(y_train, q_train), c_index(y_valid, q_valid)]\n",
    "        \n",
    "    return res.mean()['valid_score']"
   ]
  },
  {
   "cell_type": "code",
   "execution_count": 46,
   "id": "b32cd49a",
   "metadata": {
    "execution": {
     "iopub.execute_input": "2024-07-19T10:17:30.931390Z",
     "iopub.status.busy": "2024-07-19T10:17:30.931087Z",
     "iopub.status.idle": "2024-07-19T10:17:41.081367Z",
     "shell.execute_reply": "2024-07-19T10:17:41.080484Z"
    },
    "papermill": {
     "duration": 10.178863,
     "end_time": "2024-07-19T10:17:41.083327",
     "exception": false,
     "start_time": "2024-07-19T10:17:30.904464",
     "status": "completed"
    },
    "tags": []
   },
   "outputs": [
    {
     "data": {
      "text/plain": [
       "0.7827001668142879"
      ]
     },
     "execution_count": 46,
     "metadata": {},
     "output_type": "execute_result"
    }
   ],
   "source": [
    "objective()"
   ]
  },
  {
   "cell_type": "code",
   "execution_count": 47,
   "id": "adec595d",
   "metadata": {
    "execution": {
     "iopub.execute_input": "2024-07-19T10:17:41.138237Z",
     "iopub.status.busy": "2024-07-19T10:17:41.137365Z",
     "iopub.status.idle": "2024-07-19T10:17:41.141433Z",
     "shell.execute_reply": "2024-07-19T10:17:41.140540Z"
    },
    "papermill": {
     "duration": 0.033437,
     "end_time": "2024-07-19T10:17:41.143363",
     "exception": false,
     "start_time": "2024-07-19T10:17:41.109926",
     "status": "completed"
    },
    "tags": []
   },
   "outputs": [],
   "source": [
    "#import optuna\n",
    "#study = optuna.create_study(direction='maximize', study_name='Blend')\n",
    "#study.optimize(objective, n_trials=100, show_progress_bar=False, n_jobs=-1)"
   ]
  },
  {
   "cell_type": "code",
   "execution_count": 48,
   "id": "79cd69a5",
   "metadata": {
    "execution": {
     "iopub.execute_input": "2024-07-19T10:17:41.196601Z",
     "iopub.status.busy": "2024-07-19T10:17:41.196331Z",
     "iopub.status.idle": "2024-07-19T10:17:41.200309Z",
     "shell.execute_reply": "2024-07-19T10:17:41.199282Z"
    },
    "papermill": {
     "duration": 0.032782,
     "end_time": "2024-07-19T10:17:41.202137",
     "exception": false,
     "start_time": "2024-07-19T10:17:41.169355",
     "status": "completed"
    },
    "tags": []
   },
   "outputs": [],
   "source": [
    "#study.best_params"
   ]
  },
  {
   "cell_type": "markdown",
   "id": "d5810ff6",
   "metadata": {
    "papermill": {
     "duration": 0.026694,
     "end_time": "2024-07-19T10:17:41.254669",
     "exception": false,
     "start_time": "2024-07-19T10:17:41.227975",
     "status": "completed"
    },
    "tags": []
   },
   "source": [
    "#### Обучение на всем train"
   ]
  },
  {
   "cell_type": "code",
   "execution_count": 49,
   "id": "15de839b",
   "metadata": {
    "execution": {
     "iopub.execute_input": "2024-07-19T10:17:41.307784Z",
     "iopub.status.busy": "2024-07-19T10:17:41.307468Z",
     "iopub.status.idle": "2024-07-19T10:17:41.313392Z",
     "shell.execute_reply": "2024-07-19T10:17:41.312506Z"
    },
    "papermill": {
     "duration": 0.034746,
     "end_time": "2024-07-19T10:17:41.315434",
     "exception": false,
     "start_time": "2024-07-19T10:17:41.280688",
     "status": "completed"
    },
    "tags": []
   },
   "outputs": [
    {
     "data": {
      "text/plain": [
       "3025.6"
      ]
     },
     "execution_count": 49,
     "metadata": {},
     "output_type": "execute_result"
    }
   ],
   "source": [
    "sum(n_iter['xgb']) / len(n_iter['xgb'])"
   ]
  },
  {
   "cell_type": "code",
   "execution_count": 50,
   "id": "98e836d3",
   "metadata": {
    "execution": {
     "iopub.execute_input": "2024-07-19T10:17:41.369157Z",
     "iopub.status.busy": "2024-07-19T10:17:41.368870Z",
     "iopub.status.idle": "2024-07-19T10:26:09.871826Z",
     "shell.execute_reply": "2024-07-19T10:26:09.870682Z"
    },
    "papermill": {
     "duration": 508.532849,
     "end_time": "2024-07-19T10:26:09.874109",
     "exception": false,
     "start_time": "2024-07-19T10:17:41.341260",
     "status": "completed"
    },
    "tags": []
   },
   "outputs": [
    {
     "name": "stdout",
     "output_type": "stream",
     "text": [
      "0.8972714244879277\n",
      "0.8970621533511156\n",
      "0.7738523470338344\n",
      "0.7696304669969093\n",
      "0:\ttest: 0.6822394\tbest: 0.6822394 (0)\ttotal: 32.9ms\tremaining: 1m 41s\n",
      "500:\ttest: 0.7875082\tbest: 0.7875082 (500)\ttotal: 14.2s\tremaining: 1m 13s\n",
      "1000:\ttest: 0.8100571\tbest: 0.8100571 (1000)\ttotal: 28.5s\tremaining: 59.8s\n",
      "1500:\ttest: 0.8292781\tbest: 0.8292781 (1500)\ttotal: 42.7s\tremaining: 45.5s\n",
      "2000:\ttest: 0.8467086\tbest: 0.8467086 (2000)\ttotal: 56.7s\tremaining: 31.2s\n",
      "2500:\ttest: 0.8624714\tbest: 0.8624714 (2500)\ttotal: 1m 10s\tremaining: 17s\n",
      "3000:\ttest: 0.8766392\tbest: 0.8766392 (3000)\ttotal: 1m 25s\tremaining: 2.81s\n",
      "3099:\ttest: 0.8796510\tbest: 0.8796510 (3099)\ttotal: 1m 27s\tremaining: 0us\n",
      "bestTest = 0.8796509802\n",
      "bestIteration = 3099\n",
      "0.8731866873913391\n",
      "0.8726521867987637\n"
     ]
    }
   ],
   "source": [
    "p_train_2 = defaultdict(list)\n",
    "p_valid_2 = defaultdict(list)\n",
    "train_mask = t['target'].notnull() & (t['user_id'] % 5 != -1)\n",
    "valid_mask = t['target'].notnull() & (t['user_id'] % 5 == 0)\n",
    "X_train = t.loc[train_mask, features]\n",
    "y_train = np.array(list(y.loc[train_mask].itertuples(index = False, name = None)), dtype=[('target', np.bool_), ('time', 'f8')])\n",
    "X_valid = t.loc[valid_mask, features]\n",
    "y_valid = np.array(list(y.loc[valid_mask].itertuples(index = False, name = None)), dtype=[('target', np.bool_), ('time', 'f8')])\n",
    "y_train_cbt = np.where(y.loc[train_mask]['target'], y.loc[train_mask]['time'], -y.loc[train_mask]['time'])\n",
    "y_valid_cbt = np.where(y.loc[valid_mask]['target'], y.loc[valid_mask]['time'], -y.loc[valid_mask]['time'])\n",
    "y_train_cbt_2 = y.loc[train_mask].copy()\n",
    "y_train_cbt_2['y_lower'] = np.where(y_train_cbt_2['target'], y_train_cbt_2['time'], 91)\n",
    "y_train_cbt_2['y_upper'] = np.where(y_train_cbt_2['target'], y_train_cbt_2['time'], +np.inf)\n",
    "y_train_cbt_2 = y_train_cbt_2[['y_lower', 'y_upper']]\n",
    "y_valid_cbt_2 = y.loc[valid_mask].copy()\n",
    "y_valid_cbt_2['y_lower'] = np.where(y_valid_cbt_2['target'], y_valid_cbt_2['time'], 91)\n",
    "y_valid_cbt_2['y_upper'] = np.where(y_valid_cbt_2['target'], y_valid_cbt_2['time'], +np.inf)\n",
    "y_valid_cbt_2 = y_valid_cbt_2[['y_lower', 'y_upper']]\n",
    "y_train_lgb = y.loc[train_mask]['target']\n",
    "y_valid_lgb = y.loc[valid_mask]['target']\n",
    "y_2 = y.copy()\n",
    "y_2['target_2'] = y_2['target']\n",
    "y_2.loc[(y_2['target'] == 1), 'target_2'] = 2\n",
    "y_2.loc[(y_2['target'] == 0) & (y_2['time'] < 45), 'target_2'] = 1\n",
    "y_train_lgb_2 = y_2.loc[train_mask]['target_2']\n",
    "y_valid_lgb_2 = y_2.loc[valid_mask]['target_2']\n",
    "y_train_lgb_3 = y.loc[train_mask]['time'] + 60*(1-y.loc[train_mask]['target'])\n",
    "y_valid_lgb_3 = y.loc[valid_mask]['time'] + 60*(1-y.loc[valid_mask]['target'])\n",
    "y_train_lgb_4 = (y.loc[train_mask]['time'] <= 80).map(int)\n",
    "y_valid_lgb_4 = (y.loc[valid_mask]['time'] <= 80).map(int)\n",
    "\n",
    "\n",
    "\n",
    "params_14 = params_4.copy()\n",
    "params_14.pop('early_stopping_rounds', None)\n",
    "params_14['n_estimators'] = 2900\n",
    "model_4 = XGBClassifier(**params_14)\n",
    "model_4.fit(X_train, y_train_lgb, eval_set=[(X_valid, y_valid_lgb)], verbose=False)\n",
    "\n",
    "p_train_2['xgb'].append(model_4.predict_proba(X_train)[:, 1])\n",
    "p_valid_2['xgb'].append(model_4.predict_proba(X_valid)[:, 1])\n",
    "print(c_index(y_train, p_train_2['xgb'][-1]))\n",
    "print(c_index(y_valid, p_valid_2['xgb'][-1]))\n",
    "\n",
    "\n",
    "\n",
    "params_16 = params_6.copy()\n",
    "params_16.pop('early_stopping_rounds', None)\n",
    "params_16['n_estimators'] = 3400\n",
    "model_6 = XGBClassifier(**params_16)\n",
    "model_6.fit(X_train, y_train_lgb_2, eval_set=[(X_valid, y_valid_lgb_2)], verbose=False)\n",
    "p_train_2['xgb_multi'].append(model_6.predict_proba(X_train))\n",
    "p_valid_2['xgb_multi'].append(model_6.predict_proba(X_valid))\n",
    "\n",
    "\n",
    "\n",
    "#params_19 = params_9.copy()\n",
    "#params_19.pop('early_stopping_rounds', None)\n",
    "#params_19['n_estimators'] = 2500\n",
    "#model_9 = XGBRegressor(**params_19)\n",
    "#model_9.fit(X_train, y_train_cbt, eval_set=[(X_valid, y_valid_cbt)], verbose=False)\n",
    "\n",
    "#p_train_2['xgb_cox'].append(model_9.predict(X_train))\n",
    "#p_valid_2['xgb_cox'].append(model_9.predict(X_valid))\n",
    "#print(c_index(y_train, p_train_2['xgb_cox'][-1]))\n",
    "#print(c_index(y_valid, p_valid_2['xgb_cox'][-1]))\n",
    "\n",
    "\n",
    "\n",
    "params_17 = params_7.copy()\n",
    "params_17.pop('early_stopping_rounds', None)\n",
    "params_17['n_estimators'] = 3000\n",
    "model_7 = lgb.LGBMClassifier(**params_17, random_state=100)\n",
    "model_7.fit(X_train, y_train_lgb_4, eval_set=(X_valid, y_valid_lgb_4))\n",
    "\n",
    "p_train_2['lgb_2'].append(model_7.predict_proba(X_train)[:, 1])\n",
    "p_valid_2['lgb_2'].append(model_7.predict_proba(X_valid)[:, 1])\n",
    "print(c_index(y_train, p_train_2['lgb_2'][-1]))\n",
    "print(c_index(y_valid, p_valid_2['lgb_2'][-1]))\n",
    "\n",
    "\n",
    "\n",
    "params_12 = params_2.copy()\n",
    "params_12.pop('early_stopping_rounds', None)\n",
    "params_12['n_estimators'] = 3100\n",
    "model_2 = CatBoostClassifier(**params_12)\n",
    "model_2.fit(X_train, y_train_lgb, eval_set=(X_valid, y_valid_lgb))\n",
    "\n",
    "p_train_2['cat'].append(model_2.predict_proba(X_train)[:, 1])\n",
    "p_valid_2['cat'].append(model_2.predict_proba(X_valid)[:, 1])\n",
    "print(c_index(y_train, p_train_2['cat'][-1]))\n",
    "print(c_index(y_valid, p_valid_2['cat'][-1]))"
   ]
  },
  {
   "cell_type": "markdown",
   "id": "043ad2e9",
   "metadata": {
    "papermill": {
     "duration": 0.029213,
     "end_time": "2024-07-19T10:26:09.931413",
     "exception": false,
     "start_time": "2024-07-19T10:26:09.902200",
     "status": "completed"
    },
    "tags": []
   },
   "source": [
    "#### predict and submission"
   ]
  },
  {
   "cell_type": "code",
   "execution_count": 51,
   "id": "5aabb18e",
   "metadata": {
    "execution": {
     "iopub.execute_input": "2024-07-19T10:26:09.987452Z",
     "iopub.status.busy": "2024-07-19T10:26:09.987095Z",
     "iopub.status.idle": "2024-07-19T10:26:09.991386Z",
     "shell.execute_reply": "2024-07-19T10:26:09.990447Z"
    },
    "papermill": {
     "duration": 0.034757,
     "end_time": "2024-07-19T10:26:09.993282",
     "exception": false,
     "start_time": "2024-07-19T10:26:09.958525",
     "status": "completed"
    },
    "tags": []
   },
   "outputs": [],
   "source": [
    "#study.best_params"
   ]
  },
  {
   "cell_type": "code",
   "execution_count": 52,
   "id": "b3bddfee",
   "metadata": {
    "execution": {
     "iopub.execute_input": "2024-07-19T10:26:10.050193Z",
     "iopub.status.busy": "2024-07-19T10:26:10.049824Z",
     "iopub.status.idle": "2024-07-19T10:26:10.054206Z",
     "shell.execute_reply": "2024-07-19T10:26:10.053388Z"
    },
    "papermill": {
     "duration": 0.035564,
     "end_time": "2024-07-19T10:26:10.056086",
     "exception": false,
     "start_time": "2024-07-19T10:26:10.020522",
     "status": "completed"
    },
    "tags": []
   },
   "outputs": [],
   "source": [
    "a = 0.03\n",
    "b = 1.6\n",
    "c = 0.0\n",
    "d = -0.08"
   ]
  },
  {
   "cell_type": "code",
   "execution_count": 53,
   "id": "94dc1d2c",
   "metadata": {
    "execution": {
     "iopub.execute_input": "2024-07-19T10:26:10.114202Z",
     "iopub.status.busy": "2024-07-19T10:26:10.113460Z",
     "iopub.status.idle": "2024-07-19T10:26:58.422570Z",
     "shell.execute_reply": "2024-07-19T10:26:58.421760Z"
    },
    "papermill": {
     "duration": 48.340433,
     "end_time": "2024-07-19T10:26:58.425166",
     "exception": false,
     "start_time": "2024-07-19T10:26:10.084733",
     "status": "completed"
    },
    "tags": []
   },
   "outputs": [],
   "source": [
    "X = t.loc[:, features]\n",
    "p = a*model_7.predict_proba(X)[:, 1] + model_4.predict_proba(X)[:, 1] + c*model_2.predict_proba(X)[:, 1] + b*model_6.predict_proba(X)[:, 2] \\\n",
    "                                                                                                         + d*model_6.predict_proba(X)[:, 0]\n",
    "t['predict'] = p"
   ]
  },
  {
   "cell_type": "code",
   "execution_count": 54,
   "id": "22c72454",
   "metadata": {
    "execution": {
     "iopub.execute_input": "2024-07-19T10:26:58.481009Z",
     "iopub.status.busy": "2024-07-19T10:26:58.480710Z",
     "iopub.status.idle": "2024-07-19T10:26:58.494141Z",
     "shell.execute_reply": "2024-07-19T10:26:58.493301Z"
    },
    "papermill": {
     "duration": 0.043481,
     "end_time": "2024-07-19T10:26:58.496143",
     "exception": false,
     "start_time": "2024-07-19T10:26:58.452662",
     "status": "completed"
    },
    "tags": []
   },
   "outputs": [
    {
     "data": {
      "text/html": [
       "<div>\n",
       "<style scoped>\n",
       "    .dataframe tbody tr th:only-of-type {\n",
       "        vertical-align: middle;\n",
       "    }\n",
       "\n",
       "    .dataframe tbody tr th {\n",
       "        vertical-align: top;\n",
       "    }\n",
       "\n",
       "    .dataframe thead th {\n",
       "        text-align: right;\n",
       "    }\n",
       "</style>\n",
       "<table border=\"1\" class=\"dataframe\">\n",
       "  <thead>\n",
       "    <tr style=\"text-align: right;\">\n",
       "      <th></th>\n",
       "      <th>predict</th>\n",
       "    </tr>\n",
       "    <tr>\n",
       "      <th>report</th>\n",
       "      <th></th>\n",
       "    </tr>\n",
       "  </thead>\n",
       "  <tbody>\n",
       "    <tr>\n",
       "      <th>1</th>\n",
       "      <td>0.158571</td>\n",
       "    </tr>\n",
       "    <tr>\n",
       "      <th>2</th>\n",
       "      <td>0.192992</td>\n",
       "    </tr>\n",
       "    <tr>\n",
       "      <th>3</th>\n",
       "      <td>0.194927</td>\n",
       "    </tr>\n",
       "    <tr>\n",
       "      <th>4</th>\n",
       "      <td>0.172874</td>\n",
       "    </tr>\n",
       "    <tr>\n",
       "      <th>5</th>\n",
       "      <td>0.180275</td>\n",
       "    </tr>\n",
       "    <tr>\n",
       "      <th>6</th>\n",
       "      <td>0.198075</td>\n",
       "    </tr>\n",
       "    <tr>\n",
       "      <th>7</th>\n",
       "      <td>0.175843</td>\n",
       "    </tr>\n",
       "    <tr>\n",
       "      <th>8</th>\n",
       "      <td>0.133305</td>\n",
       "    </tr>\n",
       "    <tr>\n",
       "      <th>9</th>\n",
       "      <td>0.113999</td>\n",
       "    </tr>\n",
       "    <tr>\n",
       "      <th>10</th>\n",
       "      <td>0.109240</td>\n",
       "    </tr>\n",
       "    <tr>\n",
       "      <th>11</th>\n",
       "      <td>0.112200</td>\n",
       "    </tr>\n",
       "    <tr>\n",
       "      <th>12</th>\n",
       "      <td>0.112965</td>\n",
       "    </tr>\n",
       "  </tbody>\n",
       "</table>\n",
       "</div>"
      ],
      "text/plain": [
       "         predict\n",
       "report          \n",
       "1       0.158571\n",
       "2       0.192992\n",
       "3       0.194927\n",
       "4       0.172874\n",
       "5       0.180275\n",
       "6       0.198075\n",
       "7       0.175843\n",
       "8       0.133305\n",
       "9       0.113999\n",
       "10      0.109240\n",
       "11      0.112200\n",
       "12      0.112965"
      ]
     },
     "execution_count": 54,
     "metadata": {},
     "output_type": "execute_result"
    }
   ],
   "source": [
    "oot_mask = t['target'].isnull()\n",
    "t[['predict', 'report']][oot_mask].groupby('report').mean()"
   ]
  },
  {
   "cell_type": "code",
   "execution_count": 55,
   "id": "39ec580a",
   "metadata": {
    "execution": {
     "iopub.execute_input": "2024-07-19T10:26:58.551978Z",
     "iopub.status.busy": "2024-07-19T10:26:58.551292Z",
     "iopub.status.idle": "2024-07-19T10:26:58.564604Z",
     "shell.execute_reply": "2024-07-19T10:26:58.563497Z"
    },
    "papermill": {
     "duration": 0.043584,
     "end_time": "2024-07-19T10:26:58.566537",
     "exception": false,
     "start_time": "2024-07-19T10:26:58.522953",
     "status": "completed"
    },
    "tags": []
   },
   "outputs": [
    {
     "data": {
      "text/html": [
       "<div>\n",
       "<style scoped>\n",
       "    .dataframe tbody tr th:only-of-type {\n",
       "        vertical-align: middle;\n",
       "    }\n",
       "\n",
       "    .dataframe tbody tr th {\n",
       "        vertical-align: top;\n",
       "    }\n",
       "\n",
       "    .dataframe thead th {\n",
       "        text-align: right;\n",
       "    }\n",
       "</style>\n",
       "<table border=\"1\" class=\"dataframe\">\n",
       "  <thead>\n",
       "    <tr style=\"text-align: right;\">\n",
       "      <th></th>\n",
       "      <th>user_id</th>\n",
       "      <th>predict</th>\n",
       "    </tr>\n",
       "  </thead>\n",
       "  <tbody>\n",
       "    <tr>\n",
       "      <th>102</th>\n",
       "      <td>61</td>\n",
       "      <td>-0.046074</td>\n",
       "    </tr>\n",
       "    <tr>\n",
       "      <th>103</th>\n",
       "      <td>269</td>\n",
       "      <td>-0.005417</td>\n",
       "    </tr>\n",
       "    <tr>\n",
       "      <th>104</th>\n",
       "      <td>327</td>\n",
       "      <td>-0.043223</td>\n",
       "    </tr>\n",
       "    <tr>\n",
       "      <th>105</th>\n",
       "      <td>430</td>\n",
       "      <td>-0.070984</td>\n",
       "    </tr>\n",
       "    <tr>\n",
       "      <th>106</th>\n",
       "      <td>553</td>\n",
       "      <td>-0.016879</td>\n",
       "    </tr>\n",
       "    <tr>\n",
       "      <th>...</th>\n",
       "      <td>...</td>\n",
       "      <td>...</td>\n",
       "    </tr>\n",
       "    <tr>\n",
       "      <th>95982</th>\n",
       "      <td>266840</td>\n",
       "      <td>-0.015227</td>\n",
       "    </tr>\n",
       "    <tr>\n",
       "      <th>95985</th>\n",
       "      <td>340116</td>\n",
       "      <td>0.371419</td>\n",
       "    </tr>\n",
       "    <tr>\n",
       "      <th>95986</th>\n",
       "      <td>44285</td>\n",
       "      <td>0.899601</td>\n",
       "    </tr>\n",
       "    <tr>\n",
       "      <th>95995</th>\n",
       "      <td>255712</td>\n",
       "      <td>0.067368</td>\n",
       "    </tr>\n",
       "    <tr>\n",
       "      <th>95996</th>\n",
       "      <td>186965</td>\n",
       "      <td>-0.028488</td>\n",
       "    </tr>\n",
       "  </tbody>\n",
       "</table>\n",
       "<p>32000 rows × 2 columns</p>\n",
       "</div>"
      ],
      "text/plain": [
       "       user_id   predict\n",
       "102         61 -0.046074\n",
       "103        269 -0.005417\n",
       "104        327 -0.043223\n",
       "105        430 -0.070984\n",
       "106        553 -0.016879\n",
       "...        ...       ...\n",
       "95982   266840 -0.015227\n",
       "95985   340116  0.371419\n",
       "95986    44285  0.899601\n",
       "95995   255712  0.067368\n",
       "95996   186965 -0.028488\n",
       "\n",
       "[32000 rows x 2 columns]"
      ]
     },
     "execution_count": 55,
     "metadata": {},
     "output_type": "execute_result"
    }
   ],
   "source": [
    "t[['user_id', 'predict']][oot_mask]"
   ]
  },
  {
   "cell_type": "code",
   "execution_count": 56,
   "id": "c0fc5475",
   "metadata": {
    "execution": {
     "iopub.execute_input": "2024-07-19T10:26:58.623309Z",
     "iopub.status.busy": "2024-07-19T10:26:58.623019Z",
     "iopub.status.idle": "2024-07-19T10:26:58.633114Z",
     "shell.execute_reply": "2024-07-19T10:26:58.632278Z"
    },
    "papermill": {
     "duration": 0.041608,
     "end_time": "2024-07-19T10:26:58.635263",
     "exception": false,
     "start_time": "2024-07-19T10:26:58.593655",
     "status": "completed"
    },
    "tags": []
   },
   "outputs": [
    {
     "data": {
      "text/html": [
       "<div>\n",
       "<style scoped>\n",
       "    .dataframe tbody tr th:only-of-type {\n",
       "        vertical-align: middle;\n",
       "    }\n",
       "\n",
       "    .dataframe tbody tr th {\n",
       "        vertical-align: top;\n",
       "    }\n",
       "\n",
       "    .dataframe thead th {\n",
       "        text-align: right;\n",
       "    }\n",
       "</style>\n",
       "<table border=\"1\" class=\"dataframe\">\n",
       "  <thead>\n",
       "    <tr style=\"text-align: right;\">\n",
       "      <th></th>\n",
       "      <th>user_id</th>\n",
       "      <th>predict</th>\n",
       "    </tr>\n",
       "  </thead>\n",
       "  <tbody>\n",
       "    <tr>\n",
       "      <th>0</th>\n",
       "      <td>9</td>\n",
       "      <td>-3.184396</td>\n",
       "    </tr>\n",
       "    <tr>\n",
       "      <th>1</th>\n",
       "      <td>61</td>\n",
       "      <td>-2.623560</td>\n",
       "    </tr>\n",
       "    <tr>\n",
       "      <th>2</th>\n",
       "      <td>62</td>\n",
       "      <td>-2.840654</td>\n",
       "    </tr>\n",
       "    <tr>\n",
       "      <th>3</th>\n",
       "      <td>80</td>\n",
       "      <td>-3.269438</td>\n",
       "    </tr>\n",
       "    <tr>\n",
       "      <th>4</th>\n",
       "      <td>88</td>\n",
       "      <td>-2.068500</td>\n",
       "    </tr>\n",
       "    <tr>\n",
       "      <th>...</th>\n",
       "      <td>...</td>\n",
       "      <td>...</td>\n",
       "    </tr>\n",
       "    <tr>\n",
       "      <th>31995</th>\n",
       "      <td>561362</td>\n",
       "      <td>-2.438619</td>\n",
       "    </tr>\n",
       "    <tr>\n",
       "      <th>31996</th>\n",
       "      <td>561419</td>\n",
       "      <td>-2.438619</td>\n",
       "    </tr>\n",
       "    <tr>\n",
       "      <th>31997</th>\n",
       "      <td>561895</td>\n",
       "      <td>-2.437339</td>\n",
       "    </tr>\n",
       "    <tr>\n",
       "      <th>31998</th>\n",
       "      <td>561908</td>\n",
       "      <td>-2.437339</td>\n",
       "    </tr>\n",
       "    <tr>\n",
       "      <th>31999</th>\n",
       "      <td>562205</td>\n",
       "      <td>-2.359733</td>\n",
       "    </tr>\n",
       "  </tbody>\n",
       "</table>\n",
       "<p>32000 rows × 2 columns</p>\n",
       "</div>"
      ],
      "text/plain": [
       "       user_id   predict\n",
       "0            9 -3.184396\n",
       "1           61 -2.623560\n",
       "2           62 -2.840654\n",
       "3           80 -3.269438\n",
       "4           88 -2.068500\n",
       "...        ...       ...\n",
       "31995   561362 -2.438619\n",
       "31996   561419 -2.438619\n",
       "31997   561895 -2.437339\n",
       "31998   561908 -2.437339\n",
       "31999   562205 -2.359733\n",
       "\n",
       "[32000 rows x 2 columns]"
      ]
     },
     "execution_count": 56,
     "metadata": {},
     "output_type": "execute_result"
    }
   ],
   "source": [
    "sample_submission"
   ]
  },
  {
   "cell_type": "code",
   "execution_count": 57,
   "id": "f6b2ba8d",
   "metadata": {
    "execution": {
     "iopub.execute_input": "2024-07-19T10:26:58.691701Z",
     "iopub.status.busy": "2024-07-19T10:26:58.691449Z",
     "iopub.status.idle": "2024-07-19T10:26:58.792054Z",
     "shell.execute_reply": "2024-07-19T10:26:58.791357Z"
    },
    "papermill": {
     "duration": 0.13092,
     "end_time": "2024-07-19T10:26:58.794011",
     "exception": false,
     "start_time": "2024-07-19T10:26:58.663091",
     "status": "completed"
    },
    "tags": []
   },
   "outputs": [],
   "source": [
    "t[['user_id', 'predict']][oot_mask].sort_values(by='user_id').to_csv('submission.csv', index=False)"
   ]
  },
  {
   "cell_type": "code",
   "execution_count": null,
   "id": "7d45e905",
   "metadata": {
    "papermill": {
     "duration": 0.027527,
     "end_time": "2024-07-19T10:26:58.849593",
     "exception": false,
     "start_time": "2024-07-19T10:26:58.822066",
     "status": "completed"
    },
    "tags": []
   },
   "outputs": [],
   "source": []
  }
 ],
 "metadata": {
  "kaggle": {
   "accelerator": "gpu",
   "dataSources": [
    {
     "datasetId": 4484768,
     "sourceId": 7685719,
     "sourceType": "datasetVersion"
    }
   ],
   "dockerImageVersionId": 30648,
   "isGpuEnabled": true,
   "isInternetEnabled": true,
   "language": "python",
   "sourceType": "notebook"
  },
  "kernelspec": {
   "display_name": "Python 3",
   "language": "python",
   "name": "python3"
  },
  "language_info": {
   "codemirror_mode": {
    "name": "ipython",
    "version": 3
   },
   "file_extension": ".py",
   "mimetype": "text/x-python",
   "name": "python",
   "nbconvert_exporter": "python",
   "pygments_lexer": "ipython3",
   "version": "3.10.13"
  },
  "papermill": {
   "default_parameters": {},
   "duration": 3368.7176,
   "end_time": "2024-07-19T10:26:59.804971",
   "environment_variables": {},
   "exception": null,
   "input_path": "__notebook__.ipynb",
   "output_path": "__notebook__.ipynb",
   "parameters": {},
   "start_time": "2024-07-19T09:30:51.087371",
   "version": "2.5.0"
  },
  "widgets": {
   "application/vnd.jupyter.widget-state+json": {
    "state": {
     "070b95aefe2e48ecbade1ae2c339e674": {
      "model_module": "@jupyter-widgets/controls",
      "model_module_version": "1.5.0",
      "model_name": "ProgressStyleModel",
      "state": {
       "_model_module": "@jupyter-widgets/controls",
       "_model_module_version": "1.5.0",
       "_model_name": "ProgressStyleModel",
       "_view_count": null,
       "_view_module": "@jupyter-widgets/base",
       "_view_module_version": "1.2.0",
       "_view_name": "StyleView",
       "bar_color": "black",
       "description_width": ""
      }
     },
     "2036f0d044e54fd99afbf426e28a458b": {
      "model_module": "@jupyter-widgets/base",
      "model_module_version": "1.2.0",
      "model_name": "LayoutModel",
      "state": {
       "_model_module": "@jupyter-widgets/base",
       "_model_module_version": "1.2.0",
       "_model_name": "LayoutModel",
       "_view_count": null,
       "_view_module": "@jupyter-widgets/base",
       "_view_module_version": "1.2.0",
       "_view_name": "LayoutView",
       "align_content": null,
       "align_items": null,
       "align_self": null,
       "border": null,
       "bottom": null,
       "display": null,
       "flex": null,
       "flex_flow": null,
       "grid_area": null,
       "grid_auto_columns": null,
       "grid_auto_flow": null,
       "grid_auto_rows": null,
       "grid_column": null,
       "grid_gap": null,
       "grid_row": null,
       "grid_template_areas": null,
       "grid_template_columns": null,
       "grid_template_rows": null,
       "height": null,
       "justify_content": null,
       "justify_items": null,
       "left": null,
       "margin": null,
       "max_height": null,
       "max_width": null,
       "min_height": null,
       "min_width": null,
       "object_fit": null,
       "object_position": null,
       "order": null,
       "overflow": null,
       "overflow_x": null,
       "overflow_y": null,
       "padding": null,
       "right": null,
       "top": null,
       "visibility": null,
       "width": "auto"
      }
     },
     "60bac8bdfac0429aa4b9229214e8bd60": {
      "model_module": "@jupyter-widgets/controls",
      "model_module_version": "1.5.0",
      "model_name": "FloatProgressModel",
      "state": {
       "_dom_classes": [],
       "_model_module": "@jupyter-widgets/controls",
       "_model_module_version": "1.5.0",
       "_model_name": "FloatProgressModel",
       "_view_count": null,
       "_view_module": "@jupyter-widgets/controls",
       "_view_module_version": "1.5.0",
       "_view_name": "ProgressView",
       "bar_style": "",
       "description": "",
       "description_tooltip": null,
       "layout": "IPY_MODEL_2036f0d044e54fd99afbf426e28a458b",
       "max": 100.0,
       "min": 0.0,
       "orientation": "horizontal",
       "style": "IPY_MODEL_6690337052f94402948df446ac722e15",
       "value": 100.0
      }
     },
     "6690337052f94402948df446ac722e15": {
      "model_module": "@jupyter-widgets/controls",
      "model_module_version": "1.5.0",
      "model_name": "ProgressStyleModel",
      "state": {
       "_model_module": "@jupyter-widgets/controls",
       "_model_module_version": "1.5.0",
       "_model_name": "ProgressStyleModel",
       "_view_count": null,
       "_view_module": "@jupyter-widgets/base",
       "_view_module_version": "1.2.0",
       "_view_name": "StyleView",
       "bar_color": "black",
       "description_width": ""
      }
     },
     "93400a6dfebd4c41a225d0c3eb32387d": {
      "model_module": "@jupyter-widgets/base",
      "model_module_version": "1.2.0",
      "model_name": "LayoutModel",
      "state": {
       "_model_module": "@jupyter-widgets/base",
       "_model_module_version": "1.2.0",
       "_model_name": "LayoutModel",
       "_view_count": null,
       "_view_module": "@jupyter-widgets/base",
       "_view_module_version": "1.2.0",
       "_view_name": "LayoutView",
       "align_content": null,
       "align_items": null,
       "align_self": null,
       "border": null,
       "bottom": null,
       "display": null,
       "flex": null,
       "flex_flow": null,
       "grid_area": null,
       "grid_auto_columns": null,
       "grid_auto_flow": null,
       "grid_auto_rows": null,
       "grid_column": null,
       "grid_gap": null,
       "grid_row": null,
       "grid_template_areas": null,
       "grid_template_columns": null,
       "grid_template_rows": null,
       "height": null,
       "justify_content": null,
       "justify_items": null,
       "left": null,
       "margin": null,
       "max_height": null,
       "max_width": null,
       "min_height": null,
       "min_width": null,
       "object_fit": null,
       "object_position": null,
       "order": null,
       "overflow": null,
       "overflow_x": null,
       "overflow_y": null,
       "padding": null,
       "right": null,
       "top": null,
       "visibility": null,
       "width": "auto"
      }
     },
     "b949f10b302f466aa01ebe2ab560042d": {
      "model_module": "@jupyter-widgets/controls",
      "model_module_version": "1.5.0",
      "model_name": "ProgressStyleModel",
      "state": {
       "_model_module": "@jupyter-widgets/controls",
       "_model_module_version": "1.5.0",
       "_model_name": "ProgressStyleModel",
       "_view_count": null,
       "_view_module": "@jupyter-widgets/base",
       "_view_module_version": "1.2.0",
       "_view_name": "StyleView",
       "bar_color": "black",
       "description_width": ""
      }
     },
     "d3beb4ead58d451288ee853f3a02e574": {
      "model_module": "@jupyter-widgets/base",
      "model_module_version": "1.2.0",
      "model_name": "LayoutModel",
      "state": {
       "_model_module": "@jupyter-widgets/base",
       "_model_module_version": "1.2.0",
       "_model_name": "LayoutModel",
       "_view_count": null,
       "_view_module": "@jupyter-widgets/base",
       "_view_module_version": "1.2.0",
       "_view_name": "LayoutView",
       "align_content": null,
       "align_items": null,
       "align_self": null,
       "border": null,
       "bottom": null,
       "display": null,
       "flex": null,
       "flex_flow": null,
       "grid_area": null,
       "grid_auto_columns": null,
       "grid_auto_flow": null,
       "grid_auto_rows": null,
       "grid_column": null,
       "grid_gap": null,
       "grid_row": null,
       "grid_template_areas": null,
       "grid_template_columns": null,
       "grid_template_rows": null,
       "height": null,
       "justify_content": null,
       "justify_items": null,
       "left": null,
       "margin": null,
       "max_height": null,
       "max_width": null,
       "min_height": null,
       "min_width": null,
       "object_fit": null,
       "object_position": null,
       "order": null,
       "overflow": null,
       "overflow_x": null,
       "overflow_y": null,
       "padding": null,
       "right": null,
       "top": null,
       "visibility": null,
       "width": "auto"
      }
     },
     "d629b1536b654484a3cc460a7d1427fd": {
      "model_module": "@jupyter-widgets/controls",
      "model_module_version": "1.5.0",
      "model_name": "FloatProgressModel",
      "state": {
       "_dom_classes": [],
       "_model_module": "@jupyter-widgets/controls",
       "_model_module_version": "1.5.0",
       "_model_name": "FloatProgressModel",
       "_view_count": null,
       "_view_module": "@jupyter-widgets/controls",
       "_view_module_version": "1.5.0",
       "_view_name": "ProgressView",
       "bar_style": "",
       "description": "",
       "description_tooltip": null,
       "layout": "IPY_MODEL_93400a6dfebd4c41a225d0c3eb32387d",
       "max": 100.0,
       "min": 0.0,
       "orientation": "horizontal",
       "style": "IPY_MODEL_b949f10b302f466aa01ebe2ab560042d",
       "value": 100.0
      }
     },
     "f28ed38952284461b7f4634b9a604b3c": {
      "model_module": "@jupyter-widgets/controls",
      "model_module_version": "1.5.0",
      "model_name": "FloatProgressModel",
      "state": {
       "_dom_classes": [],
       "_model_module": "@jupyter-widgets/controls",
       "_model_module_version": "1.5.0",
       "_model_name": "FloatProgressModel",
       "_view_count": null,
       "_view_module": "@jupyter-widgets/controls",
       "_view_module_version": "1.5.0",
       "_view_name": "ProgressView",
       "bar_style": "",
       "description": "",
       "description_tooltip": null,
       "layout": "IPY_MODEL_d3beb4ead58d451288ee853f3a02e574",
       "max": 100.0,
       "min": 0.0,
       "orientation": "horizontal",
       "style": "IPY_MODEL_070b95aefe2e48ecbade1ae2c339e674",
       "value": 100.0
      }
     }
    },
    "version_major": 2,
    "version_minor": 0
   }
  }
 },
 "nbformat": 4,
 "nbformat_minor": 5
}
