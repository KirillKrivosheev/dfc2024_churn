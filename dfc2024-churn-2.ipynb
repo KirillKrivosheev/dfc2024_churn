{
 "cells": [
  {
   "cell_type": "code",
   "execution_count": 1,
   "id": "36218f8f",
   "metadata": {
    "_cell_guid": "b1076dfc-b9ad-4769-8c92-a6c4dae69d19",
    "_uuid": "8f2839f25d086af736a60e9eeb907d3b93b6e0e5",
    "execution": {
     "iopub.execute_input": "2024-07-19T20:28:11.715597Z",
     "iopub.status.busy": "2024-07-19T20:28:11.714939Z",
     "iopub.status.idle": "2024-07-19T20:28:13.597109Z",
     "shell.execute_reply": "2024-07-19T20:28:13.596278Z"
    },
    "papermill": {
     "duration": 1.904104,
     "end_time": "2024-07-19T20:28:13.599394",
     "exception": false,
     "start_time": "2024-07-19T20:28:11.695290",
     "status": "completed"
    },
    "tags": []
   },
   "outputs": [],
   "source": [
    "import pandas as pd\n",
    "import numpy as np\n",
    "from tqdm import tqdm\n",
    "import matplotlib.pyplot as plt\n",
    "import seaborn as sn"
   ]
  },
  {
   "cell_type": "code",
   "execution_count": 2,
   "id": "aa5af509",
   "metadata": {
    "execution": {
     "iopub.execute_input": "2024-07-19T20:28:13.634635Z",
     "iopub.status.busy": "2024-07-19T20:28:13.633683Z",
     "iopub.status.idle": "2024-07-19T20:28:32.872375Z",
     "shell.execute_reply": "2024-07-19T20:28:32.871330Z"
    },
    "papermill": {
     "duration": 19.258913,
     "end_time": "2024-07-19T20:28:32.874992",
     "exception": false,
     "start_time": "2024-07-19T20:28:13.616079",
     "status": "completed"
    },
    "tags": []
   },
   "outputs": [],
   "source": [
    "%%capture\n",
    "! pip install duckdb scikit-survival"
   ]
  },
  {
   "cell_type": "code",
   "execution_count": 3,
   "id": "57623da1",
   "metadata": {
    "execution": {
     "iopub.execute_input": "2024-07-19T20:28:32.911591Z",
     "iopub.status.busy": "2024-07-19T20:28:32.910757Z",
     "iopub.status.idle": "2024-07-19T20:28:33.153183Z",
     "shell.execute_reply": "2024-07-19T20:28:33.152345Z"
    },
    "papermill": {
     "duration": 0.263937,
     "end_time": "2024-07-19T20:28:33.155619",
     "exception": false,
     "start_time": "2024-07-19T20:28:32.891682",
     "status": "completed"
    },
    "tags": []
   },
   "outputs": [],
   "source": [
    "import duckdb\n",
    "from collections import defaultdict\n",
    "from sksurv.metrics import concordance_index_censored\n",
    "def c_index(y, p):\n",
    "    name_event, name_time = y.dtype.names\n",
    "    result = concordance_index_censored(y[name_event], y[name_time], p)\n",
    "    return result[0]"
   ]
  },
  {
   "cell_type": "markdown",
   "id": "3d9141ac",
   "metadata": {
    "papermill": {
     "duration": 0.015983,
     "end_time": "2024-07-19T20:28:33.188186",
     "exception": false,
     "start_time": "2024-07-19T20:28:33.172203",
     "status": "completed"
    },
    "tags": []
   },
   "source": [
    "#### Load data"
   ]
  },
  {
   "cell_type": "code",
   "execution_count": 4,
   "id": "6025f7e4",
   "metadata": {
    "execution": {
     "iopub.execute_input": "2024-07-19T20:28:33.222018Z",
     "iopub.status.busy": "2024-07-19T20:28:33.221576Z",
     "iopub.status.idle": "2024-07-19T20:28:33.225616Z",
     "shell.execute_reply": "2024-07-19T20:28:33.224777Z"
    },
    "papermill": {
     "duration": 0.022979,
     "end_time": "2024-07-19T20:28:33.227463",
     "exception": false,
     "start_time": "2024-07-19T20:28:33.204484",
     "status": "completed"
    },
    "tags": []
   },
   "outputs": [],
   "source": [
    "path = '/kaggle/input/churn/'"
   ]
  },
  {
   "cell_type": "code",
   "execution_count": 5,
   "id": "0ee311b1",
   "metadata": {
    "execution": {
     "iopub.execute_input": "2024-07-19T20:28:33.261103Z",
     "iopub.status.busy": "2024-07-19T20:28:33.260798Z",
     "iopub.status.idle": "2024-07-19T20:28:51.677696Z",
     "shell.execute_reply": "2024-07-19T20:28:51.676670Z"
    },
    "papermill": {
     "duration": 18.437055,
     "end_time": "2024-07-19T20:28:51.680752",
     "exception": false,
     "start_time": "2024-07-19T20:28:33.243697",
     "status": "completed"
    },
    "tags": []
   },
   "outputs": [],
   "source": [
    "clients = pd.read_csv(path + 'clients.csv')\n",
    "mcc_codes = pd.read_csv(path + 'mcc_codes.csv')\n",
    "report_dates = pd.read_csv(path + 'report_dates.csv')\n",
    "train = pd.read_csv(path + 'train.csv')\n",
    "currency = pd.read_csv(path + 'currency_rk.csv')\n",
    "sample_submission = pd.read_csv(path + 'sample_submit_naive.csv')\n",
    "transactions = pd.read_csv(path + 'transactions.csv')"
   ]
  },
  {
   "cell_type": "code",
   "execution_count": 6,
   "id": "30731bb4",
   "metadata": {
    "execution": {
     "iopub.execute_input": "2024-07-19T20:28:51.717751Z",
     "iopub.status.busy": "2024-07-19T20:28:51.717379Z",
     "iopub.status.idle": "2024-07-19T20:28:56.227277Z",
     "shell.execute_reply": "2024-07-19T20:28:56.226299Z"
    },
    "papermill": {
     "duration": 4.529597,
     "end_time": "2024-07-19T20:28:56.229700",
     "exception": false,
     "start_time": "2024-07-19T20:28:51.700103",
     "status": "completed"
    },
    "tags": []
   },
   "outputs": [],
   "source": [
    "transactions['transaction_dttm'] = pd.to_datetime(transactions['transaction_dttm'])\n",
    "report_dates['report_dt'] = pd.to_datetime(report_dates['report_dt'])"
   ]
  },
  {
   "cell_type": "code",
   "execution_count": 7,
   "id": "25abeb7e",
   "metadata": {
    "execution": {
     "iopub.execute_input": "2024-07-19T20:28:56.264706Z",
     "iopub.status.busy": "2024-07-19T20:28:56.263915Z",
     "iopub.status.idle": "2024-07-19T20:28:56.331477Z",
     "shell.execute_reply": "2024-07-19T20:28:56.330537Z"
    },
    "papermill": {
     "duration": 0.087294,
     "end_time": "2024-07-19T20:28:56.333833",
     "exception": false,
     "start_time": "2024-07-19T20:28:56.246539",
     "status": "completed"
    },
    "tags": []
   },
   "outputs": [],
   "source": [
    "t = duckdb.sql('''SELECT t1.*, t2.report_dt, t3.target, t3.time\n",
    "                    FROM clients t1\n",
    "               LEFT JOIN report_dates t2 \n",
    "                      ON t1.report = t2.report\n",
    "               LEFT JOIN train t3\n",
    "                      ON t1.user_id = t3.user_id''').to_df()"
   ]
  },
  {
   "cell_type": "code",
   "execution_count": 8,
   "id": "4874ad14",
   "metadata": {
    "execution": {
     "iopub.execute_input": "2024-07-19T20:28:56.368010Z",
     "iopub.status.busy": "2024-07-19T20:28:56.367292Z",
     "iopub.status.idle": "2024-07-19T20:28:56.372990Z",
     "shell.execute_reply": "2024-07-19T20:28:56.372157Z"
    },
    "papermill": {
     "duration": 0.024493,
     "end_time": "2024-07-19T20:28:56.374812",
     "exception": false,
     "start_time": "2024-07-19T20:28:56.350319",
     "status": "completed"
    },
    "tags": []
   },
   "outputs": [],
   "source": [
    "df = t.copy()"
   ]
  },
  {
   "cell_type": "markdown",
   "id": "3fb6a3cc",
   "metadata": {
    "papermill": {
     "duration": 0.015853,
     "end_time": "2024-07-19T20:28:56.406603",
     "exception": false,
     "start_time": "2024-07-19T20:28:56.390750",
     "status": "completed"
    },
    "tags": []
   },
   "source": [
    "#### Досчитываем поля в transactions"
   ]
  },
  {
   "cell_type": "code",
   "execution_count": 9,
   "id": "f38f2f78",
   "metadata": {
    "execution": {
     "iopub.execute_input": "2024-07-19T20:28:56.439999Z",
     "iopub.status.busy": "2024-07-19T20:28:56.439498Z",
     "iopub.status.idle": "2024-07-19T20:28:59.508537Z",
     "shell.execute_reply": "2024-07-19T20:28:59.507612Z"
    },
    "papermill": {
     "duration": 3.088167,
     "end_time": "2024-07-19T20:28:59.510958",
     "exception": false,
     "start_time": "2024-07-19T20:28:56.422791",
     "status": "completed"
    },
    "tags": []
   },
   "outputs": [],
   "source": [
    "transactions['day'] = transactions['transaction_dttm'].dt.floor('d')\n",
    "transactions['week'] = transactions['transaction_dttm'].to_numpy().astype('datetime64[W]')\n",
    "transactions['month'] = transactions['transaction_dttm'].to_numpy().astype('datetime64[M]')\n",
    "transactions['day_of_week'] = transactions['day'].dt.dayofweek\n",
    "transactions['hour'] = transactions['transaction_dttm'].dt.hour"
   ]
  },
  {
   "cell_type": "code",
   "execution_count": 10,
   "id": "f06d6830",
   "metadata": {
    "execution": {
     "iopub.execute_input": "2024-07-19T20:28:59.545123Z",
     "iopub.status.busy": "2024-07-19T20:28:59.544500Z",
     "iopub.status.idle": "2024-07-19T20:29:07.220272Z",
     "shell.execute_reply": "2024-07-19T20:29:07.219267Z"
    },
    "papermill": {
     "duration": 7.695222,
     "end_time": "2024-07-19T20:29:07.222621",
     "exception": false,
     "start_time": "2024-07-19T20:28:59.527399",
     "status": "completed"
    },
    "tags": []
   },
   "outputs": [
    {
     "data": {
      "application/vnd.jupyter.widget-view+json": {
       "model_id": "6179a3ae5a9a40c989f98cc4f53ae301",
       "version_major": 2,
       "version_minor": 0
      },
      "text/plain": [
       "FloatProgress(value=0.0, layout=Layout(width='auto'), style=ProgressStyle(bar_color='black'))"
      ]
     },
     "metadata": {},
     "output_type": "display_data"
    }
   ],
   "source": [
    "transactions = duckdb.sql(f'''SELECT t1.*, \n",
    "                                    t1.day - lag(t1.day) OVER(PARTITION BY t1.user_id ORDER BY t1.transaction_dttm) as days_lag, \n",
    "                                    t2.report_dt::date - t1.day as days_to_rep,\n",
    "                                    lead(t1.day) OVER(PARTITION BY t1.user_id ORDER BY t1.transaction_dttm) - t1.day as days_lead, \n",
    "                                    t2.target\n",
    "                               FROM transactions t1\n",
    "                          LEFT JOIN t t2\n",
    "                                 ON t1.user_id = t2.user_id''').to_df()"
   ]
  },
  {
   "cell_type": "code",
   "execution_count": 11,
   "id": "4e458de8",
   "metadata": {
    "execution": {
     "iopub.execute_input": "2024-07-19T20:29:07.259369Z",
     "iopub.status.busy": "2024-07-19T20:29:07.259031Z",
     "iopub.status.idle": "2024-07-19T20:29:08.227921Z",
     "shell.execute_reply": "2024-07-19T20:29:08.226902Z"
    },
    "papermill": {
     "duration": 0.989275,
     "end_time": "2024-07-19T20:29:08.230471",
     "exception": false,
     "start_time": "2024-07-19T20:29:07.241196",
     "status": "completed"
    },
    "tags": []
   },
   "outputs": [],
   "source": [
    "transactions['days_lag'] = transactions['days_lag'].dt.days\n",
    "transactions['days_to_rep'] = transactions['days_to_rep'].dt.days\n",
    "transactions['days_lead'] = transactions['days_lead'].dt.days\n",
    "transactions['weeks_to_rep'] = transactions['days_to_rep'] // 7\n",
    "transactions['months_to_rep'] = transactions['days_to_rep'] // 17"
   ]
  },
  {
   "cell_type": "code",
   "execution_count": 12,
   "id": "5a25343a",
   "metadata": {
    "execution": {
     "iopub.execute_input": "2024-07-19T20:29:08.266399Z",
     "iopub.status.busy": "2024-07-19T20:29:08.266085Z",
     "iopub.status.idle": "2024-07-19T20:29:09.051612Z",
     "shell.execute_reply": "2024-07-19T20:29:09.050531Z"
    },
    "papermill": {
     "duration": 0.805331,
     "end_time": "2024-07-19T20:29:09.053976",
     "exception": false,
     "start_time": "2024-07-19T20:29:08.248645",
     "status": "completed"
    },
    "tags": []
   },
   "outputs": [],
   "source": [
    "v = duckdb.sql('''SELECT DISTINCT user_id, target, mcc_code\n",
    "                             FROM transactions''')\n",
    "\n",
    "u = duckdb.sql('''SELECT mcc_code, count(target) as target_cnt\n",
    "                    FROM v\n",
    "                GROUP BY mcc_code\n",
    "                  HAVING count(target) > 500''').to_df()['mcc_code'].tolist()\n",
    "\n",
    "transactions['mcc_code_old'] = transactions['mcc_code']\n",
    "\n",
    "transactions.loc[~transactions['mcc_code'].isin(u), 'mcc_code'] = -1 \n",
    "\n",
    "w = duckdb.sql('''SELECT DISTINCT user_id, target, mcc_code\n",
    "                             FROM transactions''')\n",
    "\n",
    "mcc = duckdb.sql('''SELECT mcc_code, count(*) as target_cnt, avg(target) as target_mean\n",
    "                      FROM w\n",
    "                  GROUP BY mcc_code\n",
    "                    HAVING count(target) > 500''').to_df()"
   ]
  },
  {
   "cell_type": "code",
   "execution_count": 13,
   "id": "526a9a3a",
   "metadata": {
    "execution": {
     "iopub.execute_input": "2024-07-19T20:29:09.089459Z",
     "iopub.status.busy": "2024-07-19T20:29:09.089128Z",
     "iopub.status.idle": "2024-07-19T20:29:09.097221Z",
     "shell.execute_reply": "2024-07-19T20:29:09.096489Z"
    },
    "papermill": {
     "duration": 0.028358,
     "end_time": "2024-07-19T20:29:09.099148",
     "exception": false,
     "start_time": "2024-07-19T20:29:09.070790",
     "status": "completed"
    },
    "tags": []
   },
   "outputs": [],
   "source": [
    "mcc = duckdb.sql('''SELECT *, RANK() OVER(ORDER BY target_cnt desc) as cnt_rank FROM mcc''').to_df()"
   ]
  },
  {
   "cell_type": "code",
   "execution_count": 14,
   "id": "f25c74ff",
   "metadata": {
    "execution": {
     "iopub.execute_input": "2024-07-19T20:29:09.134930Z",
     "iopub.status.busy": "2024-07-19T20:29:09.134239Z",
     "iopub.status.idle": "2024-07-19T20:29:13.129541Z",
     "shell.execute_reply": "2024-07-19T20:29:13.128734Z"
    },
    "papermill": {
     "duration": 4.015718,
     "end_time": "2024-07-19T20:29:13.131921",
     "exception": false,
     "start_time": "2024-07-19T20:29:09.116203",
     "status": "completed"
    },
    "tags": []
   },
   "outputs": [],
   "source": [
    "transactions = duckdb.sql('''SELECT t1.*, t2.target_cnt as mcc_cnt, t2.target_mean as mcc_target, t2.cnt_rank as mcc_cnt_rank\n",
    "                               FROM transactions t1\n",
    "                          LEFT JOIN mcc t2\n",
    "                                 ON t1.mcc_code = t2.mcc_code''').to_df()"
   ]
  },
  {
   "cell_type": "code",
   "execution_count": 15,
   "id": "78db0fe2",
   "metadata": {
    "execution": {
     "iopub.execute_input": "2024-07-19T20:29:13.167196Z",
     "iopub.status.busy": "2024-07-19T20:29:13.166415Z",
     "iopub.status.idle": "2024-07-19T20:29:13.184695Z",
     "shell.execute_reply": "2024-07-19T20:29:13.183806Z"
    },
    "papermill": {
     "duration": 0.037984,
     "end_time": "2024-07-19T20:29:13.186759",
     "exception": false,
     "start_time": "2024-07-19T20:29:13.148775",
     "status": "completed"
    },
    "tags": []
   },
   "outputs": [
    {
     "data": {
      "text/html": [
       "<div>\n",
       "<style scoped>\n",
       "    .dataframe tbody tr th:only-of-type {\n",
       "        vertical-align: middle;\n",
       "    }\n",
       "\n",
       "    .dataframe tbody tr th {\n",
       "        vertical-align: top;\n",
       "    }\n",
       "\n",
       "    .dataframe thead th {\n",
       "        text-align: right;\n",
       "    }\n",
       "</style>\n",
       "<table border=\"1\" class=\"dataframe\">\n",
       "  <thead>\n",
       "    <tr style=\"text-align: right;\">\n",
       "      <th></th>\n",
       "      <th>mcc_code</th>\n",
       "      <th>target_cnt</th>\n",
       "      <th>target_mean</th>\n",
       "      <th>cnt_rank</th>\n",
       "    </tr>\n",
       "  </thead>\n",
       "  <tbody>\n",
       "    <tr>\n",
       "      <th>101</th>\n",
       "      <td>51</td>\n",
       "      <td>2365</td>\n",
       "      <td>0.333991</td>\n",
       "      <td>101</td>\n",
       "    </tr>\n",
       "    <tr>\n",
       "      <th>137</th>\n",
       "      <td>89</td>\n",
       "      <td>947</td>\n",
       "      <td>0.127962</td>\n",
       "      <td>138</td>\n",
       "    </tr>\n",
       "    <tr>\n",
       "      <th>106</th>\n",
       "      <td>52</td>\n",
       "      <td>2114</td>\n",
       "      <td>0.106277</td>\n",
       "      <td>107</td>\n",
       "    </tr>\n",
       "    <tr>\n",
       "      <th>31</th>\n",
       "      <td>26</td>\n",
       "      <td>14438</td>\n",
       "      <td>0.104902</td>\n",
       "      <td>32</td>\n",
       "    </tr>\n",
       "    <tr>\n",
       "      <th>85</th>\n",
       "      <td>29</td>\n",
       "      <td>3485</td>\n",
       "      <td>0.104274</td>\n",
       "      <td>86</td>\n",
       "    </tr>\n",
       "  </tbody>\n",
       "</table>\n",
       "</div>"
      ],
      "text/plain": [
       "     mcc_code  target_cnt  target_mean  cnt_rank\n",
       "101        51        2365     0.333991       101\n",
       "137        89         947     0.127962       138\n",
       "106        52        2114     0.106277       107\n",
       "31         26       14438     0.104902        32\n",
       "85         29        3485     0.104274        86"
      ]
     },
     "execution_count": 15,
     "metadata": {},
     "output_type": "execute_result"
    }
   ],
   "source": [
    "mcc.sort_values(by='target_mean', ascending=False)[:5]"
   ]
  },
  {
   "cell_type": "code",
   "execution_count": 16,
   "id": "de97a675",
   "metadata": {
    "execution": {
     "iopub.execute_input": "2024-07-19T20:29:13.222815Z",
     "iopub.status.busy": "2024-07-19T20:29:13.222013Z",
     "iopub.status.idle": "2024-07-19T20:29:30.365208Z",
     "shell.execute_reply": "2024-07-19T20:29:30.364397Z"
    },
    "papermill": {
     "duration": 17.163487,
     "end_time": "2024-07-19T20:29:30.367523",
     "exception": false,
     "start_time": "2024-07-19T20:29:13.204036",
     "status": "completed"
    },
    "tags": []
   },
   "outputs": [],
   "source": [
    "transactions['transaction_amt_cat'] = (transactions['transaction_amt'] // 100).astype(int).map(lambda x: 999 if x > 2 else x)\\\n",
    ".map(lambda x: -999 if x < -5 else x)"
   ]
  },
  {
   "cell_type": "markdown",
   "id": "28da5cb6",
   "metadata": {
    "papermill": {
     "duration": 0.016555,
     "end_time": "2024-07-19T20:29:30.401047",
     "exception": false,
     "start_time": "2024-07-19T20:29:30.384492",
     "status": "completed"
    },
    "tags": []
   },
   "source": [
    "#### Сборка признаков"
   ]
  },
  {
   "cell_type": "code",
   "execution_count": 17,
   "id": "712f8892",
   "metadata": {
    "execution": {
     "iopub.execute_input": "2024-07-19T20:29:30.437277Z",
     "iopub.status.busy": "2024-07-19T20:29:30.436951Z",
     "iopub.status.idle": "2024-07-19T20:29:33.030818Z",
     "shell.execute_reply": "2024-07-19T20:29:33.030018Z"
    },
    "papermill": {
     "duration": 2.614694,
     "end_time": "2024-07-19T20:29:33.033069",
     "exception": false,
     "start_time": "2024-07-19T20:29:30.418375",
     "status": "completed"
    },
    "tags": []
   },
   "outputs": [
    {
     "data": {
      "application/vnd.jupyter.widget-view+json": {
       "model_id": "163453b24a4b4cfc804be9e91d68fdde",
       "version_major": 2,
       "version_minor": 0
      },
      "text/plain": [
       "FloatProgress(value=0.0, layout=Layout(width='auto'), style=ProgressStyle(bar_color='black'))"
      ]
     },
     "metadata": {},
     "output_type": "display_data"
    }
   ],
   "source": [
    "feat_7 = duckdb.sql('''\n",
    "                     SELECT user_id,\n",
    "                            sum(transaction_amt) as tr_amt_rub,\n",
    "                            count(transaction_amt) as tr_cnt_rub,\n",
    "                            sum(case when transaction_amt > 0 then transaction_amt else 0 end) as tr_amt_popoln_rub,\n",
    "                            sum(case when transaction_amt > 0 then 1 else 0 end) as tr_cnt_popoln_rub,\n",
    "                            sum(case when transaction_amt < 0 then transaction_amt else 0 end) as tr_amt_out_rub,\n",
    "                            sum(case when transaction_amt < 0 then 1 else 0 end) as tr_cnt_out_rub,\n",
    "                            min(case when transaction_amt < 0 then transaction_amt else 0 end) as tr_amt_out_max_rub,\n",
    "                            count(distinct day) as tr_cnt_days_rub,\n",
    "                            count(distinct case when transaction_amt > 0 then day end) as tr_cnt_days_popoln_rub,\n",
    "                            avg(days_lag) as tr_days_lag_avg_rub,\n",
    "                            max(days_lag) as tr_days_lag_max_rub,\n",
    "                            min(days_to_rep) - avg(days_lag) as tr_last_date_plus_avg_lag_rub,\n",
    "                            min(days_to_rep) - max(days_lag) as tr_last_date_plus_max_lag_rub,\n",
    "                            max(days_to_rep) as tr_first_date_rub,\n",
    "                            avg(transaction_amt) as tr_amt_avg_rub,\n",
    "                            avg(case when transaction_amt > 0 then transaction_amt end) as tr_amt_popoln_avg_rub,\n",
    "                            avg(case when transaction_amt < 0 then transaction_amt end) as tr_amt_out_avg_rub,\n",
    "                            max(case when transaction_amt > 0 then transaction_amt else 0 end) as tr_amt_popoln_max_rub,\n",
    "                            count(distinct mcc_code_old) as tr_cnt_mcc_rub,\n",
    "                            sum(case when mcc_code=12 then 1 else 0 end) as tr_cnt_mcc_12_rub,\n",
    "                            sum(case when transaction_amt < 0 and transaction_amt > -100 then 1 else 0 end) as tr_low_100_rub,\n",
    "                            sum(case when transaction_amt >= 20000 then 1 else 0 end) as tr_high_20000_rub\n",
    "                       FROM transactions\n",
    "                      WHERE currency_rk = 1\n",
    "                   GROUP BY user_id''').to_df()"
   ]
  },
  {
   "cell_type": "code",
   "execution_count": 18,
   "id": "462e0f4d",
   "metadata": {
    "execution": {
     "iopub.execute_input": "2024-07-19T20:29:33.069053Z",
     "iopub.status.busy": "2024-07-19T20:29:33.068616Z",
     "iopub.status.idle": "2024-07-19T20:29:33.202921Z",
     "shell.execute_reply": "2024-07-19T20:29:33.202027Z"
    },
    "papermill": {
     "duration": 0.155003,
     "end_time": "2024-07-19T20:29:33.205294",
     "exception": false,
     "start_time": "2024-07-19T20:29:33.050291",
     "status": "completed"
    },
    "tags": []
   },
   "outputs": [],
   "source": [
    "feat_6 = duckdb.sql('''\n",
    "                     SELECT user_id, \n",
    "                            min(days_to_rep) as tr_last_date_155,\n",
    "                            sum(transaction_amt) as tr_amt_155,\n",
    "                            count(transaction_amt) as tr_cnt_155,\n",
    "                            sum(case when transaction_amt > 0 then transaction_amt else 0 end) as tr_amt_popoln_155,\n",
    "                            sum(case when transaction_amt > 0 then 1 else 0 end) as tr_cnt_popoln_155,\n",
    "                            sum(case when transaction_amt < 0 then transaction_amt else 0 end) as tr_amt_out_155,\n",
    "                            sum(case when transaction_amt < 0 then 1 else 0 end) as tr_cnt_out_155,\n",
    "                            min(case when transaction_amt < 0 then transaction_amt else 0 end) as tr_amt_out_max_155,\n",
    "                            count(distinct day) as tr_cnt_days_155,\n",
    "                            count(distinct case when transaction_amt > 0 then day end) as tr_cnt_days_popoln_155,\n",
    "                            avg(days_lag) as tr_days_lag_avg_155,\n",
    "                            max(days_lag) as tr_days_lag_max_155,\n",
    "                            min(days_to_rep) - avg(days_lag) as tr_last_date_plus_avg_lag_155,\n",
    "                            min(days_to_rep) - max(days_lag) as tr_last_date_plus_max_lag_155,\n",
    "                            max(days_to_rep) as tr_first_date_155,\n",
    "                            avg(transaction_amt) as tr_amt_avg_155,\n",
    "                            avg(case when transaction_amt > 0 then transaction_amt end) as tr_amt_popoln_avg_155,\n",
    "                            avg(case when transaction_amt < 0 then transaction_amt end) as tr_amt_out_avg_155,\n",
    "                            max(case when transaction_amt > 0 then transaction_amt else 0 end) as tr_amt_popoln_max_155,\n",
    "                            sum(case when transaction_amt < 0 and transaction_amt > -100 then 1 else 0 end) as tr_low_100_155\n",
    "                       FROM transactions\n",
    "                      WHERE mcc_code=155\n",
    "                   GROUP BY user_id''').to_df()"
   ]
  },
  {
   "cell_type": "code",
   "execution_count": 19,
   "id": "60569e81",
   "metadata": {
    "execution": {
     "iopub.execute_input": "2024-07-19T20:29:33.295779Z",
     "iopub.status.busy": "2024-07-19T20:29:33.294995Z",
     "iopub.status.idle": "2024-07-19T20:29:33.623983Z",
     "shell.execute_reply": "2024-07-19T20:29:33.623055Z"
    },
    "papermill": {
     "duration": 0.350527,
     "end_time": "2024-07-19T20:29:33.626920",
     "exception": false,
     "start_time": "2024-07-19T20:29:33.276393",
     "status": "completed"
    },
    "tags": []
   },
   "outputs": [],
   "source": [
    "feat_5 = duckdb.sql('''\n",
    "                     SELECT user_id, \n",
    "                            min(days_to_rep) as tr_last_date_0,\n",
    "                            sum(transaction_amt) as tr_amt_0,\n",
    "                            count(transaction_amt) as tr_cnt_0,\n",
    "                            sum(case when transaction_amt > 0 then transaction_amt else 0 end) as tr_amt_popoln_0,\n",
    "                            sum(case when transaction_amt > 0 then 1 else 0 end) as tr_cnt_popoln_0,\n",
    "                            sum(case when transaction_amt < 0 then transaction_amt else 0 end) as tr_amt_out_0,\n",
    "                            sum(case when transaction_amt < 0 then 1 else 0 end) as tr_cnt_out_0,\n",
    "                            min(case when transaction_amt < 0 then transaction_amt else 0 end) as tr_amt_out_max_0,\n",
    "                            count(distinct day) as tr_cnt_days_0,\n",
    "                            count(distinct case when transaction_amt > 0 then day end) as tr_cnt_days_popoln_0,\n",
    "                            avg(days_lag) as tr_days_lag_avg_0,\n",
    "                            max(days_lag) as tr_days_lag_max_0,\n",
    "                            min(days_to_rep) - avg(days_lag) as tr_last_date_plus_avg_lag_0,\n",
    "                            min(days_to_rep) - max(days_lag) as tr_last_date_plus_max_lag_0,\n",
    "                            max(days_to_rep) as tr_first_date_0,\n",
    "                            avg(transaction_amt) as tr_amt_avg_0,\n",
    "                            avg(case when transaction_amt > 0 then transaction_amt end) as tr_amt_popoln_avg_0,\n",
    "                            avg(case when transaction_amt < 0 then transaction_amt end) as tr_amt_out_avg_0,\n",
    "                            max(case when transaction_amt > 0 then transaction_amt else 0 end) as tr_amt_popoln_max_0,\n",
    "                            sum(case when transaction_amt < 0 and transaction_amt > -100 then 1 else 0 end) as tr_low_100_0\n",
    "                FROM transactions\n",
    "               WHERE mcc_code=0\n",
    "            GROUP BY user_id''').to_df()"
   ]
  },
  {
   "cell_type": "code",
   "execution_count": 20,
   "id": "799a2709",
   "metadata": {
    "execution": {
     "iopub.execute_input": "2024-07-19T20:29:33.663903Z",
     "iopub.status.busy": "2024-07-19T20:29:33.663299Z",
     "iopub.status.idle": "2024-07-19T20:29:33.748776Z",
     "shell.execute_reply": "2024-07-19T20:29:33.747682Z"
    },
    "papermill": {
     "duration": 0.106166,
     "end_time": "2024-07-19T20:29:33.751177",
     "exception": false,
     "start_time": "2024-07-19T20:29:33.645011",
     "status": "completed"
    },
    "tags": []
   },
   "outputs": [],
   "source": [
    "feat_4 = duckdb.sql('''\n",
    "                     SELECT user_id, \n",
    "                            min(days_to_rep) as tr_last_date_51,\n",
    "                            sum(transaction_amt) as tr_amt_51,\n",
    "                            count(transaction_amt) as tr_cnt_51,\n",
    "                            sum(case when transaction_amt > 0 then transaction_amt else 0 end) as tr_amt_popoln_51,\n",
    "                            sum(case when transaction_amt > 0 then 1 else 0 end) as tr_cnt_popoln_51,\n",
    "                            sum(case when transaction_amt < 0 then transaction_amt else 0 end) as tr_amt_out_51,\n",
    "                            sum(case when transaction_amt < 0 then 1 else 0 end) as tr_cnt_out_51,\n",
    "                            min(case when transaction_amt < 0 then transaction_amt else 0 end) as tr_amt_out_max_51,\n",
    "                            count(distinct day) as tr_cnt_days_51,\n",
    "                            count(distinct case when transaction_amt > 0 then day end) as tr_cnt_days_popoln_51,\n",
    "                            avg(days_lag) as tr_days_lag_avg_51,\n",
    "                            max(days_lag) as tr_days_lag_max_51,\n",
    "                            min(days_to_rep) - avg(days_lag) as tr_last_date_plus_avg_lag_51,\n",
    "                            min(days_to_rep) - max(days_lag) as tr_last_date_plus_max_lag_51,\n",
    "                            max(days_to_rep) as tr_first_date_51,\n",
    "                            avg(transaction_amt) as tr_amt_avg_51,\n",
    "                            avg(case when transaction_amt > 0 then transaction_amt end) as tr_amt_popoln_avg_51,\n",
    "                            avg(case when transaction_amt < 0 then transaction_amt end) as tr_amt_out_avg_51,\n",
    "                            max(case when transaction_amt > 0 then transaction_amt else 0 end) as tr_amt_popoln_max_51,\n",
    "                            sum(case when transaction_amt < 0 and transaction_amt > -100 then 1 else 0 end) as tr_low_100_51\n",
    "                       FROM transactions\n",
    "                      WHERE mcc_code=51\n",
    "                   GROUP BY user_id''').to_df()"
   ]
  },
  {
   "cell_type": "code",
   "execution_count": 21,
   "id": "62dc2b7c",
   "metadata": {
    "execution": {
     "iopub.execute_input": "2024-07-19T20:29:33.787675Z",
     "iopub.status.busy": "2024-07-19T20:29:33.787312Z",
     "iopub.status.idle": "2024-07-19T20:29:33.914048Z",
     "shell.execute_reply": "2024-07-19T20:29:33.913012Z"
    },
    "papermill": {
     "duration": 0.147856,
     "end_time": "2024-07-19T20:29:33.916436",
     "exception": false,
     "start_time": "2024-07-19T20:29:33.768580",
     "status": "completed"
    },
    "tags": []
   },
   "outputs": [],
   "source": [
    "feat_3 = duckdb.sql('''\n",
    "                     SELECT user_id, \n",
    "                            min(days_to_rep) as tr_last_date_12,\n",
    "                            sum(transaction_amt) as tr_amt_12,\n",
    "                            count(transaction_amt) as tr_cnt_12,\n",
    "                            sum(case when transaction_amt > 0 then transaction_amt else 0 end) as tr_amt_popoln_12,\n",
    "                            sum(case when transaction_amt > 0 then 1 else 0 end) as tr_cnt_popoln_12,\n",
    "                            sum(case when transaction_amt < 0 then transaction_amt else 0 end) as tr_amt_out_12,\n",
    "                            sum(case when transaction_amt < 0 then 1 else 0 end) as tr_cnt_out_12,\n",
    "                            min(case when transaction_amt < 0 then transaction_amt else 0 end) as tr_amt_out_max_12,\n",
    "                            count(distinct day) as tr_cnt_days_12,\n",
    "                            count(distinct case when transaction_amt > 0 then day end) as tr_cnt_days_popoln_12,\n",
    "                            avg(days_lag) as tr_days_lag_avg_12,\n",
    "                            max(days_lag) as tr_days_lag_max_12,\n",
    "                            min(days_to_rep) - avg(days_lag) as tr_last_date_plus_avg_lag_12,\n",
    "                            min(days_to_rep) - max(days_lag) as tr_last_date_plus_max_lag_12,\n",
    "                            max(days_to_rep) as tr_first_date_12,\n",
    "                            avg(transaction_amt) as tr_amt_avg_12,\n",
    "                            avg(case when transaction_amt > 0 then transaction_amt end) as tr_amt_popoln_avg_12,\n",
    "                            avg(case when transaction_amt < 0 then transaction_amt end) as tr_amt_out_avg_12,\n",
    "                            max(case when transaction_amt > 0 then transaction_amt else 0 end) as tr_amt_popoln_max_12,\n",
    "                            sum(case when transaction_amt < 0 and transaction_amt > -100 then 1 else 0 end) as tr_low_100_12\n",
    "                FROM transactions\n",
    "               WHERE mcc_code=12\n",
    "            GROUP BY user_id''').to_df()"
   ]
  },
  {
   "cell_type": "code",
   "execution_count": 22,
   "id": "c6228efd",
   "metadata": {
    "execution": {
     "iopub.execute_input": "2024-07-19T20:29:33.952690Z",
     "iopub.status.busy": "2024-07-19T20:29:33.951948Z",
     "iopub.status.idle": "2024-07-19T20:29:34.674389Z",
     "shell.execute_reply": "2024-07-19T20:29:34.673337Z"
    },
    "papermill": {
     "duration": 0.742974,
     "end_time": "2024-07-19T20:29:34.676694",
     "exception": false,
     "start_time": "2024-07-19T20:29:33.933720",
     "status": "completed"
    },
    "tags": []
   },
   "outputs": [],
   "source": [
    "feat_2 = duckdb.sql('''\n",
    "                     SELECT user_id,\n",
    "                            sum(transaction_amt) as tr_amt_month,\n",
    "                            count(transaction_amt) as tr_cnt_month,\n",
    "                            sum(case when transaction_amt > 0 then transaction_amt else 0 end) as tr_amt_popoln_month,\n",
    "                            sum(case when transaction_amt > 0 then 1 else 0 end) as tr_cnt_popoln_month,\n",
    "                            sum(case when transaction_amt < 0 then transaction_amt else 0 end) as tr_amt_out_month,\n",
    "                            sum(case when transaction_amt < 0 then 1 else 0 end) as tr_cnt_out_month,\n",
    "                            min(case when transaction_amt < 0 then transaction_amt else 0 end) as tr_amt_out_max_month,\n",
    "                            count(distinct day) as tr_cnt_days_month,\n",
    "                            count(distinct case when transaction_amt > 0 then day end) as tr_cnt_days_popoln_month,\n",
    "                            avg(days_lag) as tr_days_lag_avg_month,\n",
    "                            max(days_lag) as tr_days_lag_max_month,\n",
    "                            min(days_to_rep) - avg(days_lag) as tr_last_date_plus_avg_lag_month,\n",
    "                            min(days_to_rep) - max(days_lag) as tr_last_date_plus_max_lag_month,\n",
    "                            max(days_to_rep) as tr_first_date_month,\n",
    "                            avg(transaction_amt) as tr_amt_avg_month,\n",
    "                            avg(case when transaction_amt > 0 then transaction_amt end) as tr_amt_popoln_avg_month,\n",
    "                            avg(case when transaction_amt < 0 then transaction_amt end) as tr_amt_out_avg_month,\n",
    "                            max(case when transaction_amt > 0 then transaction_amt else 0 end) as tr_amt_popoln_max_month,\n",
    "                            count(distinct mcc_code_old) as tr_cnt_mcc_month,\n",
    "                            sum(case when mcc_code=12 then 1 else 0 end) as tr_cnt_mcc_12_month,\n",
    "                            sum(case when transaction_amt < 0 and transaction_amt > -100 then 1 else 0 end) as tr_low_100_month,\n",
    "                            sum(case when transaction_amt >= 20000 then 1 else 0 end) as tr_high_20000_month\n",
    "                       FROM transactions\n",
    "                      WHERE days_to_rep < 133\n",
    "                   GROUP BY user_id''').to_df()"
   ]
  },
  {
   "cell_type": "code",
   "execution_count": 23,
   "id": "40f1a806",
   "metadata": {
    "execution": {
     "iopub.execute_input": "2024-07-19T20:29:34.713138Z",
     "iopub.status.busy": "2024-07-19T20:29:34.712684Z",
     "iopub.status.idle": "2024-07-19T20:29:37.363360Z",
     "shell.execute_reply": "2024-07-19T20:29:37.362333Z"
    },
    "papermill": {
     "duration": 2.671641,
     "end_time": "2024-07-19T20:29:37.365794",
     "exception": false,
     "start_time": "2024-07-19T20:29:34.694153",
     "status": "completed"
    },
    "tags": []
   },
   "outputs": [
    {
     "data": {
      "application/vnd.jupyter.widget-view+json": {
       "model_id": "0b28ca1e340b4a50959e48f2df4c58fe",
       "version_major": 2,
       "version_minor": 0
      },
      "text/plain": [
       "FloatProgress(value=0.0, layout=Layout(width='auto'), style=ProgressStyle(bar_color='black'))"
      ]
     },
     "metadata": {},
     "output_type": "display_data"
    }
   ],
   "source": [
    "feat = duckdb.sql('''SELECT user_id, \n",
    "                            min(days_to_rep) as tr_last_date, \n",
    "                            sum(transaction_amt) as tr_amt_total,\n",
    "                            count(transaction_amt) as tr_cnt_total,\n",
    "                            sum(case when transaction_amt > 0 then transaction_amt else 0 end) as tr_amt_popoln_total,\n",
    "                            sum(case when transaction_amt > 0 then 1 else 0 end) as tr_cnt_popoln_total,\n",
    "                            sum(case when transaction_amt < 0 then transaction_amt else 0 end) as tr_amt_out_total,\n",
    "                            sum(case when transaction_amt < 0 then 1 else 0 end) as tr_cnt_out_total,\n",
    "                            min(case when transaction_amt < 0 then transaction_amt else 0 end) as tr_amt_out_max_total,\n",
    "                            count(distinct day) as tr_cnt_days_total,\n",
    "                            count(distinct case when transaction_amt > 0 then day end) as tr_cnt_days_popoln_total,\n",
    "                            avg(days_lag) as tr_days_lag_avg_total,\n",
    "                            max(days_lag) as tr_days_lag_max_total,\n",
    "                            min(days_to_rep) - avg(days_lag) as tr_last_date_plus_avg_lag_total,\n",
    "                            min(days_to_rep) - max(days_lag) as tr_last_date_plus_max_lag_total,\n",
    "                            max(days_to_rep) as tr_first_date_total,\n",
    "                            avg(transaction_amt) as tr_amt_avg_total,\n",
    "                            avg(case when transaction_amt > 0 then transaction_amt end) as tr_amt_popoln_avg_total,\n",
    "                            avg(case when transaction_amt < 0 then transaction_amt end) as tr_amt_out_avg_total,\n",
    "                            max(case when transaction_amt > 0 then transaction_amt else 0 end) as tr_amt_popoln_max_total,\n",
    "                            count(distinct mcc_code_old) as tr_cnt_mcc_total,\n",
    "                            avg(mcc_target) as tr_mcc_target_avg_total,\n",
    "                            sum(case when mcc_code=12 then 1 else 0 end) as tr_cnt_mcc_12_total,\n",
    "                            sum(case when mcc_code=51 then 1 else 0 end) as tr_cnt_mcc_51_total,\n",
    "                            sum(case when mcc_code=0 then 1 else 0 end) as tr_cnt_mcc_0_total,\n",
    "                            sum(case when mcc_code=155 then 1 else 0 end) as tr_cnt_mcc_155_total,\n",
    "                            sum(case when transaction_amt < 0 and transaction_amt > -100 then 1 else 0 end) as tr_low_100_total,\n",
    "                            sum(case when transaction_amt >= 20000 then 1 else 0 end) as tr_high_20000_total,\n",
    "                            min(currency_rk) as tr_min_currecncy_total\n",
    "                       FROM transactions\n",
    "                   GROUP BY user_id''').to_df()"
   ]
  },
  {
   "cell_type": "code",
   "execution_count": 24,
   "id": "f9cfbe5e",
   "metadata": {
    "execution": {
     "iopub.execute_input": "2024-07-19T20:29:37.402754Z",
     "iopub.status.busy": "2024-07-19T20:29:37.401979Z",
     "iopub.status.idle": "2024-07-19T20:29:37.409390Z",
     "shell.execute_reply": "2024-07-19T20:29:37.408490Z"
    },
    "papermill": {
     "duration": 0.027931,
     "end_time": "2024-07-19T20:29:37.411410",
     "exception": false,
     "start_time": "2024-07-19T20:29:37.383479",
     "status": "completed"
    },
    "tags": []
   },
   "outputs": [],
   "source": [
    "t = df.copy()"
   ]
  },
  {
   "cell_type": "code",
   "execution_count": 25,
   "id": "c440007d",
   "metadata": {
    "execution": {
     "iopub.execute_input": "2024-07-19T20:29:37.448066Z",
     "iopub.status.busy": "2024-07-19T20:29:37.447646Z",
     "iopub.status.idle": "2024-07-19T20:29:38.313879Z",
     "shell.execute_reply": "2024-07-19T20:29:38.312834Z"
    },
    "papermill": {
     "duration": 0.887381,
     "end_time": "2024-07-19T20:29:38.316410",
     "exception": false,
     "start_time": "2024-07-19T20:29:37.429029",
     "status": "completed"
    },
    "tags": []
   },
   "outputs": [],
   "source": [
    "t = duckdb.sql('''SELECT t1.*, t2.*, t3.*, t4.*, t5.*, t8.*, t6.*, t7.*\n",
    "                    FROM t t1\n",
    "               LEFT JOIN feat t2\n",
    "                      ON t1.user_id = t2.user_id\n",
    "               LEFT JOIN feat_2 t3\n",
    "                      ON t1.user_id = t3.user_id\n",
    "               LEFT JOIN feat_3 t4\n",
    "                      ON t1.user_id = t4.user_id\n",
    "               LEFT JOIN feat_4 t5\n",
    "                      ON t1.user_id = t5.user_id\n",
    "               LEFT JOIN feat_5 t6\n",
    "                      ON t1.user_id = t6.user_id\n",
    "               LEFT JOIN feat_6 t7\n",
    "                      ON t1.user_id = t7.user_id\n",
    "               LEFT JOIN feat_7 t8\n",
    "                      ON t1.user_id = t8.user_id\n",
    "               ''').to_df()"
   ]
  },
  {
   "cell_type": "code",
   "execution_count": 26,
   "id": "1f0c245b",
   "metadata": {
    "execution": {
     "iopub.execute_input": "2024-07-19T20:29:38.353170Z",
     "iopub.status.busy": "2024-07-19T20:29:38.352816Z",
     "iopub.status.idle": "2024-07-19T20:29:38.395023Z",
     "shell.execute_reply": "2024-07-19T20:29:38.394027Z"
    },
    "papermill": {
     "duration": 0.063362,
     "end_time": "2024-07-19T20:29:38.397377",
     "exception": false,
     "start_time": "2024-07-19T20:29:38.334015",
     "status": "completed"
    },
    "tags": []
   },
   "outputs": [],
   "source": [
    "t = t.drop(columns = ['user_id_1', 'user_id_2', 'user_id_3', 'user_id_4', 'user_id_5', 'user_id_6', 'user_id_7'])"
   ]
  },
  {
   "cell_type": "code",
   "execution_count": 27,
   "id": "9e00580a",
   "metadata": {
    "execution": {
     "iopub.execute_input": "2024-07-19T20:29:38.434539Z",
     "iopub.status.busy": "2024-07-19T20:29:38.433930Z",
     "iopub.status.idle": "2024-07-19T20:29:38.453688Z",
     "shell.execute_reply": "2024-07-19T20:29:38.452763Z"
    },
    "papermill": {
     "duration": 0.040368,
     "end_time": "2024-07-19T20:29:38.455786",
     "exception": false,
     "start_time": "2024-07-19T20:29:38.415418",
     "status": "completed"
    },
    "tags": []
   },
   "outputs": [],
   "source": [
    "t['employee_count_nm'] = t['employee_count_nm'].map({'БОЛЕЕ 1001': 1000, 'ОТ 101 ДО 500': 100, 'ОТ 51 ДО 100': 50, \n",
    "                                                     'ОТ 501 ДО 1000': 750, 'ОТ 11 ДО 50': 30, 'ДО 10': 1, \n",
    "                                                     'БОЛЕЕ 500': 500, 'ОТ 11 ДО 30': 20, 'ОТ 31 ДО 50': 40}).fillna(-1)"
   ]
  },
  {
   "cell_type": "code",
   "execution_count": 28,
   "id": "ac9a2a79",
   "metadata": {
    "execution": {
     "iopub.execute_input": "2024-07-19T20:29:38.491644Z",
     "iopub.status.busy": "2024-07-19T20:29:38.491104Z",
     "iopub.status.idle": "2024-07-19T20:29:43.184653Z",
     "shell.execute_reply": "2024-07-19T20:29:43.183809Z"
    },
    "papermill": {
     "duration": 4.713791,
     "end_time": "2024-07-19T20:29:43.187046",
     "exception": false,
     "start_time": "2024-07-19T20:29:38.473255",
     "status": "completed"
    },
    "tags": []
   },
   "outputs": [],
   "source": [
    "tmp = transactions.copy()\n",
    "tmp['hour'] = tmp['transaction_dttm'].dt.hour\n",
    "pivot_table = tmp.pivot_table(\n",
    "    index='user_id',\n",
    "    columns='hour',\n",
    "    values='transaction_amt',\n",
    "    aggfunc=['count', 'sum']\n",
    ").fillna(0)\n",
    "pivot_table.columns = [f'hour_{x[0]}_{x[1]}' for x in pivot_table.columns]\n",
    "\n",
    "count_cols = [x for x in pivot_table.columns if 'count' in x]\n",
    "pivot_table['sum'] = pivot_table[count_cols].sum(axis=1)\n",
    "for col in count_cols:\n",
    "    pivot_table[f'{col}_norm'] = pivot_table[col] / pivot_table['sum']\n",
    "pivot_table.drop('sum', axis=1, inplace=True)\n",
    "\n",
    "pivot_table = pivot_table[[col for col in pivot_table.columns if col.find('norm') >= 0 and col.find('count') >= 0]]\n",
    "\n",
    "t = t.merge(pivot_table, how='left', left_on='user_id', right_index=True)"
   ]
  },
  {
   "cell_type": "code",
   "execution_count": 29,
   "id": "0b0db998",
   "metadata": {
    "execution": {
     "iopub.execute_input": "2024-07-19T20:29:43.224910Z",
     "iopub.status.busy": "2024-07-19T20:29:43.224296Z",
     "iopub.status.idle": "2024-07-19T20:29:46.836656Z",
     "shell.execute_reply": "2024-07-19T20:29:46.835899Z"
    },
    "papermill": {
     "duration": 3.634161,
     "end_time": "2024-07-19T20:29:46.839078",
     "exception": false,
     "start_time": "2024-07-19T20:29:43.204917",
     "status": "completed"
    },
    "tags": []
   },
   "outputs": [],
   "source": [
    "tmp = transactions.copy()\n",
    "pivot_table = tmp.pivot_table(\n",
    "    index='user_id',\n",
    "    columns='transaction_amt_cat',\n",
    "    values='transaction_amt',\n",
    "    aggfunc=['count', 'sum']\n",
    ").fillna(0)\n",
    "pivot_table.columns = [f'tr_amt_{x[0]}_{x[1]}' for x in pivot_table.columns]\n",
    "\n",
    "count_cols = [x for x in pivot_table.columns if 'count' in x]\n",
    "pivot_table['sum'] = pivot_table[count_cols].sum(axis=1)\n",
    "for col in count_cols:\n",
    "    pivot_table[f'{col}_norm'] = pivot_table[col] / pivot_table['sum']\n",
    "pivot_table.drop('sum', axis=1, inplace=True)\n",
    "\n",
    "pivot_table = pivot_table[[col for col in pivot_table.columns if col.find('norm') >= 0 and col.find('count') >= 0]]\n",
    "\n",
    "t = t.merge(pivot_table, how='left', left_on='user_id', right_index=True)"
   ]
  },
  {
   "cell_type": "code",
   "execution_count": 30,
   "id": "47e77e18",
   "metadata": {
    "execution": {
     "iopub.execute_input": "2024-07-19T20:29:46.874709Z",
     "iopub.status.busy": "2024-07-19T20:29:46.874427Z",
     "iopub.status.idle": "2024-07-19T20:29:51.433224Z",
     "shell.execute_reply": "2024-07-19T20:29:51.432427Z"
    },
    "papermill": {
     "duration": 4.57916,
     "end_time": "2024-07-19T20:29:51.435562",
     "exception": false,
     "start_time": "2024-07-19T20:29:46.856402",
     "status": "completed"
    },
    "tags": []
   },
   "outputs": [],
   "source": [
    "tmp = transactions.copy()\n",
    "pivot_table = tmp.pivot_table(\n",
    "    index='user_id',\n",
    "    columns='weeks_to_rep',\n",
    "    values='transaction_amt',\n",
    "    aggfunc=['count', 'sum']\n",
    ").fillna(0)\n",
    "pivot_table.columns = [f'tr_week_{x[0]}_{x[1]}' for x in pivot_table.columns]\n",
    "\n",
    "count_cols = [x for x in pivot_table.columns if 'count' in x]\n",
    "pivot_table['sum'] = pivot_table[count_cols].sum(axis=1)\n",
    "for col in count_cols:\n",
    "    pivot_table[f'{col}_norm'] = pivot_table[col] / pivot_table['sum']\n",
    "pivot_table.drop('sum', axis=1, inplace=True)\n",
    "\n",
    "pivot_table = pivot_table[[col for col in pivot_table.columns if col.find('norm') < 0 and col.find('count') >= 0]]\n",
    "\n",
    "t = t.merge(pivot_table, how='left', left_on='user_id', right_index=True)"
   ]
  },
  {
   "cell_type": "code",
   "execution_count": 31,
   "id": "312a9a1c",
   "metadata": {
    "execution": {
     "iopub.execute_input": "2024-07-19T20:29:51.472562Z",
     "iopub.status.busy": "2024-07-19T20:29:51.471795Z",
     "iopub.status.idle": "2024-07-19T20:29:56.535621Z",
     "shell.execute_reply": "2024-07-19T20:29:56.534789Z"
    },
    "papermill": {
     "duration": 5.084883,
     "end_time": "2024-07-19T20:29:56.538255",
     "exception": false,
     "start_time": "2024-07-19T20:29:51.453372",
     "status": "completed"
    },
    "tags": []
   },
   "outputs": [],
   "source": [
    "tmp = transactions.copy()\n",
    "pivot_table = tmp.pivot_table(\n",
    "    index='user_id',\n",
    "    columns='months_to_rep',\n",
    "    values='transaction_amt',\n",
    "    aggfunc=['count', 'sum', 'mean']\n",
    ").fillna(0)\n",
    "pivot_table.columns = [f'tr_month_{x[0]}_{x[1]}' for x in pivot_table.columns]\n",
    "\n",
    "count_cols = [x for x in pivot_table.columns if 'count' in x]\n",
    "pivot_table['sum'] = pivot_table[count_cols].sum(axis=1)\n",
    "for col in count_cols:\n",
    "    pivot_table[f'{col}_norm'] = pivot_table[col] / pivot_table['sum']\n",
    "pivot_table.drop('sum', axis=1, inplace=True)\n",
    "\n",
    "pivot_table = pivot_table[[col for col in pivot_table.columns if col.find('norm') >= 0 or col.find('count') < 0]]\n",
    "\n",
    "t = t.merge(pivot_table, how='left', left_on='user_id', right_index=True)"
   ]
  },
  {
   "cell_type": "code",
   "execution_count": 32,
   "id": "28d7a0c8",
   "metadata": {
    "execution": {
     "iopub.execute_input": "2024-07-19T20:29:56.575573Z",
     "iopub.status.busy": "2024-07-19T20:29:56.575232Z",
     "iopub.status.idle": "2024-07-19T20:30:01.822822Z",
     "shell.execute_reply": "2024-07-19T20:30:01.822027Z"
    },
    "papermill": {
     "duration": 5.268719,
     "end_time": "2024-07-19T20:30:01.825239",
     "exception": false,
     "start_time": "2024-07-19T20:29:56.556520",
     "status": "completed"
    },
    "tags": []
   },
   "outputs": [],
   "source": [
    "tmp = transactions[(transactions['mcc_code'] >= 0) & (transactions['mcc_code'].isin(mcc[mcc['cnt_rank'] <= 35]['mcc_code']))].copy()\n",
    "pivot_table = tmp.pivot_table(\n",
    "    index='user_id',\n",
    "    columns='mcc_code',\n",
    "    values='transaction_amt',\n",
    "    aggfunc=['count', 'sum']\n",
    ").fillna(0)\n",
    "pivot_table.columns = [f'tr_mcc_{x[0]}_{x[1]}' for x in pivot_table.columns]\n",
    "\n",
    "count_cols = [x for x in pivot_table.columns if 'count' in x]\n",
    "pivot_table['sum'] = pivot_table[count_cols].sum(axis=1)\n",
    "for col in count_cols:\n",
    "    pivot_table[f'{col}_norm'] = pivot_table[col] / pivot_table['sum']\n",
    "pivot_table.drop('sum', axis=1, inplace=True)\n",
    "\n",
    "pivot_table = pivot_table[[col for col in pivot_table.columns if col.find('norm') >= 0 or col.find('count') < 0]]\n",
    "\n",
    "t = t.merge(pivot_table, how='left', left_on='user_id', right_index=True)"
   ]
  },
  {
   "cell_type": "code",
   "execution_count": 33,
   "id": "23698f27",
   "metadata": {
    "execution": {
     "iopub.execute_input": "2024-07-19T20:30:01.862298Z",
     "iopub.status.busy": "2024-07-19T20:30:01.861719Z",
     "iopub.status.idle": "2024-07-19T20:30:01.868193Z",
     "shell.execute_reply": "2024-07-19T20:30:01.867203Z"
    },
    "papermill": {
     "duration": 0.026833,
     "end_time": "2024-07-19T20:30:01.870275",
     "exception": false,
     "start_time": "2024-07-19T20:30:01.843442",
     "status": "completed"
    },
    "tags": []
   },
   "outputs": [],
   "source": [
    "t['report_cat'] = t['report'].astype('category')"
   ]
  },
  {
   "cell_type": "code",
   "execution_count": 34,
   "id": "36db532a",
   "metadata": {
    "execution": {
     "iopub.execute_input": "2024-07-19T20:30:01.906587Z",
     "iopub.status.busy": "2024-07-19T20:30:01.905790Z",
     "iopub.status.idle": "2024-07-19T20:30:01.919632Z",
     "shell.execute_reply": "2024-07-19T20:30:01.918793Z"
    },
    "papermill": {
     "duration": 0.034369,
     "end_time": "2024-07-19T20:30:01.921798",
     "exception": false,
     "start_time": "2024-07-19T20:30:01.887429",
     "status": "completed"
    },
    "tags": []
   },
   "outputs": [
    {
     "data": {
      "text/plain": [
       "['user_id',\n",
       " 'report',\n",
       " 'employee_count_nm',\n",
       " 'bankemplstatus',\n",
       " 'customer_age',\n",
       " 'tr_last_date',\n",
       " 'tr_amt_total',\n",
       " 'tr_cnt_total',\n",
       " 'tr_amt_popoln_total',\n",
       " 'tr_cnt_popoln_total',\n",
       " 'tr_amt_out_total',\n",
       " 'tr_cnt_out_total',\n",
       " 'tr_amt_out_max_total',\n",
       " 'tr_cnt_days_total',\n",
       " 'tr_cnt_days_popoln_total',\n",
       " 'tr_days_lag_avg_total',\n",
       " 'tr_days_lag_max_total',\n",
       " 'tr_last_date_plus_avg_lag_total',\n",
       " 'tr_last_date_plus_max_lag_total',\n",
       " 'tr_first_date_total',\n",
       " 'tr_amt_avg_total',\n",
       " 'tr_amt_popoln_avg_total',\n",
       " 'tr_amt_out_avg_total',\n",
       " 'tr_amt_popoln_max_total',\n",
       " 'tr_cnt_mcc_total',\n",
       " 'tr_mcc_target_avg_total',\n",
       " 'tr_cnt_mcc_12_total',\n",
       " 'tr_cnt_mcc_51_total',\n",
       " 'tr_cnt_mcc_0_total',\n",
       " 'tr_cnt_mcc_155_total',\n",
       " 'tr_low_100_total',\n",
       " 'tr_high_20000_total',\n",
       " 'tr_min_currecncy_total',\n",
       " 'tr_amt_month',\n",
       " 'tr_cnt_month',\n",
       " 'tr_amt_popoln_month',\n",
       " 'tr_cnt_popoln_month',\n",
       " 'tr_amt_out_month',\n",
       " 'tr_cnt_out_month',\n",
       " 'tr_amt_out_max_month',\n",
       " 'tr_cnt_days_month',\n",
       " 'tr_cnt_days_popoln_month',\n",
       " 'tr_days_lag_avg_month',\n",
       " 'tr_days_lag_max_month',\n",
       " 'tr_last_date_plus_avg_lag_month',\n",
       " 'tr_last_date_plus_max_lag_month',\n",
       " 'tr_first_date_month',\n",
       " 'tr_amt_avg_month',\n",
       " 'tr_amt_popoln_avg_month',\n",
       " 'tr_amt_out_avg_month',\n",
       " 'tr_amt_popoln_max_month',\n",
       " 'tr_cnt_mcc_month',\n",
       " 'tr_cnt_mcc_12_month',\n",
       " 'tr_low_100_month',\n",
       " 'tr_high_20000_month',\n",
       " 'tr_last_date_12',\n",
       " 'tr_amt_12',\n",
       " 'tr_cnt_12',\n",
       " 'tr_amt_popoln_12',\n",
       " 'tr_cnt_popoln_12',\n",
       " 'tr_amt_out_12',\n",
       " 'tr_cnt_out_12',\n",
       " 'tr_amt_out_max_12',\n",
       " 'tr_cnt_days_12',\n",
       " 'tr_cnt_days_popoln_12',\n",
       " 'tr_days_lag_avg_12',\n",
       " 'tr_days_lag_max_12',\n",
       " 'tr_last_date_plus_avg_lag_12',\n",
       " 'tr_last_date_plus_max_lag_12',\n",
       " 'tr_first_date_12',\n",
       " 'tr_amt_avg_12',\n",
       " 'tr_amt_popoln_avg_12',\n",
       " 'tr_amt_out_avg_12',\n",
       " 'tr_amt_popoln_max_12',\n",
       " 'tr_low_100_12',\n",
       " 'tr_last_date_51',\n",
       " 'tr_amt_51',\n",
       " 'tr_cnt_51',\n",
       " 'tr_amt_popoln_51',\n",
       " 'tr_cnt_popoln_51',\n",
       " 'tr_amt_out_51',\n",
       " 'tr_cnt_out_51',\n",
       " 'tr_amt_out_max_51',\n",
       " 'tr_cnt_days_51',\n",
       " 'tr_cnt_days_popoln_51',\n",
       " 'tr_days_lag_avg_51',\n",
       " 'tr_days_lag_max_51',\n",
       " 'tr_last_date_plus_avg_lag_51',\n",
       " 'tr_last_date_plus_max_lag_51',\n",
       " 'tr_first_date_51',\n",
       " 'tr_amt_avg_51',\n",
       " 'tr_amt_popoln_avg_51',\n",
       " 'tr_amt_out_avg_51',\n",
       " 'tr_amt_popoln_max_51',\n",
       " 'tr_low_100_51',\n",
       " 'tr_amt_rub',\n",
       " 'tr_cnt_rub',\n",
       " 'tr_amt_popoln_rub',\n",
       " 'tr_cnt_popoln_rub',\n",
       " 'tr_amt_out_rub',\n",
       " 'tr_cnt_out_rub',\n",
       " 'tr_amt_out_max_rub',\n",
       " 'tr_cnt_days_rub',\n",
       " 'tr_cnt_days_popoln_rub',\n",
       " 'tr_days_lag_avg_rub',\n",
       " 'tr_days_lag_max_rub',\n",
       " 'tr_last_date_plus_avg_lag_rub',\n",
       " 'tr_last_date_plus_max_lag_rub',\n",
       " 'tr_first_date_rub',\n",
       " 'tr_amt_avg_rub',\n",
       " 'tr_amt_popoln_avg_rub',\n",
       " 'tr_amt_out_avg_rub',\n",
       " 'tr_amt_popoln_max_rub',\n",
       " 'tr_cnt_mcc_rub',\n",
       " 'tr_cnt_mcc_12_rub',\n",
       " 'tr_low_100_rub',\n",
       " 'tr_high_20000_rub',\n",
       " 'tr_last_date_0',\n",
       " 'tr_amt_0',\n",
       " 'tr_cnt_0',\n",
       " 'tr_amt_popoln_0',\n",
       " 'tr_cnt_popoln_0',\n",
       " 'tr_amt_out_0',\n",
       " 'tr_cnt_out_0',\n",
       " 'tr_amt_out_max_0',\n",
       " 'tr_cnt_days_0',\n",
       " 'tr_cnt_days_popoln_0',\n",
       " 'tr_days_lag_avg_0',\n",
       " 'tr_days_lag_max_0',\n",
       " 'tr_last_date_plus_avg_lag_0',\n",
       " 'tr_last_date_plus_max_lag_0',\n",
       " 'tr_first_date_0',\n",
       " 'tr_amt_avg_0',\n",
       " 'tr_amt_popoln_avg_0',\n",
       " 'tr_amt_out_avg_0',\n",
       " 'tr_amt_popoln_max_0',\n",
       " 'tr_low_100_0',\n",
       " 'tr_last_date_155',\n",
       " 'tr_amt_155',\n",
       " 'tr_cnt_155',\n",
       " 'tr_amt_popoln_155',\n",
       " 'tr_cnt_popoln_155',\n",
       " 'tr_amt_out_155',\n",
       " 'tr_cnt_out_155',\n",
       " 'tr_amt_out_max_155',\n",
       " 'tr_cnt_days_155',\n",
       " 'tr_cnt_days_popoln_155',\n",
       " 'tr_days_lag_avg_155',\n",
       " 'tr_days_lag_max_155',\n",
       " 'tr_last_date_plus_avg_lag_155',\n",
       " 'tr_last_date_plus_max_lag_155',\n",
       " 'tr_first_date_155',\n",
       " 'tr_amt_avg_155',\n",
       " 'tr_amt_popoln_avg_155',\n",
       " 'tr_amt_out_avg_155',\n",
       " 'tr_amt_popoln_max_155',\n",
       " 'tr_low_100_155',\n",
       " 'hour_count_0_norm',\n",
       " 'hour_count_1_norm',\n",
       " 'hour_count_2_norm',\n",
       " 'hour_count_3_norm',\n",
       " 'hour_count_4_norm',\n",
       " 'hour_count_5_norm',\n",
       " 'hour_count_6_norm',\n",
       " 'hour_count_7_norm',\n",
       " 'hour_count_8_norm',\n",
       " 'hour_count_9_norm',\n",
       " 'hour_count_10_norm',\n",
       " 'hour_count_11_norm',\n",
       " 'hour_count_12_norm',\n",
       " 'hour_count_13_norm',\n",
       " 'hour_count_14_norm',\n",
       " 'hour_count_15_norm',\n",
       " 'hour_count_16_norm',\n",
       " 'hour_count_17_norm',\n",
       " 'hour_count_18_norm',\n",
       " 'hour_count_19_norm',\n",
       " 'hour_count_20_norm',\n",
       " 'hour_count_21_norm',\n",
       " 'hour_count_22_norm',\n",
       " 'hour_count_23_norm',\n",
       " 'tr_amt_count_-999_norm',\n",
       " 'tr_amt_count_-5_norm',\n",
       " 'tr_amt_count_-4_norm',\n",
       " 'tr_amt_count_-3_norm',\n",
       " 'tr_amt_count_-2_norm',\n",
       " 'tr_amt_count_-1_norm',\n",
       " 'tr_amt_count_0_norm',\n",
       " 'tr_amt_count_1_norm',\n",
       " 'tr_amt_count_2_norm',\n",
       " 'tr_amt_count_999_norm',\n",
       " 'tr_week_count_14',\n",
       " 'tr_week_count_15',\n",
       " 'tr_week_count_16',\n",
       " 'tr_week_count_17',\n",
       " 'tr_week_count_18',\n",
       " 'tr_week_count_19',\n",
       " 'tr_week_count_20',\n",
       " 'tr_week_count_21',\n",
       " 'tr_week_count_22',\n",
       " 'tr_week_count_23',\n",
       " 'tr_week_count_24',\n",
       " 'tr_week_count_25',\n",
       " 'tr_week_count_26',\n",
       " 'tr_week_count_27',\n",
       " 'tr_week_count_28',\n",
       " 'tr_week_count_29',\n",
       " 'tr_week_count_30',\n",
       " 'tr_week_count_31',\n",
       " 'tr_week_count_32',\n",
       " 'tr_week_count_33',\n",
       " 'tr_week_count_34',\n",
       " 'tr_week_count_35',\n",
       " 'tr_week_count_36',\n",
       " 'tr_week_count_37',\n",
       " 'tr_week_count_38',\n",
       " 'tr_week_count_39',\n",
       " 'tr_week_count_40',\n",
       " 'tr_month_sum_6',\n",
       " 'tr_month_sum_7',\n",
       " 'tr_month_sum_8',\n",
       " 'tr_month_sum_9',\n",
       " 'tr_month_sum_10',\n",
       " 'tr_month_sum_11',\n",
       " 'tr_month_sum_12',\n",
       " 'tr_month_sum_13',\n",
       " 'tr_month_sum_14',\n",
       " 'tr_month_sum_15',\n",
       " 'tr_month_sum_16',\n",
       " 'tr_month_mean_6',\n",
       " 'tr_month_mean_7',\n",
       " 'tr_month_mean_8',\n",
       " 'tr_month_mean_9',\n",
       " 'tr_month_mean_10',\n",
       " 'tr_month_mean_11',\n",
       " 'tr_month_mean_12',\n",
       " 'tr_month_mean_13',\n",
       " 'tr_month_mean_14',\n",
       " 'tr_month_mean_15',\n",
       " 'tr_month_mean_16',\n",
       " 'tr_month_count_6_norm',\n",
       " 'tr_month_count_7_norm',\n",
       " 'tr_month_count_8_norm',\n",
       " 'tr_month_count_9_norm',\n",
       " 'tr_month_count_10_norm',\n",
       " 'tr_month_count_11_norm',\n",
       " 'tr_month_count_12_norm',\n",
       " 'tr_month_count_13_norm',\n",
       " 'tr_month_count_14_norm',\n",
       " 'tr_month_count_15_norm',\n",
       " 'tr_month_count_16_norm',\n",
       " 'tr_mcc_sum_0',\n",
       " 'tr_mcc_sum_1',\n",
       " 'tr_mcc_sum_2',\n",
       " 'tr_mcc_sum_3',\n",
       " 'tr_mcc_sum_4',\n",
       " 'tr_mcc_sum_6',\n",
       " 'tr_mcc_sum_7',\n",
       " 'tr_mcc_sum_8',\n",
       " 'tr_mcc_sum_9',\n",
       " 'tr_mcc_sum_10',\n",
       " 'tr_mcc_sum_11',\n",
       " 'tr_mcc_sum_13',\n",
       " 'tr_mcc_sum_15',\n",
       " 'tr_mcc_sum_16',\n",
       " 'tr_mcc_sum_17',\n",
       " 'tr_mcc_sum_18',\n",
       " 'tr_mcc_sum_20',\n",
       " 'tr_mcc_sum_21',\n",
       " 'tr_mcc_sum_22',\n",
       " 'tr_mcc_sum_23',\n",
       " 'tr_mcc_sum_24',\n",
       " 'tr_mcc_sum_25',\n",
       " 'tr_mcc_sum_26',\n",
       " 'tr_mcc_sum_27',\n",
       " 'tr_mcc_sum_28',\n",
       " 'tr_mcc_sum_30',\n",
       " 'tr_mcc_sum_31',\n",
       " 'tr_mcc_sum_32',\n",
       " 'tr_mcc_sum_33',\n",
       " 'tr_mcc_sum_34',\n",
       " 'tr_mcc_sum_37',\n",
       " 'tr_mcc_sum_39',\n",
       " 'tr_mcc_sum_44',\n",
       " 'tr_mcc_sum_155',\n",
       " 'tr_mcc_count_0_norm',\n",
       " 'tr_mcc_count_1_norm',\n",
       " 'tr_mcc_count_2_norm',\n",
       " 'tr_mcc_count_3_norm',\n",
       " 'tr_mcc_count_4_norm',\n",
       " 'tr_mcc_count_6_norm',\n",
       " 'tr_mcc_count_7_norm',\n",
       " 'tr_mcc_count_8_norm',\n",
       " 'tr_mcc_count_9_norm',\n",
       " 'tr_mcc_count_10_norm',\n",
       " 'tr_mcc_count_11_norm',\n",
       " 'tr_mcc_count_13_norm',\n",
       " 'tr_mcc_count_15_norm',\n",
       " 'tr_mcc_count_16_norm',\n",
       " 'tr_mcc_count_17_norm',\n",
       " 'tr_mcc_count_18_norm',\n",
       " 'tr_mcc_count_20_norm',\n",
       " 'tr_mcc_count_21_norm',\n",
       " 'tr_mcc_count_22_norm',\n",
       " 'tr_mcc_count_23_norm',\n",
       " 'tr_mcc_count_24_norm',\n",
       " 'tr_mcc_count_25_norm',\n",
       " 'tr_mcc_count_26_norm',\n",
       " 'tr_mcc_count_27_norm',\n",
       " 'tr_mcc_count_28_norm',\n",
       " 'tr_mcc_count_30_norm',\n",
       " 'tr_mcc_count_31_norm',\n",
       " 'tr_mcc_count_32_norm',\n",
       " 'tr_mcc_count_33_norm',\n",
       " 'tr_mcc_count_34_norm',\n",
       " 'tr_mcc_count_37_norm',\n",
       " 'tr_mcc_count_39_norm',\n",
       " 'tr_mcc_count_44_norm',\n",
       " 'tr_mcc_count_155_norm',\n",
       " 'report_cat']"
      ]
     },
     "execution_count": 34,
     "metadata": {},
     "output_type": "execute_result"
    }
   ],
   "source": [
    "y = t[['target', 'time']]\n",
    "not_features = ['report_dt', 'target', 'time']\n",
    "features = [col for col in t.columns if col not in not_features]\n",
    "features"
   ]
  },
  {
   "cell_type": "code",
   "execution_count": 35,
   "id": "b4f14062",
   "metadata": {
    "execution": {
     "iopub.execute_input": "2024-07-19T20:30:01.958879Z",
     "iopub.status.busy": "2024-07-19T20:30:01.958260Z",
     "iopub.status.idle": "2024-07-19T20:30:01.963934Z",
     "shell.execute_reply": "2024-07-19T20:30:01.963072Z"
    },
    "papermill": {
     "duration": 0.026379,
     "end_time": "2024-07-19T20:30:01.965917",
     "exception": false,
     "start_time": "2024-07-19T20:30:01.939538",
     "status": "completed"
    },
    "tags": []
   },
   "outputs": [
    {
     "data": {
      "text/plain": [
       "320"
      ]
     },
     "execution_count": 35,
     "metadata": {},
     "output_type": "execute_result"
    }
   ],
   "source": [
    "len(features)"
   ]
  },
  {
   "cell_type": "markdown",
   "id": "b5f3818f",
   "metadata": {
    "papermill": {
     "duration": 0.017347,
     "end_time": "2024-07-19T20:30:02.001267",
     "exception": false,
     "start_time": "2024-07-19T20:30:01.983920",
     "status": "completed"
    },
    "tags": []
   },
   "source": [
    "#### Обучение моделей на кросс валидации"
   ]
  },
  {
   "cell_type": "code",
   "execution_count": 36,
   "id": "68d85613",
   "metadata": {
    "execution": {
     "iopub.execute_input": "2024-07-19T20:30:02.037834Z",
     "iopub.status.busy": "2024-07-19T20:30:02.037303Z",
     "iopub.status.idle": "2024-07-19T20:30:02.041743Z",
     "shell.execute_reply": "2024-07-19T20:30:02.040949Z"
    },
    "papermill": {
     "duration": 0.024967,
     "end_time": "2024-07-19T20:30:02.043573",
     "exception": false,
     "start_time": "2024-07-19T20:30:02.018606",
     "status": "completed"
    },
    "tags": []
   },
   "outputs": [],
   "source": [
    "target_enc_cols = ['tr_mcc_target_avg_total']\n",
    "monotone_constraints = [1 if col in target_enc_cols else 0 for col in features]"
   ]
  },
  {
   "cell_type": "code",
   "execution_count": 37,
   "id": "e9666b71",
   "metadata": {
    "execution": {
     "iopub.execute_input": "2024-07-19T20:30:02.079367Z",
     "iopub.status.busy": "2024-07-19T20:30:02.079113Z",
     "iopub.status.idle": "2024-07-19T20:30:02.082953Z",
     "shell.execute_reply": "2024-07-19T20:30:02.082129Z"
    },
    "papermill": {
     "duration": 0.023912,
     "end_time": "2024-07-19T20:30:02.084921",
     "exception": false,
     "start_time": "2024-07-19T20:30:02.061009",
     "status": "completed"
    },
    "tags": []
   },
   "outputs": [],
   "source": [
    "cat_features = [features.index('report_cat')]"
   ]
  },
  {
   "cell_type": "code",
   "execution_count": 38,
   "id": "2beca10a",
   "metadata": {
    "execution": {
     "iopub.execute_input": "2024-07-19T20:30:02.121949Z",
     "iopub.status.busy": "2024-07-19T20:30:02.121659Z",
     "iopub.status.idle": "2024-07-19T20:30:02.513506Z",
     "shell.execute_reply": "2024-07-19T20:30:02.512550Z"
    },
    "papermill": {
     "duration": 0.413731,
     "end_time": "2024-07-19T20:30:02.515836",
     "exception": false,
     "start_time": "2024-07-19T20:30:02.102105",
     "status": "completed"
    },
    "tags": []
   },
   "outputs": [],
   "source": [
    "from catboost import CatBoostClassifier\n",
    "\n",
    "params_2 = {\n",
    "    'n_estimators': 5000,\n",
    "    'depth': 7,\n",
    "    'learning_rate': 0.01,\n",
    "    'eval_metric': 'AUC',\n",
    "    'cat_features': cat_features,\n",
    "    'early_stopping_rounds': 500,\n",
    "    'metric_period': 500,\n",
    "    'task_type': 'GPU', \n",
    "    'devices': '0:1'\n",
    "}"
   ]
  },
  {
   "cell_type": "code",
   "execution_count": 39,
   "id": "09b37f70",
   "metadata": {
    "execution": {
     "iopub.execute_input": "2024-07-19T20:30:02.552711Z",
     "iopub.status.busy": "2024-07-19T20:30:02.552268Z",
     "iopub.status.idle": "2024-07-19T20:30:02.559230Z",
     "shell.execute_reply": "2024-07-19T20:30:02.558462Z"
    },
    "papermill": {
     "duration": 0.027185,
     "end_time": "2024-07-19T20:30:02.561173",
     "exception": false,
     "start_time": "2024-07-19T20:30:02.533988",
     "status": "completed"
    },
    "tags": []
   },
   "outputs": [],
   "source": [
    "from xgboost import XGBClassifier\n",
    "\n",
    "params_4 = {\n",
    "    'reg_lambda': 2.954282453141972,\n",
    "    'reg_alpha': 2.714226004554789,\n",
    "    'subsample': 0.8747340624732572,\n",
    "    'colsample_bytree': 0.28932012021539283,\n",
    "    'gamma': 2.2132144067786714,\n",
    "    'min_child_weight': 18,\n",
    "    'max_depth': 7,\n",
    "    'learning_rate': 0.004519460989612957,\n",
    "    'tree_method': 'hist',\n",
    "    'n_estimators': 5000,\n",
    "    'monotone_constraints': tuple(monotone_constraints),\n",
    "    'enable_categorical': True,\n",
    "    'early_stopping_rounds': 500,\n",
    "    'device': 'cuda'\n",
    "}"
   ]
  },
  {
   "cell_type": "code",
   "execution_count": 40,
   "id": "2e6c7195",
   "metadata": {
    "execution": {
     "iopub.execute_input": "2024-07-19T20:30:02.596894Z",
     "iopub.status.busy": "2024-07-19T20:30:02.596591Z",
     "iopub.status.idle": "2024-07-19T20:30:02.602039Z",
     "shell.execute_reply": "2024-07-19T20:30:02.601263Z"
    },
    "papermill": {
     "duration": 0.025322,
     "end_time": "2024-07-19T20:30:02.603812",
     "exception": false,
     "start_time": "2024-07-19T20:30:02.578490",
     "status": "completed"
    },
    "tags": []
   },
   "outputs": [],
   "source": [
    "from xgboost import XGBClassifier\n",
    "\n",
    "params_6 = {\n",
    "    'reg_lambda': 2.954282453141972,\n",
    "    'reg_alpha': 2.714226004554789,\n",
    "    'subsample': 0.8747340624732572,\n",
    "    'colsample_bytree': 0.28932012021539283,\n",
    "    'gamma': 2.2132144067786714,\n",
    "    'min_child_weight': 18,\n",
    "    'max_depth': 7,\n",
    "    'learning_rate': 0.004519460989612957,\n",
    "    'tree_method': 'hist',\n",
    "    'n_estimators': 5000,\n",
    "    'monotone_constraints': tuple(monotone_constraints),\n",
    "    'enable_categorical': True,\n",
    "    'early_stopping_rounds': 500,\n",
    "    'device': 'cuda'\n",
    "}"
   ]
  },
  {
   "cell_type": "code",
   "execution_count": 41,
   "id": "91df4135",
   "metadata": {
    "execution": {
     "iopub.execute_input": "2024-07-19T20:30:02.639825Z",
     "iopub.status.busy": "2024-07-19T20:30:02.639546Z",
     "iopub.status.idle": "2024-07-19T20:30:06.072834Z",
     "shell.execute_reply": "2024-07-19T20:30:06.071859Z"
    },
    "papermill": {
     "duration": 3.454051,
     "end_time": "2024-07-19T20:30:06.075216",
     "exception": false,
     "start_time": "2024-07-19T20:30:02.621165",
     "status": "completed"
    },
    "tags": []
   },
   "outputs": [
    {
     "name": "stderr",
     "output_type": "stream",
     "text": [
      "/opt/conda/lib/python3.10/site-packages/dask/dataframe/_pyarrow_compat.py:23: UserWarning: You are using pyarrow version 11.0.0 which is known to be insecure. See https://www.cve.org/CVERecord?id=CVE-2023-47248 for further details. Please upgrade to pyarrow>=14.0.1 or install pyarrow-hotfix to patch your current version.\n",
      "  warnings.warn(\n"
     ]
    }
   ],
   "source": [
    "import lightgbm as lgb\n",
    "\n",
    "params_7 = {\n",
    "    'n_estimators'     : 5000,\n",
    "    'objective'        : 'binary',\n",
    "    'verbose'          : -1,\n",
    "    'learning_rate'    : 0.005, \n",
    "    'colsample_bytree' : 0.5099540080762465, \n",
    "    'colsample_bynode' : 0.4575886155554022, \n",
    "    'lambda_l1'        : 3.2150774310219994, \n",
    "    'lambda_l2'        : 6.026390839987788, \n",
    "    'min_data_in_leaf' : 86, \n",
    "    'max_depth'        : 6, \n",
    "    'num_leaves'       : 174, \n",
    "    'max_bin'          : 255,\n",
    "    'monotone_constraints': monotone_constraints,\n",
    "    'device'           : 'gpu',\n",
    "    'early_stopping_rounds': 500\n",
    "}"
   ]
  },
  {
   "cell_type": "code",
   "execution_count": 42,
   "id": "39182ba0",
   "metadata": {
    "execution": {
     "iopub.execute_input": "2024-07-19T20:30:06.112738Z",
     "iopub.status.busy": "2024-07-19T20:30:06.112380Z",
     "iopub.status.idle": "2024-07-19T20:30:06.118241Z",
     "shell.execute_reply": "2024-07-19T20:30:06.117342Z"
    },
    "papermill": {
     "duration": 0.026848,
     "end_time": "2024-07-19T20:30:06.120322",
     "exception": false,
     "start_time": "2024-07-19T20:30:06.093474",
     "status": "completed"
    },
    "tags": []
   },
   "outputs": [],
   "source": [
    "from xgboost import XGBRegressor\n",
    "\n",
    "params_9 = {\n",
    "    'objective': 'survival:cox',\n",
    "    'reg_lambda': 2.954282453141972,\n",
    "    'reg_alpha': 2.714226004554789,\n",
    "    'subsample': 0.8747340624732572,\n",
    "    'colsample_bytree': 0.28932012021539283,\n",
    "    'gamma': 2.2132144067786714,\n",
    "    'min_child_weight': 18,\n",
    "    'max_depth': 7,\n",
    "    'learning_rate': 0.004519460989612957,\n",
    "    'tree_method': 'hist',\n",
    "    'n_estimators': 5000,\n",
    "    'monotone_constraints': tuple(monotone_constraints),\n",
    "    'enable_categorical': True,\n",
    "    'early_stopping_rounds': 500,\n",
    "    'device': 'cuda'\n",
    "}"
   ]
  },
  {
   "cell_type": "code",
   "execution_count": 43,
   "id": "c7468eb7",
   "metadata": {
    "execution": {
     "iopub.execute_input": "2024-07-19T20:30:06.159601Z",
     "iopub.status.busy": "2024-07-19T20:30:06.158988Z",
     "iopub.status.idle": "2024-07-19T20:30:06.165245Z",
     "shell.execute_reply": "2024-07-19T20:30:06.164313Z"
    },
    "papermill": {
     "duration": 0.027346,
     "end_time": "2024-07-19T20:30:06.167148",
     "exception": false,
     "start_time": "2024-07-19T20:30:06.139802",
     "status": "completed"
    },
    "tags": []
   },
   "outputs": [],
   "source": [
    "import xgboost as xgb\n",
    "\n",
    "params_10 = {\n",
    "    'objective': 'survival:aft',\n",
    "    'eval_metric': 'aft-nloglik',\n",
    "    'aft_loss_distribution': 'normal',\n",
    "    'aft_loss_distribution_scale': 1.20,\n",
    "    'reg_lambda': 2.954282453141972,\n",
    "    'reg_alpha': 2.714226004554789,\n",
    "    'subsample': 0.8747340624732572,\n",
    "    'colsample_bytree': 0.28932012021539283,\n",
    "    'gamma': 2.2132144067786714,\n",
    "    'min_child_weight': 18,\n",
    "    'max_depth': 7,\n",
    "    'learning_rate': 0.004519460989612957,\n",
    "    'tree_method': 'hist',\n",
    "    #'n_estimators': 5000,\n",
    "    'monotone_constraints': tuple(monotone_constraints),\n",
    "    'enable_categorical': True,\n",
    "    #'early_stopping_rounds': 500,\n",
    "    'device': 'cuda'\n",
    "}"
   ]
  },
  {
   "cell_type": "code",
   "execution_count": 44,
   "id": "0c56c3f0",
   "metadata": {
    "execution": {
     "iopub.execute_input": "2024-07-19T20:30:06.204818Z",
     "iopub.status.busy": "2024-07-19T20:30:06.204474Z",
     "iopub.status.idle": "2024-07-19T21:16:35.553932Z",
     "shell.execute_reply": "2024-07-19T21:16:35.552902Z"
    },
    "papermill": {
     "duration": 2789.372011,
     "end_time": "2024-07-19T21:16:35.557254",
     "exception": false,
     "start_time": "2024-07-19T20:30:06.185243",
     "status": "completed"
    },
    "tags": []
   },
   "outputs": [
    {
     "name": "stderr",
     "output_type": "stream",
     "text": [
      "  0%|          | 0/5 [00:00<?, ?it/s]"
     ]
    },
    {
     "name": "stdout",
     "output_type": "stream",
     "text": [
      "Training until validation scores don't improve for 500 rounds\n",
      "Early stopping, best iteration is:\n",
      "[3174]    valid_0's binary_logloss: 0.24513332420748826\n"
     ]
    },
    {
     "name": "stderr",
     "output_type": "stream",
     "text": [
      "/opt/conda/lib/python3.10/site-packages/xgboost/core.py:160: UserWarning: [20:31:21] WARNING: /workspace/src/common/error_msg.cc:58: Falling back to prediction using DMatrix due to mismatched devices. This might lead to higher memory usage and slower performance. XGBoost is running on: cuda:0, while the input data is on: cpu.\n",
      "Potential solutions:\n",
      "- Use a data structure that matches the device ordinal in the booster.\n",
      "- Set the device for booster before call to inplace_predict.\n",
      "\n",
      "This warning will only be shown once.\n",
      "\n",
      "  warnings.warn(smsg, UserWarning)\n"
     ]
    },
    {
     "name": "stdout",
     "output_type": "stream",
     "text": [
      "0.9120124935780548\n",
      "0.7815923620813752\n",
      "Training until validation scores don't improve for 500 rounds\n",
      "Early stopping, best iteration is:\n",
      "[3023]    valid_0's multi_logloss: 0.38962079009394257\n"
     ]
    },
    {
     "name": "stderr",
     "output_type": "stream",
     "text": [
      "1 warning generated.\n",
      "1 warning generated.\n",
      "1 warning generated.\n",
      "1 warning generated.\n",
      "1 warning generated.\n",
      "1 warning generated.\n",
      "1 warning generated.\n",
      "1 warning generated.\n",
      "1 warning generated.\n",
      "1 warning generated.\n",
      "1 warning generated.\n",
      "1 warning generated.\n",
      "1 warning generated.\n",
      "1 warning generated.\n",
      "1 warning generated.\n",
      "1 warning generated.\n",
      "1 warning generated.\n",
      "1 warning generated.\n",
      "1 warning generated.\n",
      "1 warning generated.\n",
      "1 warning generated.\n",
      "1 warning generated.\n",
      "1 warning generated.\n",
      "1 warning generated.\n",
      "1 warning generated.\n",
      "1 warning generated.\n",
      "1 warning generated.\n",
      "1 warning generated.\n",
      "1 warning generated.\n",
      "1 warning generated.\n",
      "1 warning generated.\n",
      "1 warning generated.\n",
      "1 warning generated.\n"
     ]
    },
    {
     "name": "stdout",
     "output_type": "stream",
     "text": [
      "Training until validation scores don't improve for 500 rounds\n",
      "Early stopping, best iteration is:\n",
      "[3341]    valid_0's loss: OrderedDict([('binary_logloss', 0.48406043832718565)])\n",
      "0.7876718052725646\n",
      "0.7178141750285787\n",
      "0:\ttest: 0.6905281\tbest: 0.6905281 (0)\ttotal: 14s\tremaining: 19h 23m 45s\n",
      "500:\ttest: 0.7604392\tbest: 0.7604392 (500)\ttotal: 28.6s\tremaining: 4m 16s\n",
      "1000:\ttest: 0.7658992\tbest: 0.7658992 (1000)\ttotal: 43.2s\tremaining: 2m 52s\n",
      "1500:\ttest: 0.7682393\tbest: 0.7682393 (1500)\ttotal: 57.9s\tremaining: 2m 15s\n",
      "2000:\ttest: 0.7697569\tbest: 0.7697569 (2000)\ttotal: 1m 12s\tremaining: 1m 48s\n",
      "2500:\ttest: 0.7706514\tbest: 0.7706562 (2392)\ttotal: 1m 26s\tremaining: 1m 26s\n",
      "3000:\ttest: 0.7717797\tbest: 0.7718287 (2982)\ttotal: 1m 41s\tremaining: 1m 7s\n",
      "3500:\ttest: 0.7724468\tbest: 0.7725148 (3473)\ttotal: 1m 55s\tremaining: 49.4s\n",
      "4000:\ttest: 0.7724873\tbest: 0.7725885 (3729)\ttotal: 2m 9s\tremaining: 32.4s\n",
      "4500:\ttest: 0.7727691\tbest: 0.7728045 (4493)\ttotal: 2m 24s\tremaining: 16s\n",
      "4999:\ttest: 0.7727680\tbest: 0.7728359 (4896)\ttotal: 2m 38s\tremaining: 0us\n",
      "bestTest = 0.7728359103\n",
      "bestIteration = 4896\n",
      "Shrink model to first 4897 iterations.\n",
      "Training until validation scores don't improve for 500 rounds\n",
      "Early stopping, best iteration is:\n",
      "[4896]    valid_0's binary_logloss: {'learn': {'Logloss': 0.16563993021335455}, 'validation': {'Logloss': 0.24604283235730662, 'AUC': 0.772835910320282}}\n"
     ]
    },
    {
     "name": "stderr",
     "output_type": "stream",
     "text": [
      " 20%|██        | 1/5 [10:06<40:26, 606.56s/it]"
     ]
    },
    {
     "name": "stdout",
     "output_type": "stream",
     "text": [
      "0.9237793235062315\n",
      "0.7766923663152546\n",
      "Training until validation scores don't improve for 500 rounds\n",
      "Early stopping, best iteration is:\n",
      "[4266]    valid_0's binary_logloss: 0.23708506292395912\n",
      "0.9282017552001716\n",
      "0.7893336545854875\n",
      "Training until validation scores don't improve for 500 rounds\n",
      "Early stopping, best iteration is:\n",
      "[3416]    valid_0's multi_logloss: 0.3835124594341208\n",
      "Training until validation scores don't improve for 500 rounds\n",
      "Early stopping, best iteration is:\n",
      "[3100]    valid_0's loss: OrderedDict([('binary_logloss', 0.4837137846984212)])\n",
      "0.7827817857834894\n",
      "0.7260708419472077\n",
      "0:\ttest: 0.6820309\tbest: 0.6820309 (0)\ttotal: 32.3ms\tremaining: 2m 41s\n",
      "500:\ttest: 0.7726827\tbest: 0.7726827 (500)\ttotal: 14.5s\tremaining: 2m 10s\n",
      "1000:\ttest: 0.7793486\tbest: 0.7793608 (993)\ttotal: 28.9s\tremaining: 1m 55s\n",
      "1500:\ttest: 0.7827524\tbest: 0.7827654 (1492)\ttotal: 43.4s\tremaining: 1m 41s\n",
      "2000:\ttest: 0.7848925\tbest: 0.7848925 (2000)\ttotal: 57.8s\tremaining: 1m 26s\n",
      "2500:\ttest: 0.7859178\tbest: 0.7859709 (2484)\ttotal: 1m 12s\tremaining: 1m 12s\n",
      "3000:\ttest: 0.7866964\tbest: 0.7866964 (3000)\ttotal: 1m 27s\tremaining: 58.1s\n",
      "3500:\ttest: 0.7870806\tbest: 0.7870806 (3500)\ttotal: 1m 41s\tremaining: 43.5s\n",
      "4000:\ttest: 0.7874449\tbest: 0.7876134 (3794)\ttotal: 1m 56s\tremaining: 29s\n",
      "4500:\ttest: 0.7879112\tbest: 0.7879468 (4493)\ttotal: 2m 10s\tremaining: 14.5s\n",
      "4999:\ttest: 0.7881607\tbest: 0.7882352 (4647)\ttotal: 2m 24s\tremaining: 0us\n",
      "bestTest = 0.7882351875\n",
      "bestIteration = 4647\n",
      "Shrink model to first 4648 iterations.\n",
      "Training until validation scores don't improve for 500 rounds\n",
      "Early stopping, best iteration is:\n",
      "[4647]    valid_0's binary_logloss: {'learn': {'Logloss': 0.16691522588215776}, 'validation': {'Logloss': 0.23868155109529265, 'AUC': 0.7882351875305176}}\n"
     ]
    },
    {
     "name": "stderr",
     "output_type": "stream",
     "text": [
      " 40%|████      | 2/5 [19:55<29:49, 596.40s/it]"
     ]
    },
    {
     "name": "stdout",
     "output_type": "stream",
     "text": [
      "0.9198906298306875\n",
      "0.7836205943268039\n",
      "Training until validation scores don't improve for 500 rounds\n",
      "Early stopping, best iteration is:\n",
      "[2496]    valid_0's binary_logloss: 0.24048369545747356\n",
      "0.8981236734964685\n",
      "0.7789795957299398\n",
      "Training until validation scores don't improve for 500 rounds\n",
      "Early stopping, best iteration is:\n",
      "[2451]    valid_0's multi_logloss: 0.38548902530169593\n",
      "Training until validation scores don't improve for 500 rounds\n",
      "Early stopping, best iteration is:\n",
      "[3764]    valid_0's loss: OrderedDict([('binary_logloss', 0.47317936542734595)])\n",
      "0.7906271589458967\n",
      "0.7288155360684125\n",
      "0:\ttest: 0.6533149\tbest: 0.6533149 (0)\ttotal: 32.4ms\tremaining: 2m 41s\n",
      "500:\ttest: 0.7727019\tbest: 0.7727631 (496)\ttotal: 14.5s\tremaining: 2m 10s\n",
      "1000:\ttest: 0.7766750\tbest: 0.7767013 (999)\ttotal: 29.4s\tremaining: 1m 57s\n",
      "1500:\ttest: 0.7782897\tbest: 0.7783176 (1498)\ttotal: 43.8s\tremaining: 1m 42s\n",
      "2000:\ttest: 0.7787382\tbest: 0.7787434 (1978)\ttotal: 58.4s\tremaining: 1m 27s\n",
      "2500:\ttest: 0.7790940\tbest: 0.7792120 (2457)\ttotal: 1m 12s\tremaining: 1m 12s\n",
      "3000:\ttest: 0.7790696\tbest: 0.7793400 (2620)\ttotal: 1m 27s\tremaining: 58.3s\n",
      "bestTest = 0.7793400288\n",
      "bestIteration = 2620\n",
      "Shrink model to first 2621 iterations.\n",
      "Training until validation scores don't improve for 500 rounds\n",
      "Early stopping, best iteration is:\n",
      "[2620]    valid_0's binary_logloss: {'learn': {'Logloss': 0.1917919125909153}, 'validation': {'Logloss': 0.24092357883891358, 'AUC': 0.7793400287628174}}\n"
     ]
    },
    {
     "name": "stderr",
     "output_type": "stream",
     "text": [
      " 60%|██████    | 3/5 [28:07<18:17, 548.67s/it]"
     ]
    },
    {
     "name": "stdout",
     "output_type": "stream",
     "text": [
      "0.8776129308554296\n",
      "0.779251395417602\n",
      "Training until validation scores don't improve for 500 rounds\n",
      "Early stopping, best iteration is:\n",
      "[3044]    valid_0's binary_logloss: 0.23947152861216317\n",
      "0.9117303056887054\n",
      "0.7831731263707352\n",
      "Training until validation scores don't improve for 500 rounds\n",
      "Early stopping, best iteration is:\n",
      "[4176]    valid_0's multi_logloss: 0.3771466228257635\n",
      "Training until validation scores don't improve for 500 rounds\n",
      "Early stopping, best iteration is:\n",
      "[2289]    valid_0's loss: OrderedDict([('binary_logloss', 0.4758872520455349)])\n",
      "0.7718818994354747\n",
      "0.7216489348684922\n",
      "0:\ttest: 0.6560220\tbest: 0.6560220 (0)\ttotal: 32ms\tremaining: 2m 39s\n",
      "500:\ttest: 0.7715079\tbest: 0.7715079 (500)\ttotal: 14.2s\tremaining: 2m 7s\n",
      "1000:\ttest: 0.7763521\tbest: 0.7763650 (999)\ttotal: 28.6s\tremaining: 1m 54s\n",
      "1500:\ttest: 0.7779423\tbest: 0.7779423 (1500)\ttotal: 43.3s\tremaining: 1m 40s\n",
      "2000:\ttest: 0.7789743\tbest: 0.7789835 (1996)\ttotal: 57.9s\tremaining: 1m 26s\n",
      "2500:\ttest: 0.7798244\tbest: 0.7799873 (2431)\ttotal: 1m 12s\tremaining: 1m 12s\n",
      "3000:\ttest: 0.7801491\tbest: 0.7802477 (2974)\ttotal: 1m 26s\tremaining: 57.9s\n",
      "3500:\ttest: 0.7807065\tbest: 0.7807623 (3450)\ttotal: 1m 41s\tremaining: 43.4s\n",
      "bestTest = 0.7807622552\n",
      "bestIteration = 3450\n",
      "Shrink model to first 3451 iterations.\n",
      "Training until validation scores don't improve for 500 rounds\n",
      "Early stopping, best iteration is:\n",
      "[3450]    valid_0's binary_logloss: {'learn': {'Logloss': 0.18597277510762156}, 'validation': {'Logloss': 0.2400951419518224, 'AUC': 0.780762255191803}}\n"
     ]
    },
    {
     "name": "stderr",
     "output_type": "stream",
     "text": [
      " 80%|████████  | 4/5 [36:54<09:00, 540.03s/it]"
     ]
    },
    {
     "name": "stdout",
     "output_type": "stream",
     "text": [
      "0.8964165476666618\n",
      "0.7806657201223146\n",
      "Training until validation scores don't improve for 500 rounds\n",
      "Early stopping, best iteration is:\n",
      "[2471]    valid_0's binary_logloss: 0.2463550038874677\n",
      "0.8980055265669813\n",
      "0.7734085688463588\n",
      "Training until validation scores don't improve for 500 rounds\n",
      "Early stopping, best iteration is:\n",
      "[4236]    valid_0's multi_logloss: 0.39250465331793877\n",
      "Training until validation scores don't improve for 500 rounds\n",
      "Early stopping, best iteration is:\n",
      "[3605]    valid_0's loss: OrderedDict([('binary_logloss', 0.48183710245659717)])\n",
      "0.789995626711855\n",
      "0.712824155773613\n",
      "0:\ttest: 0.6537481\tbest: 0.6537481 (0)\ttotal: 32.4ms\tremaining: 2m 41s\n",
      "500:\ttest: 0.7630348\tbest: 0.7630348 (500)\ttotal: 14.6s\tremaining: 2m 10s\n",
      "1000:\ttest: 0.7667739\tbest: 0.7668019 (998)\ttotal: 29.2s\tremaining: 1m 56s\n",
      "1500:\ttest: 0.7691048\tbest: 0.7691312 (1496)\ttotal: 43.5s\tremaining: 1m 41s\n",
      "2000:\ttest: 0.7700667\tbest: 0.7700667 (2000)\ttotal: 57.9s\tremaining: 1m 26s\n",
      "2500:\ttest: 0.7706015\tbest: 0.7706065 (2464)\ttotal: 1m 12s\tremaining: 1m 12s\n",
      "3000:\ttest: 0.7708183\tbest: 0.7708495 (2945)\ttotal: 1m 26s\tremaining: 57.7s\n",
      "3500:\ttest: 0.7708021\tbest: 0.7710804 (3377)\ttotal: 1m 41s\tremaining: 43.3s\n",
      "4000:\ttest: 0.7712157\tbest: 0.7713465 (3961)\ttotal: 1m 55s\tremaining: 28.9s\n",
      "4500:\ttest: 0.7709261\tbest: 0.7714075 (4266)\ttotal: 2m 9s\tremaining: 14.4s\n",
      "bestTest = 0.7714075446\n",
      "bestIteration = 4266\n",
      "Shrink model to first 4267 iterations.\n",
      "Training until validation scores don't improve for 500 rounds\n",
      "Early stopping, best iteration is:\n",
      "[4266]    valid_0's binary_logloss: {'learn': {'Logloss': 0.17226062492054878}, 'validation': {'Logloss': 0.24725635873630322, 'AUC': 0.7714075446128845}}\n"
     ]
    },
    {
     "name": "stderr",
     "output_type": "stream",
     "text": [
      "100%|██████████| 5/5 [46:29<00:00, 557.86s/it]"
     ]
    },
    {
     "name": "stdout",
     "output_type": "stream",
     "text": [
      "0.9127700259232739\n",
      "0.7713581695926693\n"
     ]
    },
    {
     "name": "stderr",
     "output_type": "stream",
     "text": [
      "\n"
     ]
    }
   ],
   "source": [
    "p_train = defaultdict(list)\n",
    "p_valid = defaultdict(list)\n",
    "valid_loss = defaultdict(list)\n",
    "n_iter = defaultdict(list)\n",
    "for i in tqdm(range(5)):\n",
    "    train_mask = t['target'].notnull() & (t['user_id'] % 5 != i)\n",
    "    valid_mask = t['target'].notnull() & (t['user_id'] % 5 == i)\n",
    "    X_train = t.loc[train_mask, features]\n",
    "    y_train = np.array(list(y.loc[train_mask].itertuples(index = False, name = None)), dtype=[('target', np.bool_), ('time', 'f8')])\n",
    "    X_valid = t.loc[valid_mask, features]\n",
    "    y_valid = np.array(list(y.loc[valid_mask].itertuples(index = False, name = None)), dtype=[('target', np.bool_), ('time', 'f8')])\n",
    "    y_train_cbt = np.where(y.loc[train_mask]['target'], y.loc[train_mask]['time'], -y.loc[train_mask]['time'])\n",
    "    y_valid_cbt = np.where(y.loc[valid_mask]['target'], y.loc[valid_mask]['time'], -y.loc[valid_mask]['time'])\n",
    "    y_train_cbt_2 = y.loc[train_mask].copy()\n",
    "    y_train_cbt_2['y_lower'] = np.where(y_train_cbt_2['target'], y_train_cbt_2['time'], 91)\n",
    "    y_train_cbt_2['y_upper'] = np.where(y_train_cbt_2['target'], y_train_cbt_2['time'], +np.inf)\n",
    "    y_train_cbt_2 = y_train_cbt_2[['y_lower', 'y_upper']]\n",
    "    y_valid_cbt_2 = y.loc[valid_mask].copy()\n",
    "    y_valid_cbt_2['y_lower'] = np.where(y_valid_cbt_2['target'], y_valid_cbt_2['time'], 91)\n",
    "    y_valid_cbt_2['y_upper'] = np.where(y_valid_cbt_2['target'], y_valid_cbt_2['time'], +np.inf)\n",
    "    y_valid_cbt_2 = y_valid_cbt_2[['y_lower', 'y_upper']]\n",
    "    y_train_lgb = y.loc[train_mask]['target']\n",
    "    y_valid_lgb = y.loc[valid_mask]['target']\n",
    "    y_2 = y.copy()\n",
    "    y_2['target_2'] = y_2['target']\n",
    "    y_2.loc[(y_2['target'] == 1), 'target_2'] = 2\n",
    "    y_2.loc[(y_2['target'] == 0) & (y_2['time'] < 45), 'target_2'] = 1\n",
    "    y_train_lgb_2 = y_2.loc[train_mask]['target_2']\n",
    "    y_valid_lgb_2 = y_2.loc[valid_mask]['target_2']\n",
    "    y_train_lgb_3 = y.loc[train_mask]['time'] + 60*(1-y.loc[train_mask]['target'])\n",
    "    y_valid_lgb_3 = y.loc[valid_mask]['time'] + 60*(1-y.loc[valid_mask]['target'])\n",
    "    y_train_lgb_4 = (y.loc[train_mask]['time'] <= 80).map(int)\n",
    "    y_valid_lgb_4 = (y.loc[valid_mask]['time'] <= 80).map(int)\n",
    "    \n",
    "    \n",
    "    \n",
    "    model_4 = XGBClassifier(**params_4)\n",
    "    model_4.fit(X_train, y_train_lgb, eval_set=[(X_valid, y_valid_lgb)], verbose=False)\n",
    "    if params_4.get('early_stopping_rounds') is not None:\n",
    "        print(f\"Training until validation scores don't improve for {params_4.get('early_stopping_rounds')} rounds\")\n",
    "        print('Early stopping, best iteration is:')\n",
    "        print(f\"[{model_4.best_iteration}]    valid_0's binary_logloss: {model_4.best_score}\")\n",
    "    \n",
    "    p_train['xgb'].append(model_4.predict_proba(X_train)[:, 1])\n",
    "    p_valid['xgb'].append(model_4.predict_proba(X_valid)[:, 1])\n",
    "    valid_loss['xgb'].append(model_4.best_score)\n",
    "    n_iter['xgb'].append(model_4.best_iteration) \n",
    "    print(c_index(y_train, p_train['xgb'][-1]))\n",
    "    print(c_index(y_valid, p_valid['xgb'][-1]))\n",
    "    \n",
    "    \n",
    "    \n",
    "    model_6 = XGBClassifier(**params_6)\n",
    "    model_6.fit(X_train, y_train_lgb_2, eval_set=[(X_valid, y_valid_lgb_2)], verbose=False)\n",
    "    if params_6.get('early_stopping_rounds') is not None:\n",
    "        print(f\"Training until validation scores don't improve for {params_6.get('early_stopping_rounds')} rounds\")\n",
    "        print('Early stopping, best iteration is:')\n",
    "        print(f\"[{model_6.best_iteration}]    valid_0's multi_logloss: {model_6.best_score}\")\n",
    "    \n",
    "    p_train['xgb_multi'].append(model_6.predict_proba(X_train))\n",
    "    p_valid['xgb_multi'].append(model_6.predict_proba(X_valid))\n",
    "    valid_loss['xgb_multi'].append(model_6.best_score)\n",
    "    n_iter['xgb_multi'].append(model_6.best_iteration) \n",
    "    \n",
    "    \n",
    "    \n",
    "    model_7 = lgb.LGBMClassifier(**params_7, random_state=100)\n",
    "    model_7.fit(X_train, y_train_lgb_4, eval_set=(X_valid, y_valid_lgb_4))\n",
    "    if params_7.get('early_stopping_rounds') is not None:\n",
    "        print(f\"Training until validation scores don't improve for {params_7.get('early_stopping_rounds')} rounds\")\n",
    "        print('Early stopping, best iteration is:')\n",
    "        print(f\"[{model_7.best_iteration_}]    valid_0's loss: {model_7.best_score_['valid_0']}\")\n",
    "        \n",
    "    p_train['lgb_2'].append(model_7.predict_proba(X_train)[:, 1])\n",
    "    p_valid['lgb_2'].append(model_7.predict_proba(X_valid)[:, 1])\n",
    "    valid_loss['lgb_2'].append(model_7.best_score_['valid_0'])\n",
    "    n_iter['lgb_2'].append(model_7.best_iteration_)\n",
    "    print(c_index(y_train, p_train['lgb_2'][-1]))\n",
    "    print(c_index(y_valid, p_valid['lgb_2'][-1]))\n",
    "    \n",
    "        \n",
    "    \n",
    "    #model_9 = XGBRegressor(**params_9)\n",
    "    #model_9.fit(X_train, y_train_cbt, eval_set=[(X_valid, y_valid_cbt)], verbose=False)\n",
    "    #if params_9.get('early_stopping_rounds') is not None:\n",
    "    #    print(f\"Training until validation scores don't improve for {params_9.get('early_stopping_rounds')} rounds\")\n",
    "    #    print('Early stopping, best iteration is:')\n",
    "    #    print(f\"[{model_9.best_iteration}]    valid_0's loss: {model_9.best_score}\")\n",
    "    \n",
    "    #p_train['xgb_cox'].append(model_9.predict(X_train))\n",
    "    #p_valid['xgb_cox'].append(model_9.predict(X_valid))\n",
    "    #valid_loss['xgb_cox'].append(model_9.best_score)\n",
    "    #n_iter['xgb_cox'].append(model_9.best_iteration) \n",
    "    #print(c_index(y_train, p_train['xgb_cox'][-1]))\n",
    "    #print(c_index(y_valid, p_valid['xgb_cox'][-1]))\n",
    "    \n",
    "    \n",
    "    \n",
    "    #dtrain = xgb.DMatrix(X_train)\n",
    "    #dtrain.set_float_info('label_lower_bound', y_train_cbt_2['y_lower'])\n",
    "    #dtrain.set_float_info('label_upper_bound', y_train_cbt_2['y_upper'])\n",
    "    #dvalid = xgb.DMatrix(X_valid)\n",
    "    #dvalid.set_float_info('label_lower_bound', y_valid_cbt_2['y_lower'])\n",
    "    #dvalid.set_float_info('label_upper_bound', y_valid_cbt_2['y_upper'])\n",
    "\n",
    "    #model_10 = xgb.train(params_10, dtrain, num_boost_round=5000, early_stopping_rounds=500, verbose_eval=False,\n",
    "    #                evals=[(dvalid, 'valid')])\n",
    "\n",
    "    #print(f\"[{model_10.best_iteration}]    valid_0's loss: {model_10.best_score}\")\n",
    "\n",
    "    #p_train['xgb_aft'].append(model_10.predict(dtrain, iteration_range=(0,model_10.best_iteration)))\n",
    "    #p_valid['xgb_aft'].append(model_10.predict(dvalid, iteration_range=(0,model_10.best_iteration)))\n",
    "    #valid_loss['xgb_aft'].append(model_10.best_score)\n",
    "    #n_iter['xgb_aft'].append(model_10.best_iteration) \n",
    "    #print(c_index(y_train, p_train['xgb_aft'][-1]))\n",
    "    #print(c_index(y_valid, p_valid['xgb_aft'][-1]))\n",
    "    \n",
    "    \n",
    "    \n",
    "    model_2 = CatBoostClassifier(**params_2)\n",
    "    model_2.fit(X_train, y_train_lgb, eval_set=(X_valid, y_valid_lgb))\n",
    "    if params_2.get('early_stopping_rounds') is not None:\n",
    "        print(f\"Training until validation scores don't improve for {params_2.get('early_stopping_rounds')} rounds\")\n",
    "        print('Early stopping, best iteration is:')\n",
    "        print(f\"[{model_2.best_iteration_}]    valid_0's binary_logloss: {model_2.best_score_}\")\n",
    "        \n",
    "    p_train['cat'].append(model_2.predict_proba(X_train)[:, 1])\n",
    "    p_valid['cat'].append(model_2.predict_proba(X_valid)[:, 1])\n",
    "    valid_loss['cat'].append(model_2.best_score_)\n",
    "    n_iter['cat'].append(model_2.best_iteration_)\n",
    "    print(c_index(y_train, p_train['cat'][-1]))\n",
    "    print(c_index(y_valid, p_valid['cat'][-1]))\n",
    "    "
   ]
  },
  {
   "cell_type": "markdown",
   "id": "45fd3a2c",
   "metadata": {
    "papermill": {
     "duration": 0.02556,
     "end_time": "2024-07-19T21:16:35.609198",
     "exception": false,
     "start_time": "2024-07-19T21:16:35.583638",
     "status": "completed"
    },
    "tags": []
   },
   "source": [
    "#### Blending / взвешивание на кросс валидации"
   ]
  },
  {
   "cell_type": "code",
   "execution_count": 45,
   "id": "dd99cf0f",
   "metadata": {
    "execution": {
     "iopub.execute_input": "2024-07-19T21:16:35.662002Z",
     "iopub.status.busy": "2024-07-19T21:16:35.661669Z",
     "iopub.status.idle": "2024-07-19T21:16:35.672487Z",
     "shell.execute_reply": "2024-07-19T21:16:35.671528Z"
    },
    "papermill": {
     "duration": 0.039432,
     "end_time": "2024-07-19T21:16:35.674396",
     "exception": false,
     "start_time": "2024-07-19T21:16:35.634964",
     "status": "completed"
    },
    "tags": []
   },
   "outputs": [],
   "source": [
    " def objective():\n",
    "    res = pd.DataFrame(columns=['train_score', 'valid_score'])\n",
    "    for i in range(5):\n",
    "        train_mask = ((t['target'].notnull()) & (t['user_id'] % 5 != i))\n",
    "        valid_mask = ((t['target'].notnull()) & (t['user_id'] % 5 == i))\n",
    "        X_train = t.loc[train_mask, features]\n",
    "        y_train = np.array(list(y.loc[train_mask].itertuples(index = False, name = None)), dtype=[('target', np.bool_), ('time', 'f8')])\n",
    "        X_valid = t.loc[valid_mask, features]\n",
    "        y_valid = np.array(list(y.loc[valid_mask].itertuples(index = False, name = None)), dtype=[('target', np.bool_), ('time', 'f8')])\n",
    "\n",
    "        #a = trial.suggest_float('a', 0.0, 0.1)\n",
    "        #b = trial.suggest_float('b', 0.0, 2.0)\n",
    "        #c = trial.suggest_float('c', 0.0, 2.0)\n",
    "        #d = trial.suggest_float('d', -0.2, 0.0)\n",
    "        a = 0.03\n",
    "        b = 1.6\n",
    "        c = 0.0\n",
    "        d = -0.08\n",
    "\n",
    "        q_train = a*p_train['lgb_2'][i] + p_train['xgb'][i] + c*p_train['cat'][i] + b*p_train['xgb_multi'][i][:, 2] + d*p_train['xgb_multi'][i][:, 0]\n",
    "        q_valid = a*p_valid['lgb_2'][i] + p_valid['xgb'][i] + c*p_valid['cat'][i] + b*p_valid['xgb_multi'][i][:, 2] + d*p_valid['xgb_multi'][i][:, 0]\n",
    "\n",
    "        res.loc[i] = [c_index(y_train, q_train), c_index(y_valid, q_valid)]\n",
    "        \n",
    "    return res.mean()['valid_score']"
   ]
  },
  {
   "cell_type": "code",
   "execution_count": 46,
   "id": "81600f43",
   "metadata": {
    "execution": {
     "iopub.execute_input": "2024-07-19T21:16:35.729883Z",
     "iopub.status.busy": "2024-07-19T21:16:35.729562Z",
     "iopub.status.idle": "2024-07-19T21:16:46.131008Z",
     "shell.execute_reply": "2024-07-19T21:16:46.130045Z"
    },
    "papermill": {
     "duration": 10.43035,
     "end_time": "2024-07-19T21:16:46.133391",
     "exception": false,
     "start_time": "2024-07-19T21:16:35.703041",
     "status": "completed"
    },
    "tags": []
   },
   "outputs": [
    {
     "data": {
      "text/plain": [
       "0.7828618127416399"
      ]
     },
     "execution_count": 46,
     "metadata": {},
     "output_type": "execute_result"
    }
   ],
   "source": [
    "objective()"
   ]
  },
  {
   "cell_type": "code",
   "execution_count": 47,
   "id": "a61570b2",
   "metadata": {
    "execution": {
     "iopub.execute_input": "2024-07-19T21:16:46.190048Z",
     "iopub.status.busy": "2024-07-19T21:16:46.189351Z",
     "iopub.status.idle": "2024-07-19T21:16:46.193530Z",
     "shell.execute_reply": "2024-07-19T21:16:46.192596Z"
    },
    "papermill": {
     "duration": 0.03443,
     "end_time": "2024-07-19T21:16:46.195415",
     "exception": false,
     "start_time": "2024-07-19T21:16:46.160985",
     "status": "completed"
    },
    "tags": []
   },
   "outputs": [],
   "source": [
    "#import optuna\n",
    "#study = optuna.create_study(direction='maximize', study_name='Blend')\n",
    "#study.optimize(objective, n_trials=100, show_progress_bar=False, n_jobs=-1)"
   ]
  },
  {
   "cell_type": "code",
   "execution_count": 48,
   "id": "95535e8a",
   "metadata": {
    "execution": {
     "iopub.execute_input": "2024-07-19T21:16:46.248970Z",
     "iopub.status.busy": "2024-07-19T21:16:46.248437Z",
     "iopub.status.idle": "2024-07-19T21:16:46.252470Z",
     "shell.execute_reply": "2024-07-19T21:16:46.251580Z"
    },
    "papermill": {
     "duration": 0.032979,
     "end_time": "2024-07-19T21:16:46.254587",
     "exception": false,
     "start_time": "2024-07-19T21:16:46.221608",
     "status": "completed"
    },
    "tags": []
   },
   "outputs": [],
   "source": [
    "#study.best_params"
   ]
  },
  {
   "cell_type": "markdown",
   "id": "04e14f3d",
   "metadata": {
    "papermill": {
     "duration": 0.025477,
     "end_time": "2024-07-19T21:16:46.305631",
     "exception": false,
     "start_time": "2024-07-19T21:16:46.280154",
     "status": "completed"
    },
    "tags": []
   },
   "source": [
    "#### Обучение на всем train"
   ]
  },
  {
   "cell_type": "code",
   "execution_count": 49,
   "id": "cb476c85",
   "metadata": {
    "execution": {
     "iopub.execute_input": "2024-07-19T21:16:46.359152Z",
     "iopub.status.busy": "2024-07-19T21:16:46.358837Z",
     "iopub.status.idle": "2024-07-19T21:16:46.364646Z",
     "shell.execute_reply": "2024-07-19T21:16:46.363823Z"
    },
    "papermill": {
     "duration": 0.035262,
     "end_time": "2024-07-19T21:16:46.366486",
     "exception": false,
     "start_time": "2024-07-19T21:16:46.331224",
     "status": "completed"
    },
    "tags": []
   },
   "outputs": [
    {
     "data": {
      "text/plain": [
       "3090.2"
      ]
     },
     "execution_count": 49,
     "metadata": {},
     "output_type": "execute_result"
    }
   ],
   "source": [
    "sum(n_iter['xgb']) / len(n_iter['xgb'])"
   ]
  },
  {
   "cell_type": "code",
   "execution_count": 50,
   "id": "581b49c2",
   "metadata": {
    "execution": {
     "iopub.execute_input": "2024-07-19T21:16:46.420134Z",
     "iopub.status.busy": "2024-07-19T21:16:46.419439Z",
     "iopub.status.idle": "2024-07-19T21:25:15.039287Z",
     "shell.execute_reply": "2024-07-19T21:25:15.038371Z"
    },
    "papermill": {
     "duration": 508.649328,
     "end_time": "2024-07-19T21:25:15.041528",
     "exception": false,
     "start_time": "2024-07-19T21:16:46.392200",
     "status": "completed"
    },
    "tags": []
   },
   "outputs": [
    {
     "name": "stdout",
     "output_type": "stream",
     "text": [
      "0.8975431657965194\n",
      "0.8972407807273804\n",
      "0.7741848609854237\n",
      "0.7702093230026673\n",
      "0:\ttest: 0.6665691\tbest: 0.6665691 (0)\ttotal: 31.6ms\tremaining: 1m 38s\n",
      "500:\ttest: 0.7861946\tbest: 0.7861946 (500)\ttotal: 14s\tremaining: 1m 12s\n",
      "1000:\ttest: 0.8087493\tbest: 0.8087493 (1000)\ttotal: 28.1s\tremaining: 58.9s\n",
      "1500:\ttest: 0.8279983\tbest: 0.8279983 (1500)\ttotal: 41.9s\tremaining: 44.7s\n",
      "2000:\ttest: 0.8446789\tbest: 0.8446789 (2000)\ttotal: 56s\tremaining: 30.7s\n",
      "2500:\ttest: 0.8604990\tbest: 0.8604990 (2500)\ttotal: 1m 10s\tremaining: 16.8s\n",
      "3000:\ttest: 0.8747840\tbest: 0.8747840 (3000)\ttotal: 1m 24s\tremaining: 2.78s\n",
      "3099:\ttest: 0.8774666\tbest: 0.8774666 (3099)\ttotal: 1m 27s\tremaining: 0us\n",
      "bestTest = 0.877466619\n",
      "bestIteration = 3099\n",
      "0.8724022369821283\n",
      "0.8709696854227529\n"
     ]
    }
   ],
   "source": [
    "p_train_2 = defaultdict(list)\n",
    "p_valid_2 = defaultdict(list)\n",
    "train_mask = t['target'].notnull() & (t['user_id'] % 5 != -1)\n",
    "valid_mask = t['target'].notnull() & (t['user_id'] % 5 == 0)\n",
    "X_train = t.loc[train_mask, features]\n",
    "y_train = np.array(list(y.loc[train_mask].itertuples(index = False, name = None)), dtype=[('target', np.bool_), ('time', 'f8')])\n",
    "X_valid = t.loc[valid_mask, features]\n",
    "y_valid = np.array(list(y.loc[valid_mask].itertuples(index = False, name = None)), dtype=[('target', np.bool_), ('time', 'f8')])\n",
    "y_train_cbt = np.where(y.loc[train_mask]['target'], y.loc[train_mask]['time'], -y.loc[train_mask]['time'])\n",
    "y_valid_cbt = np.where(y.loc[valid_mask]['target'], y.loc[valid_mask]['time'], -y.loc[valid_mask]['time'])\n",
    "y_train_cbt_2 = y.loc[train_mask].copy()\n",
    "y_train_cbt_2['y_lower'] = np.where(y_train_cbt_2['target'], y_train_cbt_2['time'], 91)\n",
    "y_train_cbt_2['y_upper'] = np.where(y_train_cbt_2['target'], y_train_cbt_2['time'], +np.inf)\n",
    "y_train_cbt_2 = y_train_cbt_2[['y_lower', 'y_upper']]\n",
    "y_valid_cbt_2 = y.loc[valid_mask].copy()\n",
    "y_valid_cbt_2['y_lower'] = np.where(y_valid_cbt_2['target'], y_valid_cbt_2['time'], 91)\n",
    "y_valid_cbt_2['y_upper'] = np.where(y_valid_cbt_2['target'], y_valid_cbt_2['time'], +np.inf)\n",
    "y_valid_cbt_2 = y_valid_cbt_2[['y_lower', 'y_upper']]\n",
    "y_train_lgb = y.loc[train_mask]['target']\n",
    "y_valid_lgb = y.loc[valid_mask]['target']\n",
    "y_2 = y.copy()\n",
    "y_2['target_2'] = y_2['target']\n",
    "y_2.loc[(y_2['target'] == 1), 'target_2'] = 2\n",
    "y_2.loc[(y_2['target'] == 0) & (y_2['time'] < 45), 'target_2'] = 1\n",
    "y_train_lgb_2 = y_2.loc[train_mask]['target_2']\n",
    "y_valid_lgb_2 = y_2.loc[valid_mask]['target_2']\n",
    "y_train_lgb_3 = y.loc[train_mask]['time'] + 60*(1-y.loc[train_mask]['target'])\n",
    "y_valid_lgb_3 = y.loc[valid_mask]['time'] + 60*(1-y.loc[valid_mask]['target'])\n",
    "y_train_lgb_4 = (y.loc[train_mask]['time'] <= 80).map(int)\n",
    "y_valid_lgb_4 = (y.loc[valid_mask]['time'] <= 80).map(int)\n",
    "\n",
    "\n",
    "\n",
    "params_14 = params_4.copy()\n",
    "params_14.pop('early_stopping_rounds', None)\n",
    "params_14['n_estimators'] = 2900\n",
    "model_4 = XGBClassifier(**params_14)\n",
    "model_4.fit(X_train, y_train_lgb, eval_set=[(X_valid, y_valid_lgb)], verbose=False)\n",
    "\n",
    "p_train_2['xgb'].append(model_4.predict_proba(X_train)[:, 1])\n",
    "p_valid_2['xgb'].append(model_4.predict_proba(X_valid)[:, 1])\n",
    "print(c_index(y_train, p_train_2['xgb'][-1]))\n",
    "print(c_index(y_valid, p_valid_2['xgb'][-1]))\n",
    "\n",
    "\n",
    "\n",
    "params_16 = params_6.copy()\n",
    "params_16.pop('early_stopping_rounds', None)\n",
    "params_16['n_estimators'] = 3400\n",
    "model_6 = XGBClassifier(**params_16)\n",
    "model_6.fit(X_train, y_train_lgb_2, eval_set=[(X_valid, y_valid_lgb_2)], verbose=False)\n",
    "p_train_2['xgb_multi'].append(model_6.predict_proba(X_train))\n",
    "p_valid_2['xgb_multi'].append(model_6.predict_proba(X_valid))\n",
    "\n",
    "\n",
    "\n",
    "#params_19 = params_9.copy()\n",
    "#params_19.pop('early_stopping_rounds', None)\n",
    "#params_19['n_estimators'] = 2500\n",
    "#model_9 = XGBRegressor(**params_19)\n",
    "#model_9.fit(X_train, y_train_cbt, eval_set=[(X_valid, y_valid_cbt)], verbose=False)\n",
    "\n",
    "#p_train_2['xgb_cox'].append(model_9.predict(X_train))\n",
    "#p_valid_2['xgb_cox'].append(model_9.predict(X_valid))\n",
    "#print(c_index(y_train, p_train_2['xgb_cox'][-1]))\n",
    "#print(c_index(y_valid, p_valid_2['xgb_cox'][-1]))\n",
    "\n",
    "\n",
    "\n",
    "params_17 = params_7.copy()\n",
    "params_17.pop('early_stopping_rounds', None)\n",
    "params_17['n_estimators'] = 3000\n",
    "model_7 = lgb.LGBMClassifier(**params_17, random_state=100)\n",
    "model_7.fit(X_train, y_train_lgb_4, eval_set=(X_valid, y_valid_lgb_4))\n",
    "\n",
    "p_train_2['lgb_2'].append(model_7.predict_proba(X_train)[:, 1])\n",
    "p_valid_2['lgb_2'].append(model_7.predict_proba(X_valid)[:, 1])\n",
    "print(c_index(y_train, p_train_2['lgb_2'][-1]))\n",
    "print(c_index(y_valid, p_valid_2['lgb_2'][-1]))\n",
    "\n",
    "\n",
    "\n",
    "params_12 = params_2.copy()\n",
    "params_12.pop('early_stopping_rounds', None)\n",
    "params_12['n_estimators'] = 3100\n",
    "model_2 = CatBoostClassifier(**params_12)\n",
    "model_2.fit(X_train, y_train_lgb, eval_set=(X_valid, y_valid_lgb))\n",
    "\n",
    "p_train_2['cat'].append(model_2.predict_proba(X_train)[:, 1])\n",
    "p_valid_2['cat'].append(model_2.predict_proba(X_valid)[:, 1])\n",
    "print(c_index(y_train, p_train_2['cat'][-1]))\n",
    "print(c_index(y_valid, p_valid_2['cat'][-1]))"
   ]
  },
  {
   "cell_type": "markdown",
   "id": "acfe5beb",
   "metadata": {
    "papermill": {
     "duration": 0.026509,
     "end_time": "2024-07-19T21:25:15.095311",
     "exception": false,
     "start_time": "2024-07-19T21:25:15.068802",
     "status": "completed"
    },
    "tags": []
   },
   "source": [
    "#### predict and submission"
   ]
  },
  {
   "cell_type": "code",
   "execution_count": 51,
   "id": "0d5c4d88",
   "metadata": {
    "execution": {
     "iopub.execute_input": "2024-07-19T21:25:15.150944Z",
     "iopub.status.busy": "2024-07-19T21:25:15.150145Z",
     "iopub.status.idle": "2024-07-19T21:25:15.154198Z",
     "shell.execute_reply": "2024-07-19T21:25:15.153344Z"
    },
    "papermill": {
     "duration": 0.033741,
     "end_time": "2024-07-19T21:25:15.156286",
     "exception": false,
     "start_time": "2024-07-19T21:25:15.122545",
     "status": "completed"
    },
    "tags": []
   },
   "outputs": [],
   "source": [
    "#study.best_params"
   ]
  },
  {
   "cell_type": "code",
   "execution_count": 52,
   "id": "a55e325d",
   "metadata": {
    "execution": {
     "iopub.execute_input": "2024-07-19T21:25:15.212378Z",
     "iopub.status.busy": "2024-07-19T21:25:15.212102Z",
     "iopub.status.idle": "2024-07-19T21:25:15.216307Z",
     "shell.execute_reply": "2024-07-19T21:25:15.215454Z"
    },
    "papermill": {
     "duration": 0.033563,
     "end_time": "2024-07-19T21:25:15.218189",
     "exception": false,
     "start_time": "2024-07-19T21:25:15.184626",
     "status": "completed"
    },
    "tags": []
   },
   "outputs": [],
   "source": [
    "a = 0.03\n",
    "b = 1.6\n",
    "c = 0.0\n",
    "d = -0.08"
   ]
  },
  {
   "cell_type": "code",
   "execution_count": 53,
   "id": "23501fcf",
   "metadata": {
    "execution": {
     "iopub.execute_input": "2024-07-19T21:25:15.272493Z",
     "iopub.status.busy": "2024-07-19T21:25:15.272230Z",
     "iopub.status.idle": "2024-07-19T21:26:03.526040Z",
     "shell.execute_reply": "2024-07-19T21:26:03.525072Z"
    },
    "papermill": {
     "duration": 48.283707,
     "end_time": "2024-07-19T21:26:03.528515",
     "exception": false,
     "start_time": "2024-07-19T21:25:15.244808",
     "status": "completed"
    },
    "tags": []
   },
   "outputs": [],
   "source": [
    "X = t.loc[:, features]\n",
    "p = a*model_7.predict_proba(X)[:, 1] + model_4.predict_proba(X)[:, 1] + c*model_2.predict_proba(X)[:, 1] + b*model_6.predict_proba(X)[:, 2] \\\n",
    "                                                                                                         + d*model_6.predict_proba(X)[:, 0]\n",
    "t['predict'] = p"
   ]
  },
  {
   "cell_type": "code",
   "execution_count": 54,
   "id": "8a0c6757",
   "metadata": {
    "execution": {
     "iopub.execute_input": "2024-07-19T21:26:03.585111Z",
     "iopub.status.busy": "2024-07-19T21:26:03.584483Z",
     "iopub.status.idle": "2024-07-19T21:26:03.599250Z",
     "shell.execute_reply": "2024-07-19T21:26:03.598282Z"
    },
    "papermill": {
     "duration": 0.045102,
     "end_time": "2024-07-19T21:26:03.601297",
     "exception": false,
     "start_time": "2024-07-19T21:26:03.556195",
     "status": "completed"
    },
    "tags": []
   },
   "outputs": [
    {
     "data": {
      "text/html": [
       "<div>\n",
       "<style scoped>\n",
       "    .dataframe tbody tr th:only-of-type {\n",
       "        vertical-align: middle;\n",
       "    }\n",
       "\n",
       "    .dataframe tbody tr th {\n",
       "        vertical-align: top;\n",
       "    }\n",
       "\n",
       "    .dataframe thead th {\n",
       "        text-align: right;\n",
       "    }\n",
       "</style>\n",
       "<table border=\"1\" class=\"dataframe\">\n",
       "  <thead>\n",
       "    <tr style=\"text-align: right;\">\n",
       "      <th></th>\n",
       "      <th>predict</th>\n",
       "    </tr>\n",
       "    <tr>\n",
       "      <th>report</th>\n",
       "      <th></th>\n",
       "    </tr>\n",
       "  </thead>\n",
       "  <tbody>\n",
       "    <tr>\n",
       "      <th>1</th>\n",
       "      <td>0.158992</td>\n",
       "    </tr>\n",
       "    <tr>\n",
       "      <th>2</th>\n",
       "      <td>0.192558</td>\n",
       "    </tr>\n",
       "    <tr>\n",
       "      <th>3</th>\n",
       "      <td>0.195048</td>\n",
       "    </tr>\n",
       "    <tr>\n",
       "      <th>4</th>\n",
       "      <td>0.172557</td>\n",
       "    </tr>\n",
       "    <tr>\n",
       "      <th>5</th>\n",
       "      <td>0.179762</td>\n",
       "    </tr>\n",
       "    <tr>\n",
       "      <th>6</th>\n",
       "      <td>0.197858</td>\n",
       "    </tr>\n",
       "    <tr>\n",
       "      <th>7</th>\n",
       "      <td>0.175738</td>\n",
       "    </tr>\n",
       "    <tr>\n",
       "      <th>8</th>\n",
       "      <td>0.133188</td>\n",
       "    </tr>\n",
       "    <tr>\n",
       "      <th>9</th>\n",
       "      <td>0.113857</td>\n",
       "    </tr>\n",
       "    <tr>\n",
       "      <th>10</th>\n",
       "      <td>0.109258</td>\n",
       "    </tr>\n",
       "    <tr>\n",
       "      <th>11</th>\n",
       "      <td>0.112196</td>\n",
       "    </tr>\n",
       "    <tr>\n",
       "      <th>12</th>\n",
       "      <td>0.112766</td>\n",
       "    </tr>\n",
       "  </tbody>\n",
       "</table>\n",
       "</div>"
      ],
      "text/plain": [
       "         predict\n",
       "report          \n",
       "1       0.158992\n",
       "2       0.192558\n",
       "3       0.195048\n",
       "4       0.172557\n",
       "5       0.179762\n",
       "6       0.197858\n",
       "7       0.175738\n",
       "8       0.133188\n",
       "9       0.113857\n",
       "10      0.109258\n",
       "11      0.112196\n",
       "12      0.112766"
      ]
     },
     "execution_count": 54,
     "metadata": {},
     "output_type": "execute_result"
    }
   ],
   "source": [
    "oot_mask = t['target'].isnull()\n",
    "t[['predict', 'report']][oot_mask].groupby('report').mean()"
   ]
  },
  {
   "cell_type": "code",
   "execution_count": 55,
   "id": "89578721",
   "metadata": {
    "execution": {
     "iopub.execute_input": "2024-07-19T21:26:03.657221Z",
     "iopub.status.busy": "2024-07-19T21:26:03.656917Z",
     "iopub.status.idle": "2024-07-19T21:26:03.668890Z",
     "shell.execute_reply": "2024-07-19T21:26:03.668058Z"
    },
    "papermill": {
     "duration": 0.042449,
     "end_time": "2024-07-19T21:26:03.670950",
     "exception": false,
     "start_time": "2024-07-19T21:26:03.628501",
     "status": "completed"
    },
    "tags": []
   },
   "outputs": [
    {
     "data": {
      "text/html": [
       "<div>\n",
       "<style scoped>\n",
       "    .dataframe tbody tr th:only-of-type {\n",
       "        vertical-align: middle;\n",
       "    }\n",
       "\n",
       "    .dataframe tbody tr th {\n",
       "        vertical-align: top;\n",
       "    }\n",
       "\n",
       "    .dataframe thead th {\n",
       "        text-align: right;\n",
       "    }\n",
       "</style>\n",
       "<table border=\"1\" class=\"dataframe\">\n",
       "  <thead>\n",
       "    <tr style=\"text-align: right;\">\n",
       "      <th></th>\n",
       "      <th>user_id</th>\n",
       "      <th>predict</th>\n",
       "    </tr>\n",
       "  </thead>\n",
       "  <tbody>\n",
       "    <tr>\n",
       "      <th>101</th>\n",
       "      <td>61</td>\n",
       "      <td>-0.045540</td>\n",
       "    </tr>\n",
       "    <tr>\n",
       "      <th>102</th>\n",
       "      <td>269</td>\n",
       "      <td>-0.005166</td>\n",
       "    </tr>\n",
       "    <tr>\n",
       "      <th>103</th>\n",
       "      <td>327</td>\n",
       "      <td>-0.044868</td>\n",
       "    </tr>\n",
       "    <tr>\n",
       "      <th>104</th>\n",
       "      <td>430</td>\n",
       "      <td>-0.071323</td>\n",
       "    </tr>\n",
       "    <tr>\n",
       "      <th>105</th>\n",
       "      <td>553</td>\n",
       "      <td>-0.014400</td>\n",
       "    </tr>\n",
       "    <tr>\n",
       "      <th>...</th>\n",
       "      <td>...</td>\n",
       "      <td>...</td>\n",
       "    </tr>\n",
       "    <tr>\n",
       "      <th>95981</th>\n",
       "      <td>186965</td>\n",
       "      <td>-0.027191</td>\n",
       "    </tr>\n",
       "    <tr>\n",
       "      <th>95982</th>\n",
       "      <td>547496</td>\n",
       "      <td>0.387591</td>\n",
       "    </tr>\n",
       "    <tr>\n",
       "      <th>95983</th>\n",
       "      <td>340116</td>\n",
       "      <td>0.358893</td>\n",
       "    </tr>\n",
       "    <tr>\n",
       "      <th>95986</th>\n",
       "      <td>266840</td>\n",
       "      <td>-0.018759</td>\n",
       "    </tr>\n",
       "    <tr>\n",
       "      <th>95997</th>\n",
       "      <td>255712</td>\n",
       "      <td>0.075826</td>\n",
       "    </tr>\n",
       "  </tbody>\n",
       "</table>\n",
       "<p>32000 rows × 2 columns</p>\n",
       "</div>"
      ],
      "text/plain": [
       "       user_id   predict\n",
       "101         61 -0.045540\n",
       "102        269 -0.005166\n",
       "103        327 -0.044868\n",
       "104        430 -0.071323\n",
       "105        553 -0.014400\n",
       "...        ...       ...\n",
       "95981   186965 -0.027191\n",
       "95982   547496  0.387591\n",
       "95983   340116  0.358893\n",
       "95986   266840 -0.018759\n",
       "95997   255712  0.075826\n",
       "\n",
       "[32000 rows x 2 columns]"
      ]
     },
     "execution_count": 55,
     "metadata": {},
     "output_type": "execute_result"
    }
   ],
   "source": [
    "t[['user_id', 'predict']][oot_mask]"
   ]
  },
  {
   "cell_type": "code",
   "execution_count": 56,
   "id": "ef2a1ee2",
   "metadata": {
    "execution": {
     "iopub.execute_input": "2024-07-19T21:26:03.728132Z",
     "iopub.status.busy": "2024-07-19T21:26:03.727871Z",
     "iopub.status.idle": "2024-07-19T21:26:03.737768Z",
     "shell.execute_reply": "2024-07-19T21:26:03.736886Z"
    },
    "papermill": {
     "duration": 0.039995,
     "end_time": "2024-07-19T21:26:03.739660",
     "exception": false,
     "start_time": "2024-07-19T21:26:03.699665",
     "status": "completed"
    },
    "tags": []
   },
   "outputs": [
    {
     "data": {
      "text/html": [
       "<div>\n",
       "<style scoped>\n",
       "    .dataframe tbody tr th:only-of-type {\n",
       "        vertical-align: middle;\n",
       "    }\n",
       "\n",
       "    .dataframe tbody tr th {\n",
       "        vertical-align: top;\n",
       "    }\n",
       "\n",
       "    .dataframe thead th {\n",
       "        text-align: right;\n",
       "    }\n",
       "</style>\n",
       "<table border=\"1\" class=\"dataframe\">\n",
       "  <thead>\n",
       "    <tr style=\"text-align: right;\">\n",
       "      <th></th>\n",
       "      <th>user_id</th>\n",
       "      <th>predict</th>\n",
       "    </tr>\n",
       "  </thead>\n",
       "  <tbody>\n",
       "    <tr>\n",
       "      <th>0</th>\n",
       "      <td>9</td>\n",
       "      <td>-3.184396</td>\n",
       "    </tr>\n",
       "    <tr>\n",
       "      <th>1</th>\n",
       "      <td>61</td>\n",
       "      <td>-2.623560</td>\n",
       "    </tr>\n",
       "    <tr>\n",
       "      <th>2</th>\n",
       "      <td>62</td>\n",
       "      <td>-2.840654</td>\n",
       "    </tr>\n",
       "    <tr>\n",
       "      <th>3</th>\n",
       "      <td>80</td>\n",
       "      <td>-3.269438</td>\n",
       "    </tr>\n",
       "    <tr>\n",
       "      <th>4</th>\n",
       "      <td>88</td>\n",
       "      <td>-2.068500</td>\n",
       "    </tr>\n",
       "    <tr>\n",
       "      <th>...</th>\n",
       "      <td>...</td>\n",
       "      <td>...</td>\n",
       "    </tr>\n",
       "    <tr>\n",
       "      <th>31995</th>\n",
       "      <td>561362</td>\n",
       "      <td>-2.438619</td>\n",
       "    </tr>\n",
       "    <tr>\n",
       "      <th>31996</th>\n",
       "      <td>561419</td>\n",
       "      <td>-2.438619</td>\n",
       "    </tr>\n",
       "    <tr>\n",
       "      <th>31997</th>\n",
       "      <td>561895</td>\n",
       "      <td>-2.437339</td>\n",
       "    </tr>\n",
       "    <tr>\n",
       "      <th>31998</th>\n",
       "      <td>561908</td>\n",
       "      <td>-2.437339</td>\n",
       "    </tr>\n",
       "    <tr>\n",
       "      <th>31999</th>\n",
       "      <td>562205</td>\n",
       "      <td>-2.359733</td>\n",
       "    </tr>\n",
       "  </tbody>\n",
       "</table>\n",
       "<p>32000 rows × 2 columns</p>\n",
       "</div>"
      ],
      "text/plain": [
       "       user_id   predict\n",
       "0            9 -3.184396\n",
       "1           61 -2.623560\n",
       "2           62 -2.840654\n",
       "3           80 -3.269438\n",
       "4           88 -2.068500\n",
       "...        ...       ...\n",
       "31995   561362 -2.438619\n",
       "31996   561419 -2.438619\n",
       "31997   561895 -2.437339\n",
       "31998   561908 -2.437339\n",
       "31999   562205 -2.359733\n",
       "\n",
       "[32000 rows x 2 columns]"
      ]
     },
     "execution_count": 56,
     "metadata": {},
     "output_type": "execute_result"
    }
   ],
   "source": [
    "sample_submission"
   ]
  },
  {
   "cell_type": "code",
   "execution_count": 57,
   "id": "9a17e47c",
   "metadata": {
    "execution": {
     "iopub.execute_input": "2024-07-19T21:26:03.795462Z",
     "iopub.status.busy": "2024-07-19T21:26:03.795197Z",
     "iopub.status.idle": "2024-07-19T21:26:03.896653Z",
     "shell.execute_reply": "2024-07-19T21:26:03.895891Z"
    },
    "papermill": {
     "duration": 0.131689,
     "end_time": "2024-07-19T21:26:03.898926",
     "exception": false,
     "start_time": "2024-07-19T21:26:03.767237",
     "status": "completed"
    },
    "tags": []
   },
   "outputs": [],
   "source": [
    "t[['user_id', 'predict']][oot_mask].sort_values(by='user_id').to_csv('submission.csv', index=False)"
   ]
  },
  {
   "cell_type": "code",
   "execution_count": null,
   "id": "a5c53aba",
   "metadata": {
    "papermill": {
     "duration": 0.027193,
     "end_time": "2024-07-19T21:26:03.953936",
     "exception": false,
     "start_time": "2024-07-19T21:26:03.926743",
     "status": "completed"
    },
    "tags": []
   },
   "outputs": [],
   "source": []
  }
 ],
 "metadata": {
  "kaggle": {
   "accelerator": "gpu",
   "dataSources": [
    {
     "datasetId": 4484768,
     "sourceId": 7685719,
     "sourceType": "datasetVersion"
    }
   ],
   "dockerImageVersionId": 30648,
   "isGpuEnabled": true,
   "isInternetEnabled": true,
   "language": "python",
   "sourceType": "notebook"
  },
  "kernelspec": {
   "display_name": "Python 3",
   "language": "python",
   "name": "python3"
  },
  "language_info": {
   "codemirror_mode": {
    "name": "ipython",
    "version": 3
   },
   "file_extension": ".py",
   "mimetype": "text/x-python",
   "name": "python",
   "nbconvert_exporter": "python",
   "pygments_lexer": "ipython3",
   "version": "3.10.13"
  },
  "papermill": {
   "default_parameters": {},
   "duration": 3476.087024,
   "end_time": "2024-07-19T21:26:04.910815",
   "environment_variables": {},
   "exception": null,
   "input_path": "__notebook__.ipynb",
   "output_path": "__notebook__.ipynb",
   "parameters": {},
   "start_time": "2024-07-19T20:28:08.823791",
   "version": "2.5.0"
  },
  "widgets": {
   "application/vnd.jupyter.widget-state+json": {
    "state": {
     "0b28ca1e340b4a50959e48f2df4c58fe": {
      "model_module": "@jupyter-widgets/controls",
      "model_module_version": "1.5.0",
      "model_name": "FloatProgressModel",
      "state": {
       "_dom_classes": [],
       "_model_module": "@jupyter-widgets/controls",
       "_model_module_version": "1.5.0",
       "_model_name": "FloatProgressModel",
       "_view_count": null,
       "_view_module": "@jupyter-widgets/controls",
       "_view_module_version": "1.5.0",
       "_view_name": "ProgressView",
       "bar_style": "",
       "description": "",
       "description_tooltip": null,
       "layout": "IPY_MODEL_1d01cc28b6664e3882f5a224a1ffb7be",
       "max": 100.0,
       "min": 0.0,
       "orientation": "horizontal",
       "style": "IPY_MODEL_18b700506f104814813fa2e82604a43a",
       "value": 100.0
      }
     },
     "163453b24a4b4cfc804be9e91d68fdde": {
      "model_module": "@jupyter-widgets/controls",
      "model_module_version": "1.5.0",
      "model_name": "FloatProgressModel",
      "state": {
       "_dom_classes": [],
       "_model_module": "@jupyter-widgets/controls",
       "_model_module_version": "1.5.0",
       "_model_name": "FloatProgressModel",
       "_view_count": null,
       "_view_module": "@jupyter-widgets/controls",
       "_view_module_version": "1.5.0",
       "_view_name": "ProgressView",
       "bar_style": "",
       "description": "",
       "description_tooltip": null,
       "layout": "IPY_MODEL_503131eab02f4ce99a7776356f852c9a",
       "max": 100.0,
       "min": 0.0,
       "orientation": "horizontal",
       "style": "IPY_MODEL_8855daea5ae541da91f3976218a70a5c",
       "value": 100.0
      }
     },
     "18b700506f104814813fa2e82604a43a": {
      "model_module": "@jupyter-widgets/controls",
      "model_module_version": "1.5.0",
      "model_name": "ProgressStyleModel",
      "state": {
       "_model_module": "@jupyter-widgets/controls",
       "_model_module_version": "1.5.0",
       "_model_name": "ProgressStyleModel",
       "_view_count": null,
       "_view_module": "@jupyter-widgets/base",
       "_view_module_version": "1.2.0",
       "_view_name": "StyleView",
       "bar_color": "black",
       "description_width": ""
      }
     },
     "1d01cc28b6664e3882f5a224a1ffb7be": {
      "model_module": "@jupyter-widgets/base",
      "model_module_version": "1.2.0",
      "model_name": "LayoutModel",
      "state": {
       "_model_module": "@jupyter-widgets/base",
       "_model_module_version": "1.2.0",
       "_model_name": "LayoutModel",
       "_view_count": null,
       "_view_module": "@jupyter-widgets/base",
       "_view_module_version": "1.2.0",
       "_view_name": "LayoutView",
       "align_content": null,
       "align_items": null,
       "align_self": null,
       "border": null,
       "bottom": null,
       "display": null,
       "flex": null,
       "flex_flow": null,
       "grid_area": null,
       "grid_auto_columns": null,
       "grid_auto_flow": null,
       "grid_auto_rows": null,
       "grid_column": null,
       "grid_gap": null,
       "grid_row": null,
       "grid_template_areas": null,
       "grid_template_columns": null,
       "grid_template_rows": null,
       "height": null,
       "justify_content": null,
       "justify_items": null,
       "left": null,
       "margin": null,
       "max_height": null,
       "max_width": null,
       "min_height": null,
       "min_width": null,
       "object_fit": null,
       "object_position": null,
       "order": null,
       "overflow": null,
       "overflow_x": null,
       "overflow_y": null,
       "padding": null,
       "right": null,
       "top": null,
       "visibility": null,
       "width": "auto"
      }
     },
     "2ef5a545151f4c85b479a812c8d6bcfa": {
      "model_module": "@jupyter-widgets/controls",
      "model_module_version": "1.5.0",
      "model_name": "ProgressStyleModel",
      "state": {
       "_model_module": "@jupyter-widgets/controls",
       "_model_module_version": "1.5.0",
       "_model_name": "ProgressStyleModel",
       "_view_count": null,
       "_view_module": "@jupyter-widgets/base",
       "_view_module_version": "1.2.0",
       "_view_name": "StyleView",
       "bar_color": "black",
       "description_width": ""
      }
     },
     "503131eab02f4ce99a7776356f852c9a": {
      "model_module": "@jupyter-widgets/base",
      "model_module_version": "1.2.0",
      "model_name": "LayoutModel",
      "state": {
       "_model_module": "@jupyter-widgets/base",
       "_model_module_version": "1.2.0",
       "_model_name": "LayoutModel",
       "_view_count": null,
       "_view_module": "@jupyter-widgets/base",
       "_view_module_version": "1.2.0",
       "_view_name": "LayoutView",
       "align_content": null,
       "align_items": null,
       "align_self": null,
       "border": null,
       "bottom": null,
       "display": null,
       "flex": null,
       "flex_flow": null,
       "grid_area": null,
       "grid_auto_columns": null,
       "grid_auto_flow": null,
       "grid_auto_rows": null,
       "grid_column": null,
       "grid_gap": null,
       "grid_row": null,
       "grid_template_areas": null,
       "grid_template_columns": null,
       "grid_template_rows": null,
       "height": null,
       "justify_content": null,
       "justify_items": null,
       "left": null,
       "margin": null,
       "max_height": null,
       "max_width": null,
       "min_height": null,
       "min_width": null,
       "object_fit": null,
       "object_position": null,
       "order": null,
       "overflow": null,
       "overflow_x": null,
       "overflow_y": null,
       "padding": null,
       "right": null,
       "top": null,
       "visibility": null,
       "width": "auto"
      }
     },
     "6179a3ae5a9a40c989f98cc4f53ae301": {
      "model_module": "@jupyter-widgets/controls",
      "model_module_version": "1.5.0",
      "model_name": "FloatProgressModel",
      "state": {
       "_dom_classes": [],
       "_model_module": "@jupyter-widgets/controls",
       "_model_module_version": "1.5.0",
       "_model_name": "FloatProgressModel",
       "_view_count": null,
       "_view_module": "@jupyter-widgets/controls",
       "_view_module_version": "1.5.0",
       "_view_name": "ProgressView",
       "bar_style": "",
       "description": "",
       "description_tooltip": null,
       "layout": "IPY_MODEL_f8ce39a295074d888c699e3ae83c2631",
       "max": 100.0,
       "min": 0.0,
       "orientation": "horizontal",
       "style": "IPY_MODEL_2ef5a545151f4c85b479a812c8d6bcfa",
       "value": 100.0
      }
     },
     "8855daea5ae541da91f3976218a70a5c": {
      "model_module": "@jupyter-widgets/controls",
      "model_module_version": "1.5.0",
      "model_name": "ProgressStyleModel",
      "state": {
       "_model_module": "@jupyter-widgets/controls",
       "_model_module_version": "1.5.0",
       "_model_name": "ProgressStyleModel",
       "_view_count": null,
       "_view_module": "@jupyter-widgets/base",
       "_view_module_version": "1.2.0",
       "_view_name": "StyleView",
       "bar_color": "black",
       "description_width": ""
      }
     },
     "f8ce39a295074d888c699e3ae83c2631": {
      "model_module": "@jupyter-widgets/base",
      "model_module_version": "1.2.0",
      "model_name": "LayoutModel",
      "state": {
       "_model_module": "@jupyter-widgets/base",
       "_model_module_version": "1.2.0",
       "_model_name": "LayoutModel",
       "_view_count": null,
       "_view_module": "@jupyter-widgets/base",
       "_view_module_version": "1.2.0",
       "_view_name": "LayoutView",
       "align_content": null,
       "align_items": null,
       "align_self": null,
       "border": null,
       "bottom": null,
       "display": null,
       "flex": null,
       "flex_flow": null,
       "grid_area": null,
       "grid_auto_columns": null,
       "grid_auto_flow": null,
       "grid_auto_rows": null,
       "grid_column": null,
       "grid_gap": null,
       "grid_row": null,
       "grid_template_areas": null,
       "grid_template_columns": null,
       "grid_template_rows": null,
       "height": null,
       "justify_content": null,
       "justify_items": null,
       "left": null,
       "margin": null,
       "max_height": null,
       "max_width": null,
       "min_height": null,
       "min_width": null,
       "object_fit": null,
       "object_position": null,
       "order": null,
       "overflow": null,
       "overflow_x": null,
       "overflow_y": null,
       "padding": null,
       "right": null,
       "top": null,
       "visibility": null,
       "width": "auto"
      }
     }
    },
    "version_major": 2,
    "version_minor": 0
   }
  }
 },
 "nbformat": 4,
 "nbformat_minor": 5
}
